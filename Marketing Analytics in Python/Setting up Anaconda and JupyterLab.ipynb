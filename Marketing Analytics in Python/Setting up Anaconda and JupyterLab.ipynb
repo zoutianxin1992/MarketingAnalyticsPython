{
 "cells": [
  {
   "cell_type": "markdown",
   "id": "d00f3cc9-e8c8-40b2-8c9d-e6ae907b9b6f",
   "metadata": {},
   "source": [
    "# Setting up Anaconda and JupyterLab"
   ]
  },
  {
   "cell_type": "markdown",
   "id": "e3291b9e-1591-4676-93b4-53a134722019",
   "metadata": {},
   "source": [
    "## Install Anaconda"
   ]
  },
  {
   "cell_type": "markdown",
   "id": "34c56b9a-5845-4806-be02-3af29c20e654",
   "metadata": {},
   "source": [
    "You can download Anaconda from: https://www.anaconda.com/products/individual <br>\n",
    "After installing Anaconda, use Anaconda Navigator to access JupyterLab. <br>\n",
    "To keep all packages up-to-date, open **cmd** or **powershell** from Anaconda Navigator and run:"
   ]
  },
  {
   "cell_type": "markdown",
   "id": "d503a977-65a3-467b-b6b5-70cd35a05363",
   "metadata": {},
   "source": [
    "    conda update --all"
   ]
  },
  {
   "cell_type": "markdown",
   "id": "5fe1e552-1b27-44ec-ad72-719e1c63a550",
   "metadata": {},
   "source": [
    "For the class, version 4.13 or higher is required for Anaconda, and 3.2.1 is required for JupyterLab. <br>\n",
    "It is highly recommended you run all the data analytses under Anaconda, because there's no guarantee that many packages will run properly outside Anaconda."
   ]
  },
  {
   "cell_type": "markdown",
   "id": "cae67d9d-561e-454e-b2c4-a024bace2e8d",
   "metadata": {},
   "source": [
    "## Change working directory for JupyterLab"
   ]
  },
  {
   "cell_type": "markdown",
   "id": "95bdae28-1f7d-441b-bb72-7ccab5ae0c9f",
   "metadata": {},
   "source": [
    "Code files must be under your working directory to be accessed by JupyterLab. You can specify the directory every time you open JupyterLab. For example, if the directory is `'D:/class/marketing analytics'`:\n",
    "- Start Anaconda\n",
    "- In your Anaconda cmd, run"
   ]
  },
  {
   "cell_type": "markdown",
   "id": "089b1c14-a1a2-400c-a0b1-5d1af0fb4e52",
   "metadata": {},
   "source": [
    "        jupyter lab --notebook-dir D:/class/marketing analytics"
   ]
  },
  {
   "cell_type": "markdown",
   "id": "a449f7c7-2583-4a19-82bf-07f0dd2e28f7",
   "metadata": {},
   "source": [
    "The JupyterLab will run with the directory of D:/class/marketing analytics"
   ]
  },
  {
   "cell_type": "markdown",
   "id": "43cea157-41c1-4a69-a933-7e565c35b0b8",
   "metadata": {},
   "source": [
    "## Change default working directory for JupyterLab"
   ]
  },
  {
   "cell_type": "markdown",
   "id": "b9bb1038-c07c-4e1e-8637-2a037aec02ce",
   "metadata": {},
   "source": [
    "If you want to permenantly change JupyterLab's working directory:"
   ]
  },
  {
   "cell_type": "markdown",
   "id": "498687c9-4096-4f50-9cfc-47448688cdfc",
   "metadata": {},
   "source": [
    "- Restart Anaconda\n",
    "- In your Anaconda cmd, run"
   ]
  },
  {
   "cell_type": "markdown",
   "id": "fb706604-b123-43ad-974c-b3068e0f77b6",
   "metadata": {},
   "source": [
    "    jupyter lab --generate-config"
   ]
  },
  {
   "cell_type": "markdown",
   "id": "dd7a3064-7d6c-4256-8c01-8a3eeffd1082",
   "metadata": {},
   "source": [
    "This will show you the directory for JupyterLab configs \".../jupyter_lab_config.py\". \n",
    "- Open that file with your text editor, search for the line with \"c.ServerApp.root_dir.\"\n",
    "- Remove the \"#\" in the beginning, and change the directory to your path. For example (the directory formats are different on Windows versus on Mac/Linux):"
   ]
  },
  {
   "cell_type": "markdown",
   "id": "1501fff4-a326-4d3a-92b5-329ae0c43266",
   "metadata": {},
   "source": [
    "    ## The directory to use for notebooks and kernels.\n",
    "    # Default: ''\n",
    "    c.ServerApp.root_dir = \"C:/\""
   ]
  },
  {
   "cell_type": "markdown",
   "id": "31708ece-4e9b-47fe-8af8-c38014e2fcaa",
   "metadata": {},
   "source": [
    "- Restart your Anaconda and open JupyterLab. The default working directory should be set."
   ]
  }
 ],
 "metadata": {
  "kernelspec": {
   "display_name": "Python 3 (ipykernel)",
   "language": "python",
   "name": "python3"
  },
  "language_info": {
   "codemirror_mode": {
    "name": "ipython",
    "version": 3
   },
   "file_extension": ".py",
   "mimetype": "text/x-python",
   "name": "python",
   "nbconvert_exporter": "python",
   "pygments_lexer": "ipython3",
   "version": "3.7.11"
  }
 },
 "nbformat": 4,
 "nbformat_minor": 5
}
