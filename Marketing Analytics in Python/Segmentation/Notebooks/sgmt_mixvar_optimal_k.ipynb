{
 "cells": [
  {
   "cell_type": "markdown",
   "id": "0e833c04-624f-4308-a31f-82641f790c52",
   "metadata": {},
   "source": [
    "# Consumer segmentation - choosing optimal cluster numbers for mixed variables"
   ]
  },
  {
   "cell_type": "markdown",
   "id": "6c415d94-ab52-45ca-ac2c-b711838da071",
   "metadata": {},
   "source": [
    "In this exercise, you will \n",
    "- use elbow chart to determine how many consumer segments to generate\n",
    "- segment consumers using the optimal number of segments\n",
    "- because the data have mixed data types, k-prototypes algorithm should be used\n",
    "- Comparable to SSE for k-means, a \"clustering cost\" is used to measure the fitting error for k-prototype"
   ]
  },
  {
   "cell_type": "markdown",
   "id": "fe57d6ae-39c8-43d6-a8b9-3366cd21d1b1",
   "metadata": {},
   "source": [
    "We will use \"MallCustomersAllVariables.csv\" for analysis."
   ]
  },
  {
   "cell_type": "markdown",
   "id": "96f52cf4-3462-4da3-bbb9-754bd8f27f0e",
   "metadata": {},
   "source": [
    "## Load and preprocess data"
   ]
  },
  {
   "cell_type": "code",
   "execution_count": 7,
   "id": "0e98ac27-bf11-45ec-97b5-5a070dbf8bd2",
   "metadata": {},
   "outputs": [
    {
     "data": {
      "text/html": [
       "<div>\n",
       "<style scoped>\n",
       "    .dataframe tbody tr th:only-of-type {\n",
       "        vertical-align: middle;\n",
       "    }\n",
       "\n",
       "    .dataframe tbody tr th {\n",
       "        vertical-align: top;\n",
       "    }\n",
       "\n",
       "    .dataframe thead th {\n",
       "        text-align: right;\n",
       "    }\n",
       "</style>\n",
       "<table border=\"1\" class=\"dataframe\">\n",
       "  <thead>\n",
       "    <tr style=\"text-align: right;\">\n",
       "      <th></th>\n",
       "      <th>gender</th>\n",
       "      <th>age</th>\n",
       "      <th>annual_income</th>\n",
       "      <th>spending_score</th>\n",
       "    </tr>\n",
       "    <tr>\n",
       "      <th>CustomerID</th>\n",
       "      <th></th>\n",
       "      <th></th>\n",
       "      <th></th>\n",
       "      <th></th>\n",
       "    </tr>\n",
       "  </thead>\n",
       "  <tbody>\n",
       "    <tr>\n",
       "      <th>1</th>\n",
       "      <td>M</td>\n",
       "      <td>0.057692</td>\n",
       "      <td>0.000000</td>\n",
       "      <td>0.816327</td>\n",
       "    </tr>\n",
       "    <tr>\n",
       "      <th>2</th>\n",
       "      <td>M</td>\n",
       "      <td>0.019231</td>\n",
       "      <td>0.000000</td>\n",
       "      <td>0.387755</td>\n",
       "    </tr>\n",
       "    <tr>\n",
       "      <th>3</th>\n",
       "      <td>F</td>\n",
       "      <td>0.096154</td>\n",
       "      <td>0.008197</td>\n",
       "      <td>0.775510</td>\n",
       "    </tr>\n",
       "    <tr>\n",
       "      <th>4</th>\n",
       "      <td>F</td>\n",
       "      <td>0.038462</td>\n",
       "      <td>0.008197</td>\n",
       "      <td>0.051020</td>\n",
       "    </tr>\n",
       "    <tr>\n",
       "      <th>5</th>\n",
       "      <td>F</td>\n",
       "      <td>0.076923</td>\n",
       "      <td>0.016393</td>\n",
       "      <td>0.765306</td>\n",
       "    </tr>\n",
       "  </tbody>\n",
       "</table>\n",
       "</div>"
      ],
      "text/plain": [
       "           gender       age  annual_income  spending_score\n",
       "CustomerID                                                \n",
       "1               M  0.057692       0.000000        0.816327\n",
       "2               M  0.019231       0.000000        0.387755\n",
       "3               F  0.096154       0.008197        0.775510\n",
       "4               F  0.038462       0.008197        0.051020\n",
       "5               F  0.076923       0.016393        0.765306"
      ]
     },
     "execution_count": 7,
     "metadata": {},
     "output_type": "execute_result"
    }
   ],
   "source": [
    "# your code goes here\n",
    "\n",
    "# importing packages\n",
    "import numpy as np\n",
    "import pandas as pd\n",
    "from kmodes.kprototypes import KPrototypes   # We will use the k-prototypes algorithm\n",
    "from matplotlib import pyplot as plt\n",
    "\n",
    "# change variable names\n",
    "df = pd.read_csv(\"C:/Users/zoutianxin/Dropbox/Teach/Marketing analytics/2021/2021 Analytics/clustering/datasets/MallCustomersAllVariables.csv\",index_col=0) # use the first column (customer id) as index\n",
    "df = df.rename(columns = {\"Gender\":\"gender\",\n",
    "                         \"Age\":\"age\",\n",
    "                         \"Annual Income (k$)\":\"annual_income\",\n",
    "                         \"Spending Score (1-100)\":\"spending_score\"})\n",
    "\n",
    "# normalizing the data for k-mean algorithm\n",
    "df_normalized = df.copy() # create a copy of the orignial dataset\n",
    "df_normalized[['age','annual_income','spending_score']] = \\\n",
    "    (df[['age','annual_income','spending_score']]-df[['age','annual_income','spending_score']].min()) \\\n",
    "    /(df[['age','annual_income','spending_score']].max()-df[['age','annual_income','spending_score']].min())\n",
    "df_normalized.head()"
   ]
  },
  {
   "cell_type": "markdown",
   "id": "fedd8e22-ad70-4d25-a1bc-af7450422632",
   "metadata": {},
   "source": [
    "## Determine the optimal number of segments"
   ]
  },
  {
   "cell_type": "code",
   "execution_count": 13,
   "id": "8037ea08-0892-4a8e-ab8d-efc1d7c51584",
   "metadata": {},
   "outputs": [
    {
     "data": {
      "text/plain": [
       "array([33.8075906 , 27.48598182, 22.39096001, 18.96599065, 15.8817905 ,\n",
       "       14.23122202, 12.29401904, 11.14322674, 10.0202567 ])"
      ]
     },
     "execution_count": 13,
     "metadata": {},
     "output_type": "execute_result"
    }
   ],
   "source": [
    "# your code goes here\n",
    "\n",
    "# calculate clustering cost (comparable to SSE) for different k's, and store them in a vector\n",
    "# you should use a for loop\n",
    "\n",
    "K = 10  # K is the maximum number of clusters we will check\n",
    "store_cost = np.zeros(K-1)    # create a vector to store the clustering \"cost\", which is comparable to SSE in k-means. k is between 2 and K. \n",
    "\n",
    "for k in range(2, K+1):                                   # try k from 2 to K  \n",
    "    kprotoSpec = KPrototypes(n_clusters = k)                        # set up k-mean model with k clusters\n",
    "    kproto_result = kprotoSpec.fit(df_normalized, categorical = [0])               # run k-mean on normalized data\n",
    "    kproto_prediction = kproto_result.labels_                 # the predicted segments for consumers  \n",
    "    store_cost[k-2] = kproto_result.cost_         # store the clustering cost \n",
    "\n",
    "store_cost"
   ]
  },
  {
   "cell_type": "code",
   "execution_count": 14,
   "id": "da5b5039-9772-4f6a-a66e-5092c4ab52db",
   "metadata": {},
   "outputs": [
    {
     "data": {
      "text/plain": [
       "Text(0.5, 0, 'number of clusters')"
      ]
     },
     "execution_count": 14,
     "metadata": {},
     "output_type": "execute_result"
    },
    {
     "data": {
      "image/png": "[encoded data removed]",
      "text/plain": [
       "<Figure size 864x576 with 1 Axes>"
      ]
     },
     "metadata": {
      "needs_background": "light"
     },
     "output_type": "display_data"
    }
   ],
   "source": [
    "# your code goes here\n",
    "# plot elbow chart\n",
    "\n",
    "%matplotlib inline\n",
    "plt.rcParams['figure.figsize'] = [12,8]  # set figure size to be 12*8 inch\n",
    "plt.plot(range(2, K+1), store_cost)        \n",
    "plt.xticks(range(2, K+1), fontsize = 18)\n",
    "plt.yticks(fontsize = 18)\n",
    "plt.ylabel(\"Clustering cost\",fontsize = 18)\n",
    "plt.xlabel(\"number of clusters\", fontsize = 18)"
   ]
  },
  {
   "cell_type": "markdown",
   "id": "84e53bb5-d52f-4ddd-960f-84536fb548be",
   "metadata": {},
   "source": [
    "## Segment consumers using the optimal number of segments"
   ]
  },
  {
   "cell_type": "code",
   "execution_count": null,
   "id": "5f24c793-05b7-417b-8000-e92992882e96",
   "metadata": {},
   "outputs": [],
   "source": [
    "# your code goes here\n",
    "# use the optimal number of segments you got from the last step"
   ]
  },
  {
   "cell_type": "code",
   "execution_count": 19,
   "id": "88328ed8-4a19-4112-8d91-d7500a23c2c6",
   "metadata": {
    "tags": []
   },
   "outputs": [],
   "source": [
    "kprotoSpec = KPrototypes(n_clusters = 6)  # setup the k-mean model specs\n",
    "kproto_result = kprotoSpec.fit(df_normalized,categorical = [0])    # apply the above model to the normalized data and store the result"
   ]
  },
  {
   "cell_type": "markdown",
   "id": "7451f4a5-24ee-4802-bc65-ab7b30242b5b",
   "metadata": {
    "tags": []
   },
   "source": [
    "## Post-segmentation analysis"
   ]
  },
  {
   "cell_type": "markdown",
   "id": "aed30af1-a777-4cb6-928e-41576c17a9a3",
   "metadata": {
    "tags": []
   },
   "source": [
    "### Which segment does each consumer belong to?"
   ]
  },
  {
   "cell_type": "markdown",
   "id": "4110a277-bfff-4125-aebd-a0a368ee1dbe",
   "metadata": {},
   "source": [
    "Create a new column in the **original** dataframe for which segment a consumer belongs to."
   ]
  },
  {
   "cell_type": "code",
   "execution_count": 21,
   "id": "037d5314-883a-47b4-a69a-ed3aa52f0e18",
   "metadata": {
    "tags": []
   },
   "outputs": [
    {
     "data": {
      "text/html": [
       "<div>\n",
       "<style scoped>\n",
       "    .dataframe tbody tr th:only-of-type {\n",
       "        vertical-align: middle;\n",
       "    }\n",
       "\n",
       "    .dataframe tbody tr th {\n",
       "        vertical-align: top;\n",
       "    }\n",
       "\n",
       "    .dataframe thead th {\n",
       "        text-align: right;\n",
       "    }\n",
       "</style>\n",
       "<table border=\"1\" class=\"dataframe\">\n",
       "  <thead>\n",
       "    <tr style=\"text-align: right;\">\n",
       "      <th></th>\n",
       "      <th>gender</th>\n",
       "      <th>age</th>\n",
       "      <th>annual_income</th>\n",
       "      <th>spending_score</th>\n",
       "      <th>segment</th>\n",
       "    </tr>\n",
       "    <tr>\n",
       "      <th>CustomerID</th>\n",
       "      <th></th>\n",
       "      <th></th>\n",
       "      <th></th>\n",
       "      <th></th>\n",
       "      <th></th>\n",
       "    </tr>\n",
       "  </thead>\n",
       "  <tbody>\n",
       "    <tr>\n",
       "      <th>1</th>\n",
       "      <td>M</td>\n",
       "      <td>21</td>\n",
       "      <td>15</td>\n",
       "      <td>81</td>\n",
       "      <td>2</td>\n",
       "    </tr>\n",
       "    <tr>\n",
       "      <th>2</th>\n",
       "      <td>M</td>\n",
       "      <td>19</td>\n",
       "      <td>15</td>\n",
       "      <td>39</td>\n",
       "      <td>0</td>\n",
       "    </tr>\n",
       "    <tr>\n",
       "      <th>3</th>\n",
       "      <td>F</td>\n",
       "      <td>23</td>\n",
       "      <td>16</td>\n",
       "      <td>77</td>\n",
       "      <td>0</td>\n",
       "    </tr>\n",
       "    <tr>\n",
       "      <th>4</th>\n",
       "      <td>F</td>\n",
       "      <td>20</td>\n",
       "      <td>16</td>\n",
       "      <td>6</td>\n",
       "      <td>0</td>\n",
       "    </tr>\n",
       "    <tr>\n",
       "      <th>5</th>\n",
       "      <td>F</td>\n",
       "      <td>22</td>\n",
       "      <td>17</td>\n",
       "      <td>76</td>\n",
       "      <td>0</td>\n",
       "    </tr>\n",
       "  </tbody>\n",
       "</table>\n",
       "</div>"
      ],
      "text/plain": [
       "           gender  age  annual_income  spending_score  segment\n",
       "CustomerID                                                    \n",
       "1               M   21             15              81        2\n",
       "2               M   19             15              39        0\n",
       "3               F   23             16              77        0\n",
       "4               F   20             16               6        0\n",
       "5               F   22             17              76        0"
      ]
     },
     "execution_count": 21,
     "metadata": {},
     "output_type": "execute_result"
    }
   ],
   "source": [
    "# your code goes here\n",
    "df[\"segment\"] = kproto_result.labels_ \n",
    "df.head()"
   ]
  },
  {
   "cell_type": "markdown",
   "id": "8cd004f1-900e-43f1-a62a-03cc5c955826",
   "metadata": {},
   "source": [
    "For each segment, summarize the mean/min/max's of all the variable.\n",
    "Also count the number of consumers in each segment."
   ]
  },
  {
   "cell_type": "code",
   "execution_count": 344,
   "id": "dc44e9b6-50d4-476e-ba90-dc87c51db0b1",
   "metadata": {
    "tags": []
   },
   "outputs": [],
   "source": [
    "# your code goes here\n",
    "# # To summarize the descriptive stats by segments, use \n",
    "# # df.groupby(\"segment\").aggregate({\n",
    "#     \"var1\": [\"mean\",\"min\",\"max\"],\n",
    "#     \"var2\": [\"mean\",\"min\",\"max\"],\n",
    "#     ...\n",
    "#     \"segment\": \"count\"\n",
    "# }\n",
    "# )"
   ]
  },
  {
   "cell_type": "code",
   "execution_count": 22,
   "id": "7a820af7-db4d-4d38-b929-dfeb106fa9e4",
   "metadata": {
    "tags": []
   },
   "outputs": [
    {
     "data": {
      "text/html": [
       "<div>\n",
       "<style scoped>\n",
       "    .dataframe tbody tr th:only-of-type {\n",
       "        vertical-align: middle;\n",
       "    }\n",
       "\n",
       "    .dataframe tbody tr th {\n",
       "        vertical-align: top;\n",
       "    }\n",
       "\n",
       "    .dataframe thead tr th {\n",
       "        text-align: left;\n",
       "    }\n",
       "\n",
       "    .dataframe thead tr:last-of-type th {\n",
       "        text-align: right;\n",
       "    }\n",
       "</style>\n",
       "<table border=\"1\" class=\"dataframe\">\n",
       "  <thead>\n",
       "    <tr>\n",
       "      <th></th>\n",
       "      <th colspan=\"3\" halign=\"left\">age</th>\n",
       "      <th colspan=\"3\" halign=\"left\">annual_income</th>\n",
       "      <th colspan=\"3\" halign=\"left\">spending_score</th>\n",
       "      <th>segment</th>\n",
       "    </tr>\n",
       "    <tr>\n",
       "      <th></th>\n",
       "      <th>mean</th>\n",
       "      <th>min</th>\n",
       "      <th>max</th>\n",
       "      <th>mean</th>\n",
       "      <th>min</th>\n",
       "      <th>max</th>\n",
       "      <th>mean</th>\n",
       "      <th>min</th>\n",
       "      <th>max</th>\n",
       "      <th>count</th>\n",
       "    </tr>\n",
       "    <tr>\n",
       "      <th>segment</th>\n",
       "      <th></th>\n",
       "      <th></th>\n",
       "      <th></th>\n",
       "      <th></th>\n",
       "      <th></th>\n",
       "      <th></th>\n",
       "      <th></th>\n",
       "      <th></th>\n",
       "      <th></th>\n",
       "      <th></th>\n",
       "    </tr>\n",
       "  </thead>\n",
       "  <tbody>\n",
       "    <tr>\n",
       "      <th>0</th>\n",
       "      <td>25.763158</td>\n",
       "      <td>18</td>\n",
       "      <td>35</td>\n",
       "      <td>41.500000</td>\n",
       "      <td>15</td>\n",
       "      <td>76</td>\n",
       "      <td>56.973684</td>\n",
       "      <td>6</td>\n",
       "      <td>99</td>\n",
       "      <td>38</td>\n",
       "    </tr>\n",
       "    <tr>\n",
       "      <th>1</th>\n",
       "      <td>32.269231</td>\n",
       "      <td>27</td>\n",
       "      <td>38</td>\n",
       "      <td>90.346154</td>\n",
       "      <td>70</td>\n",
       "      <td>137</td>\n",
       "      <td>82.730769</td>\n",
       "      <td>69</td>\n",
       "      <td>97</td>\n",
       "      <td>26</td>\n",
       "    </tr>\n",
       "    <tr>\n",
       "      <th>2</th>\n",
       "      <td>28.416667</td>\n",
       "      <td>18</td>\n",
       "      <td>40</td>\n",
       "      <td>55.583333</td>\n",
       "      <td>15</td>\n",
       "      <td>101</td>\n",
       "      <td>68.750000</td>\n",
       "      <td>35</td>\n",
       "      <td>97</td>\n",
       "      <td>36</td>\n",
       "    </tr>\n",
       "    <tr>\n",
       "      <th>3</th>\n",
       "      <td>38.653846</td>\n",
       "      <td>19</td>\n",
       "      <td>59</td>\n",
       "      <td>90.230769</td>\n",
       "      <td>71</td>\n",
       "      <td>137</td>\n",
       "      <td>16.730769</td>\n",
       "      <td>1</td>\n",
       "      <td>36</td>\n",
       "      <td>26</td>\n",
       "    </tr>\n",
       "    <tr>\n",
       "      <th>4</th>\n",
       "      <td>58.037037</td>\n",
       "      <td>37</td>\n",
       "      <td>70</td>\n",
       "      <td>47.629630</td>\n",
       "      <td>19</td>\n",
       "      <td>71</td>\n",
       "      <td>38.851852</td>\n",
       "      <td>3</td>\n",
       "      <td>60</td>\n",
       "      <td>27</td>\n",
       "    </tr>\n",
       "    <tr>\n",
       "      <th>5</th>\n",
       "      <td>50.148936</td>\n",
       "      <td>35</td>\n",
       "      <td>68</td>\n",
       "      <td>54.319149</td>\n",
       "      <td>18</td>\n",
       "      <td>101</td>\n",
       "      <td>37.553191</td>\n",
       "      <td>5</td>\n",
       "      <td>59</td>\n",
       "      <td>47</td>\n",
       "    </tr>\n",
       "  </tbody>\n",
       "</table>\n",
       "</div>"
      ],
      "text/plain": [
       "               age         annual_income          spending_score          \\\n",
       "              mean min max          mean min  max           mean min max   \n",
       "segment                                                                    \n",
       "0        25.763158  18  35     41.500000  15   76      56.973684   6  99   \n",
       "1        32.269231  27  38     90.346154  70  137      82.730769  69  97   \n",
       "2        28.416667  18  40     55.583333  15  101      68.750000  35  97   \n",
       "3        38.653846  19  59     90.230769  71  137      16.730769   1  36   \n",
       "4        58.037037  37  70     47.629630  19   71      38.851852   3  60   \n",
       "5        50.148936  35  68     54.319149  18  101      37.553191   5  59   \n",
       "\n",
       "        segment  \n",
       "          count  \n",
       "segment          \n",
       "0            38  \n",
       "1            26  \n",
       "2            36  \n",
       "3            26  \n",
       "4            27  \n",
       "5            47  "
      ]
     },
     "execution_count": 22,
     "metadata": {},
     "output_type": "execute_result"
    }
   ],
   "source": [
    "# summarize numerical variables\n",
    "summary_numerical = df.groupby(\"segment\").aggregate({                           # groupby(\"X\") enables the calculation is separately done for each value of X \n",
    "    \"age\":[\"mean\",\"min\",\"max\"],\n",
    "    \"annual_income\": [\"mean\",\"min\",\"max\"],             # calculate the mean/min/max/std of annual income for each segment\n",
    "    \"spending_score\": [\"mean\",\"min\",\"max\"],            # calculate the mean/min/max/std of spending score for each segment\n",
    "    \"segment\": \"count\"                                       # count how many consumers are there in each segment\n",
    "}\n",
    ")\n",
    "summary_numerical"
   ]
  },
  {
   "cell_type": "code",
   "execution_count": 23,
   "id": "d7358369-ec9f-4e67-b5ed-80ffaeca527d",
   "metadata": {},
   "outputs": [
    {
     "data": {
      "text/plain": [
       "segment  gender\n",
       "0        F         0.973684\n",
       "         M         0.026316\n",
       "1        F         0.807692\n",
       "         M         0.192308\n",
       "2        M         1.000000\n",
       "3        M         0.730769\n",
       "         F         0.269231\n",
       "4        M         1.000000\n",
       "5        F         1.000000\n",
       "Name: gender, dtype: float64"
      ]
     },
     "execution_count": 23,
     "metadata": {},
     "output_type": "execute_result"
    }
   ],
   "source": [
    "# summarize categorical variables (gender)\n",
    "\n",
    "summary_categorical = (df.groupby(\"segment\"))[\"gender\"].value_counts(normalize = True)\n",
    "summary_categorical"
   ]
  },
  {
   "cell_type": "code",
   "execution_count": null,
   "id": "e9d6f839-854d-42bb-bc7e-31ad889b5e30",
   "metadata": {},
   "outputs": [],
   "source": []
  }
 ],
 "metadata": {
  "kernelspec": {
   "display_name": "Python 3",
   "language": "python",
   "name": "python3"
  },
  "language_info": {
   "codemirror_mode": {
    "name": "ipython",
    "version": 3
   },
   "file_extension": ".py",
   "mimetype": "text/x-python",
   "name": "python",
   "nbconvert_exporter": "python",
   "pygments_lexer": "ipython3",
   "version": "3.7.10"
  }
 },
 "nbformat": 4,
 "nbformat_minor": 5
}
