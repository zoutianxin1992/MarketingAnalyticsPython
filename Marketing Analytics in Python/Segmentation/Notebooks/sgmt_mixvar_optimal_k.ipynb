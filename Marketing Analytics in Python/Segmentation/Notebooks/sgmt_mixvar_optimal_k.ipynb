{
 "cells": [
  {
   "cell_type": "markdown",
   "id": "c0a7c867",
   "metadata": {},
   "source": [
    "# Consumer segmentation - choosing optimal cluster numbers for mixed variables"
   ]
  },
  {
   "cell_type": "markdown",
   "id": "6de4ba88",
   "metadata": {},
   "source": [
    "In this exercise, you will \n",
    "- use elbow chart to determine how many consumer segments to generate\n",
    "- segment consumers using the optimal number of segments\n",
    "- because the data have mixed data types, k-prototypes algorithm should be used\n",
    "- Comparable to SSE for k-means, a \"clustering cost\" is used to measure the fitting error for k-prototype"
   ]
  },
  {
   "cell_type": "markdown",
   "id": "fab81eb2",
   "metadata": {},
   "source": [
    "We will use \"MallCustomersAllVariables.csv\" for analysis. Github link can be found [here](https://github.com/zoutianxin1992/MarketingAnalyticsPython/blob/main/Marketing%20Analytics%20in%20Python/Segmentation/Datasets/MallCustomersTwoVariables.csv)."
   ]
  },
  {
   "cell_type": "markdown",
   "id": "4175d101",
   "metadata": {},
   "source": [
    "## Load and preprocess data"
   ]
  },
  {
   "cell_type": "code",
   "execution_count": 6,
   "id": "c35c1e97",
   "metadata": {},
   "outputs": [
    {
     "data": {
      "text/html": [
       "<div>\n",
       "<style scoped>\n",
       "    .dataframe tbody tr th:only-of-type {\n",
       "        vertical-align: middle;\n",
       "    }\n",
       "\n",
       "    .dataframe tbody tr th {\n",
       "        vertical-align: top;\n",
       "    }\n",
       "\n",
       "    .dataframe thead th {\n",
       "        text-align: right;\n",
       "    }\n",
       "</style>\n",
       "<table border=\"1\" class=\"dataframe\">\n",
       "  <thead>\n",
       "    <tr style=\"text-align: right;\">\n",
       "      <th></th>\n",
       "      <th>gender</th>\n",
       "      <th>age</th>\n",
       "      <th>annual_income</th>\n",
       "      <th>spending_score</th>\n",
       "    </tr>\n",
       "    <tr>\n",
       "      <th>CustomerID</th>\n",
       "      <th></th>\n",
       "      <th></th>\n",
       "      <th></th>\n",
       "      <th></th>\n",
       "    </tr>\n",
       "  </thead>\n",
       "  <tbody>\n",
       "    <tr>\n",
       "      <th>1</th>\n",
       "      <td>M</td>\n",
       "      <td>0.057692</td>\n",
       "      <td>0.000000</td>\n",
       "      <td>0.816327</td>\n",
       "    </tr>\n",
       "    <tr>\n",
       "      <th>2</th>\n",
       "      <td>M</td>\n",
       "      <td>0.019231</td>\n",
       "      <td>0.000000</td>\n",
       "      <td>0.387755</td>\n",
       "    </tr>\n",
       "    <tr>\n",
       "      <th>3</th>\n",
       "      <td>F</td>\n",
       "      <td>0.096154</td>\n",
       "      <td>0.008197</td>\n",
       "      <td>0.775510</td>\n",
       "    </tr>\n",
       "    <tr>\n",
       "      <th>4</th>\n",
       "      <td>F</td>\n",
       "      <td>0.038462</td>\n",
       "      <td>0.008197</td>\n",
       "      <td>0.051020</td>\n",
       "    </tr>\n",
       "    <tr>\n",
       "      <th>5</th>\n",
       "      <td>F</td>\n",
       "      <td>0.076923</td>\n",
       "      <td>0.016393</td>\n",
       "      <td>0.765306</td>\n",
       "    </tr>\n",
       "  </tbody>\n",
       "</table>\n",
       "</div>"
      ],
      "text/plain": [
       "           gender       age  annual_income  spending_score\n",
       "CustomerID                                                \n",
       "1               M  0.057692       0.000000        0.816327\n",
       "2               M  0.019231       0.000000        0.387755\n",
       "3               F  0.096154       0.008197        0.775510\n",
       "4               F  0.038462       0.008197        0.051020\n",
       "5               F  0.076923       0.016393        0.765306"
      ]
     },
     "execution_count": 6,
     "metadata": {},
     "output_type": "execute_result"
    }
   ],
   "source": [
    "# importing packages\n",
    "import numpy as np\n",
    "import pandas as pd\n",
    "from kmodes.kprototypes import KPrototypes   # We will use the k-prototypes algorithm\n",
    "from matplotlib import pyplot as plt\n",
    "\n",
    "# change variable names\n",
    "url = \"https://raw.githubusercontent.com/zoutianxin1992/MarketingAnalyticsPython/main/Marketing%20Analytics%20in%20Python/Segmentation/Datasets/MallCustomersAllVariables.csv\"\n",
    "df = pd.read_csv(url,index_col=0) # use the first column (customer id) as index\n",
    "df = df.rename(columns = {\"Gender\":\"gender\",\n",
    "                         \"Age\":\"age\",\n",
    "                         \"Annual Income (k$)\":\"annual_income\",\n",
    "                         \"Spending Score (1-100)\":\"spending_score\"})\n",
    "\n",
    "# normalizing the data for k-mean algorithm\n",
    "df_normalized = df.copy() # create a copy of the orignial dataset\n",
    "\n",
    "\n",
    "\n",
    "df_normalized[['age','annual_income','spending_score']] = \\\n",
    "    (df[['age','annual_income','spending_score']]-df[['age','annual_income','spending_score']].min()) \\\n",
    "    /(df[['age','annual_income','spending_score']].max()-df[['age','annual_income','spending_score']].min())\n",
    "\n",
    "# \"\\\" breaks a line into multiple lines. There shouldn't be any spaces after \"\\\"\n",
    "df_normalized.head()"
   ]
  },
  {
   "cell_type": "markdown",
   "id": "0a839d83",
   "metadata": {},
   "source": [
    "## Determine the optimal number of segments"
   ]
  },
  {
   "cell_type": "code",
   "execution_count": 12,
   "id": "fcf0f9a5",
   "metadata": {},
   "outputs": [
    {
     "data": {
      "text/plain": [
       "array([33.8075906 , 27.48659686, 22.5363837 , 18.74497062, 15.8817905 ,\n",
       "       14.21778195, 12.22352406, 11.15544178, 10.24971722])"
      ]
     },
     "execution_count": 12,
     "metadata": {},
     "output_type": "execute_result"
    }
   ],
   "source": [
    "# calculate clustering cost (comparable to SSE) for different k's, and store them in a vector\n",
    "# you should use a for loop\n",
    "\n",
    "K = 10  # K is the maximum number of clusters we will check\n",
    "store_cost = np.zeros(K-1)    # create a vector to store the clustering \"cost\", which is comparable to SSE in k-means. k is between 2 and K. \n",
    "\n",
    "for k in range(2, K+1):                                   # try k from 2 to K  \n",
    "    kprotoSpec = KPrototypes(n_clusters = k, n_init = 20)                        # set up k-mean model with k clusters\n",
    "    kproto_result = kprotoSpec.fit(df_normalized, categorical = [0])               # run k-mean on normalized data\n",
    "    kproto_prediction = kproto_result.labels_                 # the predicted segments for consumers  \n",
    "    store_cost[k-2] = kproto_result.cost_         # store the clustering cost \n",
    "\n",
    "store_cost"
   ]
  },
  {
   "cell_type": "code",
   "execution_count": 13,
   "id": "3543386c",
   "metadata": {},
   "outputs": [
    {
     "data": {
      "text/plain": [
       "Text(0.5,0,'number of clusters')"
      ]
     },
     "execution_count": 13,
     "metadata": {},
     "output_type": "execute_result"
    },
    {
     "data": {
      "image/png": "[encoded data removed]",
      "text/plain": [
       "<Figure size 864x576 with 1 Axes>"
      ]
     },
     "metadata": {
      "needs_background": "light"
     },
     "output_type": "display_data"
    }
   ],
   "source": [
    "# plot elbow chart\n",
    "\n",
    "%matplotlib inline\n",
    "plt.rcParams['figure.figsize'] = [12,8]  # set figure size to be 12*8 inch\n",
    "plt.plot(range(2, K+1), store_cost)        \n",
    "plt.xticks(range(2, K+1), fontsize = 18)\n",
    "plt.yticks(fontsize = 18)\n",
    "plt.ylabel(\"Clustering cost\",fontsize = 18)\n",
    "plt.xlabel(\"number of clusters\", fontsize = 18)"
   ]
  },
  {
   "cell_type": "markdown",
   "id": "1121911f",
   "metadata": {},
   "source": [
    "## Segment consumers using the optimal number of segments"
   ]
  },
  {
   "cell_type": "code",
   "execution_count": 14,
   "id": "b4d9780a",
   "metadata": {
    "tags": []
   },
   "outputs": [],
   "source": [
    "kprotoSpec = KPrototypes(n_clusters = 6, n_init = 20)  # setup the k-mean model specs\n",
    "kproto_result = kprotoSpec.fit(df_normalized,categorical = [0])    # apply the above model to the normalized data and store the result"
   ]
  },
  {
   "cell_type": "markdown",
   "id": "35f96835",
   "metadata": {
    "tags": []
   },
   "source": [
    "## Post-segmentation analysis"
   ]
  },
  {
   "cell_type": "markdown",
   "id": "9fe1a960",
   "metadata": {
    "tags": []
   },
   "source": [
    "### Which segment does each consumer belong to?"
   ]
  },
  {
   "cell_type": "markdown",
   "id": "5df4647e",
   "metadata": {},
   "source": [
    "Create a new column in the **original** dataframe for which segment a consumer belongs to."
   ]
  },
  {
   "cell_type": "code",
   "execution_count": 15,
   "id": "79170b08",
   "metadata": {
    "tags": []
   },
   "outputs": [
    {
     "data": {
      "text/html": [
       "<div>\n",
       "<style scoped>\n",
       "    .dataframe tbody tr th:only-of-type {\n",
       "        vertical-align: middle;\n",
       "    }\n",
       "\n",
       "    .dataframe tbody tr th {\n",
       "        vertical-align: top;\n",
       "    }\n",
       "\n",
       "    .dataframe thead th {\n",
       "        text-align: right;\n",
       "    }\n",
       "</style>\n",
       "<table border=\"1\" class=\"dataframe\">\n",
       "  <thead>\n",
       "    <tr style=\"text-align: right;\">\n",
       "      <th></th>\n",
       "      <th>gender</th>\n",
       "      <th>age</th>\n",
       "      <th>annual_income</th>\n",
       "      <th>spending_score</th>\n",
       "      <th>segment</th>\n",
       "    </tr>\n",
       "    <tr>\n",
       "      <th>CustomerID</th>\n",
       "      <th></th>\n",
       "      <th></th>\n",
       "      <th></th>\n",
       "      <th></th>\n",
       "      <th></th>\n",
       "    </tr>\n",
       "  </thead>\n",
       "  <tbody>\n",
       "    <tr>\n",
       "      <th>1</th>\n",
       "      <td>M</td>\n",
       "      <td>21</td>\n",
       "      <td>15</td>\n",
       "      <td>81</td>\n",
       "      <td>1</td>\n",
       "    </tr>\n",
       "    <tr>\n",
       "      <th>2</th>\n",
       "      <td>M</td>\n",
       "      <td>19</td>\n",
       "      <td>15</td>\n",
       "      <td>39</td>\n",
       "      <td>1</td>\n",
       "    </tr>\n",
       "    <tr>\n",
       "      <th>3</th>\n",
       "      <td>F</td>\n",
       "      <td>23</td>\n",
       "      <td>16</td>\n",
       "      <td>77</td>\n",
       "      <td>2</td>\n",
       "    </tr>\n",
       "    <tr>\n",
       "      <th>4</th>\n",
       "      <td>F</td>\n",
       "      <td>20</td>\n",
       "      <td>16</td>\n",
       "      <td>6</td>\n",
       "      <td>2</td>\n",
       "    </tr>\n",
       "    <tr>\n",
       "      <th>5</th>\n",
       "      <td>F</td>\n",
       "      <td>22</td>\n",
       "      <td>17</td>\n",
       "      <td>76</td>\n",
       "      <td>2</td>\n",
       "    </tr>\n",
       "  </tbody>\n",
       "</table>\n",
       "</div>"
      ],
      "text/plain": [
       "           gender  age  annual_income  spending_score  segment\n",
       "CustomerID                                                    \n",
       "1               M   21             15              81        1\n",
       "2               M   19             15              39        1\n",
       "3               F   23             16              77        2\n",
       "4               F   20             16               6        2\n",
       "5               F   22             17              76        2"
      ]
     },
     "execution_count": 15,
     "metadata": {},
     "output_type": "execute_result"
    }
   ],
   "source": [
    "df[\"segment\"] = kproto_result.labels_ \n",
    "df.head()"
   ]
  },
  {
   "cell_type": "markdown",
   "id": "ca553fcc",
   "metadata": {},
   "source": [
    "For each segment, summarize the mean/min/max's of all the variable.\n",
    "Also count the number of consumers in each segment."
   ]
  },
  {
   "cell_type": "code",
   "execution_count": 16,
   "id": "e8d33307",
   "metadata": {
    "tags": []
   },
   "outputs": [
    {
     "data": {
      "text/html": [
       "<div>\n",
       "<style scoped>\n",
       "    .dataframe tbody tr th:only-of-type {\n",
       "        vertical-align: middle;\n",
       "    }\n",
       "\n",
       "    .dataframe tbody tr th {\n",
       "        vertical-align: top;\n",
       "    }\n",
       "\n",
       "    .dataframe thead tr th {\n",
       "        text-align: left;\n",
       "    }\n",
       "\n",
       "    .dataframe thead tr:last-of-type th {\n",
       "        text-align: right;\n",
       "    }\n",
       "</style>\n",
       "<table border=\"1\" class=\"dataframe\">\n",
       "  <thead>\n",
       "    <tr>\n",
       "      <th></th>\n",
       "      <th colspan=\"3\" halign=\"left\">age</th>\n",
       "      <th colspan=\"3\" halign=\"left\">annual_income</th>\n",
       "      <th colspan=\"3\" halign=\"left\">spending_score</th>\n",
       "      <th>segment</th>\n",
       "    </tr>\n",
       "    <tr>\n",
       "      <th></th>\n",
       "      <th>mean</th>\n",
       "      <th>min</th>\n",
       "      <th>max</th>\n",
       "      <th>mean</th>\n",
       "      <th>min</th>\n",
       "      <th>max</th>\n",
       "      <th>mean</th>\n",
       "      <th>min</th>\n",
       "      <th>max</th>\n",
       "      <th>count</th>\n",
       "    </tr>\n",
       "    <tr>\n",
       "      <th>segment</th>\n",
       "      <th></th>\n",
       "      <th></th>\n",
       "      <th></th>\n",
       "      <th></th>\n",
       "      <th></th>\n",
       "      <th></th>\n",
       "      <th></th>\n",
       "      <th></th>\n",
       "      <th></th>\n",
       "      <th></th>\n",
       "    </tr>\n",
       "  </thead>\n",
       "  <tbody>\n",
       "    <tr>\n",
       "      <th>0</th>\n",
       "      <td>50.148936</td>\n",
       "      <td>35</td>\n",
       "      <td>68</td>\n",
       "      <td>54.319149</td>\n",
       "      <td>18</td>\n",
       "      <td>101</td>\n",
       "      <td>37.553191</td>\n",
       "      <td>5</td>\n",
       "      <td>59</td>\n",
       "      <td>47</td>\n",
       "    </tr>\n",
       "    <tr>\n",
       "      <th>1</th>\n",
       "      <td>28.162162</td>\n",
       "      <td>18</td>\n",
       "      <td>40</td>\n",
       "      <td>54.486486</td>\n",
       "      <td>15</td>\n",
       "      <td>101</td>\n",
       "      <td>67.945946</td>\n",
       "      <td>35</td>\n",
       "      <td>97</td>\n",
       "      <td>37</td>\n",
       "    </tr>\n",
       "    <tr>\n",
       "      <th>2</th>\n",
       "      <td>25.945946</td>\n",
       "      <td>18</td>\n",
       "      <td>35</td>\n",
       "      <td>42.216216</td>\n",
       "      <td>16</td>\n",
       "      <td>76</td>\n",
       "      <td>57.459459</td>\n",
       "      <td>6</td>\n",
       "      <td>99</td>\n",
       "      <td>37</td>\n",
       "    </tr>\n",
       "    <tr>\n",
       "      <th>3</th>\n",
       "      <td>58.037037</td>\n",
       "      <td>37</td>\n",
       "      <td>70</td>\n",
       "      <td>47.629630</td>\n",
       "      <td>19</td>\n",
       "      <td>71</td>\n",
       "      <td>38.851852</td>\n",
       "      <td>3</td>\n",
       "      <td>60</td>\n",
       "      <td>27</td>\n",
       "    </tr>\n",
       "    <tr>\n",
       "      <th>4</th>\n",
       "      <td>32.269231</td>\n",
       "      <td>27</td>\n",
       "      <td>38</td>\n",
       "      <td>90.346154</td>\n",
       "      <td>70</td>\n",
       "      <td>137</td>\n",
       "      <td>82.730769</td>\n",
       "      <td>69</td>\n",
       "      <td>97</td>\n",
       "      <td>26</td>\n",
       "    </tr>\n",
       "    <tr>\n",
       "      <th>5</th>\n",
       "      <td>38.653846</td>\n",
       "      <td>19</td>\n",
       "      <td>59</td>\n",
       "      <td>90.230769</td>\n",
       "      <td>71</td>\n",
       "      <td>137</td>\n",
       "      <td>16.730769</td>\n",
       "      <td>1</td>\n",
       "      <td>36</td>\n",
       "      <td>26</td>\n",
       "    </tr>\n",
       "  </tbody>\n",
       "</table>\n",
       "</div>"
      ],
      "text/plain": [
       "               age         annual_income          spending_score          \\\n",
       "              mean min max          mean min  max           mean min max   \n",
       "segment                                                                    \n",
       "0        50.148936  35  68     54.319149  18  101      37.553191   5  59   \n",
       "1        28.162162  18  40     54.486486  15  101      67.945946  35  97   \n",
       "2        25.945946  18  35     42.216216  16   76      57.459459   6  99   \n",
       "3        58.037037  37  70     47.629630  19   71      38.851852   3  60   \n",
       "4        32.269231  27  38     90.346154  70  137      82.730769  69  97   \n",
       "5        38.653846  19  59     90.230769  71  137      16.730769   1  36   \n",
       "\n",
       "        segment  \n",
       "          count  \n",
       "segment          \n",
       "0            47  \n",
       "1            37  \n",
       "2            37  \n",
       "3            27  \n",
       "4            26  \n",
       "5            26  "
      ]
     },
     "execution_count": 16,
     "metadata": {},
     "output_type": "execute_result"
    }
   ],
   "source": [
    "# summarize numerical variables\n",
    "summary_numerical = df.groupby(\"segment\").aggregate({                           # groupby(\"X\") enables the calculation is separately done for each value of X \n",
    "    \"age\":[\"mean\",\"min\",\"max\"],\n",
    "    \"annual_income\": [\"mean\",\"min\",\"max\"],             # calculate the mean/min/max/std of annual income for each segment\n",
    "    \"spending_score\": [\"mean\",\"min\",\"max\"],            # calculate the mean/min/max/std of spending score for each segment\n",
    "    \"segment\": \"count\"                                       # count how many consumers are there in each segment\n",
    "}\n",
    ")\n",
    "summary_numerical"
   ]
  },
  {
   "cell_type": "code",
   "execution_count": 17,
   "id": "bf762cf3",
   "metadata": {},
   "outputs": [
    {
     "data": {
      "text/plain": [
       "segment  gender\n",
       "0        F         1.000000\n",
       "1        M         1.000000\n",
       "2        F         1.000000\n",
       "3        M         1.000000\n",
       "4        F         0.807692\n",
       "         M         0.192308\n",
       "5        M         0.730769\n",
       "         F         0.269231\n",
       "Name: gender, dtype: float64"
      ]
     },
     "execution_count": 17,
     "metadata": {},
     "output_type": "execute_result"
    }
   ],
   "source": [
    "# summarize categorical variables (gender)\n",
    "\n",
    "summary_categorical = (df.groupby(\"segment\"))[\"gender\"].value_counts(normalize = True)\n",
    "summary_categorical"
   ]
  },
  {
   "cell_type": "code",
   "execution_count": null,
   "id": "aca2adca",
   "metadata": {},
   "outputs": [],
   "source": []
  }
 ],
 "metadata": {
  "kernelspec": {
   "display_name": "Python 3",
   "language": "python",
   "name": "python3"
  },
  "language_info": {
   "codemirror_mode": {
    "name": "ipython",
    "version": 3
   },
   "file_extension": ".py",
   "mimetype": "text/x-python",
   "name": "python",
   "nbconvert_exporter": "python",
   "pygments_lexer": "ipython3",
   "version": "3.8.11"
  }
 },
 "nbformat": 4,
 "nbformat_minor": 5
}
