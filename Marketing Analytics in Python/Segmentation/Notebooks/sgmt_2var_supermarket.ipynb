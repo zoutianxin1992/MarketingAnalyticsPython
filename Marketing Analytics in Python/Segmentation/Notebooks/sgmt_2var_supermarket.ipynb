{
 "cells": [
  {
   "cell_type": "markdown",
   "metadata": {},
   "source": [
    "# Practice: segmenting supermarket consumers (two variables)"
   ]
  },
  {
   "cell_type": "markdown",
   "metadata": {},
   "source": [
    "Suppose you are the CMO of a supermarket in the downtown area of a large city in Midwest. Your sales team has collected information of some 1,000 customers who have registered for the supermarket’s online account.\n",
    "Consumers' data (\"SupermarketCustomerTwoVariables.csv\") can be found at:\n",
    "https://raw.githubusercontent.com/zoutianxin1992/MarketingAnalyticsPython/main/Marketing%20Analytics%20in%20Python/Segmentation/Datasets/SupermarketCustomerTwoVariables.csv\n",
    "\n",
    "Variables: Salary, AmountSpent\n",
    "\n",
    "Your task is to find how many consumer segments to create, and summarize the consumer characteristics for each segment."
   ]
  },
  {
   "cell_type": "markdown",
   "metadata": {},
   "source": [
    "## Load and normalize data"
   ]
  },
  {
   "cell_type": "code",
   "execution_count": null,
   "metadata": {},
   "outputs": [],
   "source": [
    "# Your code here"
   ]
  },
  {
   "cell_type": "code",
   "execution_count": null,
   "metadata": {
    "jupyter": {
     "source_hidden": true
    }
   },
   "outputs": [],
   "source": [
    "# # importing packages\n",
    "# import numpy as np\n",
    "# import pandas as pd\n",
    "# from sklearn.cluster import KMeans    # Use \"sklearn/cluster/KMeans\" for clustering analysis \n",
    "\n",
    "# # importing data and renaming variables\n",
    "# url = \"https://raw.githubusercontent.com/zoutianxin1992/MarketingAnalyticsPython/main/Marketing%20Analytics%20in%20Python/Segmentation/Datasets/SupermarketCustomerTwoVariables.csv\"\n",
    "# df = pd.read_csv(url) \n",
    "# df.head()"
   ]
  },
  {
   "cell_type": "code",
   "execution_count": null,
   "metadata": {
    "jupyter": {
     "source_hidden": true
    }
   },
   "outputs": [],
   "source": [
    "# # normalizing the data for k-mean algorithm\n",
    "# df_normalized = (df-df.min())/(df.max()-df.min())  # By default, pandas calculate maximums and minimums by columns, which serves our purpose."
   ]
  },
  {
   "cell_type": "markdown",
   "metadata": {},
   "source": [
    "## Calculate $SSE$ for each $k$"
   ]
  },
  {
   "cell_type": "markdown",
   "metadata": {},
   "source": [
    "Calculate SSE for different number of segments ($k$). $k=2,3,...,K=10$"
   ]
  },
  {
   "cell_type": "code",
   "execution_count": null,
   "metadata": {},
   "outputs": [],
   "source": [
    "# your code here"
   ]
  },
  {
   "cell_type": "code",
   "execution_count": null,
   "metadata": {
    "jupyter": {
     "source_hidden": true
    }
   },
   "outputs": [],
   "source": [
    "# K = 10  # K is the maximum number of clusters we will check\n",
    "# store_SSE = np.zeros(K)    # create a vector to store SSE's. The k-th entry will be the SSE with k clusters.\n",
    "\n",
    "# for k in range(1, K+1):                                   # try k from 1 to K  \n",
    "#     kmeanSpec = KMeans(n_clusters = k, n_init = 100)                        # set up k-mean model with k clusters\n",
    "#     kmean_result = kmeanSpec.fit(df_normalized)               # run k-mean on normalized data\n",
    "#     store_SSE[k-1] = kmeanSpec.inertia_                       # store the SSE (.inertia_) in the k-th entry of store_SSE"
   ]
  },
  {
   "cell_type": "markdown",
   "metadata": {},
   "source": [
    "## Generate elbow chart"
   ]
  },
  {
   "cell_type": "code",
   "execution_count": null,
   "metadata": {},
   "outputs": [],
   "source": [
    "# your code here"
   ]
  },
  {
   "cell_type": "code",
   "execution_count": null,
   "metadata": {
    "jupyter": {
     "source_hidden": true
    }
   },
   "outputs": [],
   "source": [
    "# from matplotlib import pyplot as plt\n",
    "# %matplotlib inline\n",
    "# plt.rcParams['figure.figsize'] = [12,8]  # set figure size to be 12*8 inch\n",
    "# plt.plot(range(1, K+1), store_SSE)        \n",
    "# plt.xticks(range(1, K+1), fontsize = 18)\n",
    "# plt.yticks(fontsize = 18)\n",
    "# plt.ylabel(\"SSE\",fontsize = 18)\n",
    "# plt.xlabel(\"number of clusters\", fontsize = 18)"
   ]
  },
  {
   "cell_type": "markdown",
   "metadata": {},
   "source": [
    "## Segment consumers into the optimal number of segments"
   ]
  },
  {
   "cell_type": "code",
   "execution_count": null,
   "metadata": {},
   "outputs": [],
   "source": [
    "# your code here"
   ]
  },
  {
   "cell_type": "code",
   "execution_count": null,
   "metadata": {
    "jupyter": {
     "source_hidden": true
    }
   },
   "outputs": [],
   "source": [
    "# kmeanSpec = KMeans(n_clusters = 2, n_init = 100)  # setup the k-mean model specs\n",
    "# kmean_result2 = kmeanSpec.fit(df_normalized)    # apply the above model to the normalized data and store the result"
   ]
  },
  {
   "cell_type": "code",
   "execution_count": null,
   "metadata": {
    "jupyter": {
     "source_hidden": true
    }
   },
   "outputs": [],
   "source": [
    "# df[\"segment\"] = kmean_result2.labels_  # add a new column \"segment\" indicating a consumer's segment\n",
    "# # Note that after applying k-mean, we want to shift our attention back to the original, in-normalized dataset, because the units have real meanings \n",
    "# # For example, the annual income will be in thousand dollars\n",
    "# df.head()"
   ]
  },
  {
   "cell_type": "markdown",
   "metadata": {},
   "source": [
    "## Post-segmentation analysis"
   ]
  },
  {
   "cell_type": "markdown",
   "metadata": {},
   "source": [
    "By each segment, calculate mean/min/max/std for each variable. Also calculate the number of consumers in each segment."
   ]
  },
  {
   "cell_type": "code",
   "execution_count": null,
   "metadata": {},
   "outputs": [],
   "source": [
    "# your code here"
   ]
  },
  {
   "cell_type": "code",
   "execution_count": null,
   "metadata": {
    "jupyter": {
     "source_hidden": true
    }
   },
   "outputs": [],
   "source": [
    "# # We want to summarize, by each segment, the descriptive stats \n",
    "# summary_table = df.groupby(\"segment\").aggregate({                           # groupby(\"X\") enables the calculation is separately done for each value of X \n",
    "#     \"Salary\": [\"mean\",\"min\",\"max\",\"std\"],             # calculate the mean/min/max/std of salary for each segment\n",
    "#     \"AmountSpent\": [\"mean\",\"min\",\"max\",\"std\"],            # calculate the mean/min/max/std of AmountSpent for each segment\n",
    "#     \"segment\": \"count\"                                       # count how many consumers are there in each segment\n",
    "# }\n",
    "# )\n",
    "# summary_table"
   ]
  },
  {
   "cell_type": "markdown",
   "metadata": {},
   "source": [
    "## Optional: Visualize segmentation result"
   ]
  },
  {
   "cell_type": "code",
   "execution_count": null,
   "metadata": {},
   "outputs": [],
   "source": [
    "# your code here"
   ]
  },
  {
   "cell_type": "code",
   "execution_count": null,
   "metadata": {
    "jupyter": {
     "source_hidden": true
    }
   },
   "outputs": [],
   "source": [
    "# # Extract centroid positions\n",
    "# centroids = summary_table.iloc[:,[0,4]]\n",
    "\n",
    "# # Generate segmentation results\n",
    "# plt.rcParams['figure.figsize'] = [12,8] \n",
    "# plt.scatter(df[\"Salary\"], df[\"AmountSpent\"], c = df[\"segment\"],s = 50) # \"c\" is color parameter, so we assign different segments with different parameters\n",
    "# plt.xlabel(\"Salary\", fontsize = 18)\n",
    "# plt.ylabel(\"AmountSpent\", fontsize = 18)\n",
    "# plt.tick_params(axis='both', labelsize = 18)\n",
    "\n",
    "# # mark the centroids on the plot\n",
    "# plt.scatter(centroids.iloc[:, 0], centroids.iloc[:, 1], c = \"red\", marker = \"x\", s = 100);"
   ]
  },
  {
   "cell_type": "code",
   "execution_count": null,
   "metadata": {},
   "outputs": [],
   "source": []
  }
 ],
 "metadata": {
  "kernelspec": {
   "display_name": "Python 3",
   "language": "python",
   "name": "python3"
  },
  "language_info": {
   "codemirror_mode": {
    "name": "ipython",
    "version": 3
   },
   "file_extension": ".py",
   "mimetype": "text/x-python",
   "name": "python",
   "nbconvert_exporter": "python",
   "pygments_lexer": "ipython3",
   "version": "3.8.11"
  }
 },
 "nbformat": 4,
 "nbformat_minor": 4
}
