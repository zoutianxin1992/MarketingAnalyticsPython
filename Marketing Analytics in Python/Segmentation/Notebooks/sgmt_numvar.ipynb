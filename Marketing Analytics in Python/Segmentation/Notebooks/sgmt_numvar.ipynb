{
 "cells": [
  {
   "cell_type": "markdown",
   "id": "e134d506",
   "metadata": {
    "tags": []
   },
   "source": [
    "# Consumer segmentation using k-means clustering algorithm "
   ]
  },
  {
   "cell_type": "markdown",
   "id": "d7ade1eb",
   "metadata": {
    "tags": []
   },
   "source": [
    "This document aims to showcase how to use k-means clustering algorithm to segment consumers. We will cover the following contents:\n",
    "- Importing data from GitHub\n",
    "- Preprocessing data for clustering analysis\n",
    "- Segmenting consumers using k-means clustering\n",
    "- Extracting customer insights from clustering results\n",
    "- Visualizing segmentation results\n"
   ]
  },
  {
   "cell_type": "markdown",
   "id": "378f66ab",
   "metadata": {
    "tags": []
   },
   "source": [
    "## Import data and data descriptions"
   ]
  },
  {
   "cell_type": "code",
   "execution_count": 1,
   "id": "81689006",
   "metadata": {
    "tags": []
   },
   "outputs": [],
   "source": [
    "import numpy as np\n",
    "import pandas as pd\n",
    "from sklearn.cluster import KMeans    # Use \"sklearn/cluster/KMeans\" for clustering analysis\n",
    "from matplotlib import pyplot as plt"
   ]
  },
  {
   "cell_type": "markdown",
   "id": "2c07effe",
   "metadata": {},
   "source": [
    "We will use \"MallCustomersTwoVariables.csv\" for analysis. <br>\n",
    "The dataset can be found at https://github.com/zoutianxin1992/MarketingAnalyticsPython/blob/main/Marketing%20Analytics%20in%20Python/Segmentation/Datasets/MallCustomersTwoVariables.csv </br>\n",
    "**Remember:** When loading the data from GitHub, you need to use the **RAW** version of the dataset. </br>\n",
    "If you load data from your own computer, replace \"url\" with the path to your dataset (it must be stored under your working directory.)."
   ]
  },
  {
   "cell_type": "code",
   "execution_count": 2,
   "id": "ec6e518c",
   "metadata": {
    "tags": []
   },
   "outputs": [
    {
     "name": "stdout",
     "output_type": "stream",
     "text": [
      "<class 'pandas.core.frame.DataFrame'>\n",
      "Int64Index: 200 entries, 1 to 200\n",
      "Data columns (total 2 columns):\n",
      " #   Column                  Non-Null Count  Dtype\n",
      "---  ------                  --------------  -----\n",
      " 0   Annual Income (k$)      200 non-null    int64\n",
      " 1   Spending Score (1-100)  200 non-null    int64\n",
      "dtypes: int64(2)\n",
      "memory usage: 4.7 KB\n"
     ]
    }
   ],
   "source": [
    "url = \"https://raw.githubusercontent.com/zoutianxin1992/MarketingAnalyticsPython/main/Marketing%20Analytics%20in%20Python/Segmentation/Datasets/MallCustomersTwoVariables.csv\"\n",
    "df = pd.read_csv(url,index_col=0) # use the first column (customer id) as index\n",
    "\n",
    "df.info()"
   ]
  },
  {
   "cell_type": "markdown",
   "id": "e91cad57",
   "metadata": {},
   "source": [
    "## Rename variables"
   ]
  },
  {
   "cell_type": "markdown",
   "id": "6d5ad8a0",
   "metadata": {},
   "source": [
    "Right now the names of the two variables are \"Annual Income (k)\" and \"Spending Score (1-100)\". Conventionally, to increase the code readability, variable names shouldn't have spaces and special symbols (-,etc). So we need to rename the variables to \"annual_income\" and \"spending_score\". \n",
    "\n",
    "<a href=\"https://realpython.com/python-pep8/\"> A guide of naming variables in Python</a>"
   ]
  },
  {
   "cell_type": "code",
   "execution_count": 3,
   "id": "5fc4fd36",
   "metadata": {},
   "outputs": [
    {
     "data": {
      "text/html": [
       "<div>\n",
       "<style scoped>\n",
       "    .dataframe tbody tr th:only-of-type {\n",
       "        vertical-align: middle;\n",
       "    }\n",
       "\n",
       "    .dataframe tbody tr th {\n",
       "        vertical-align: top;\n",
       "    }\n",
       "\n",
       "    .dataframe thead th {\n",
       "        text-align: right;\n",
       "    }\n",
       "</style>\n",
       "<table border=\"1\" class=\"dataframe\">\n",
       "  <thead>\n",
       "    <tr style=\"text-align: right;\">\n",
       "      <th></th>\n",
       "      <th>annual_income</th>\n",
       "      <th>spending_score</th>\n",
       "    </tr>\n",
       "    <tr>\n",
       "      <th>CustomerID</th>\n",
       "      <th></th>\n",
       "      <th></th>\n",
       "    </tr>\n",
       "  </thead>\n",
       "  <tbody>\n",
       "    <tr>\n",
       "      <th>1</th>\n",
       "      <td>15</td>\n",
       "      <td>81</td>\n",
       "    </tr>\n",
       "    <tr>\n",
       "      <th>2</th>\n",
       "      <td>15</td>\n",
       "      <td>39</td>\n",
       "    </tr>\n",
       "    <tr>\n",
       "      <th>3</th>\n",
       "      <td>16</td>\n",
       "      <td>77</td>\n",
       "    </tr>\n",
       "    <tr>\n",
       "      <th>4</th>\n",
       "      <td>16</td>\n",
       "      <td>6</td>\n",
       "    </tr>\n",
       "    <tr>\n",
       "      <th>5</th>\n",
       "      <td>17</td>\n",
       "      <td>76</td>\n",
       "    </tr>\n",
       "  </tbody>\n",
       "</table>\n",
       "</div>"
      ],
      "text/plain": [
       "            annual_income  spending_score\n",
       "CustomerID                               \n",
       "1                      15              81\n",
       "2                      15              39\n",
       "3                      16              77\n",
       "4                      16               6\n",
       "5                      17              76"
      ]
     },
     "execution_count": 3,
     "metadata": {},
     "output_type": "execute_result"
    }
   ],
   "source": [
    "df = df.rename(columns = {\"Annual Income (k$)\":\"annual_income\",\"Spending Score (1-100)\":\"spending_score\"})\n",
    "df.head()"
   ]
  },
  {
   "cell_type": "code",
   "execution_count": 6,
   "id": "ed93dd83",
   "metadata": {
    "tags": []
   },
   "outputs": [
    {
     "data": {
      "text/html": [
       "<div>\n",
       "<style scoped>\n",
       "    .dataframe tbody tr th:only-of-type {\n",
       "        vertical-align: middle;\n",
       "    }\n",
       "\n",
       "    .dataframe tbody tr th {\n",
       "        vertical-align: top;\n",
       "    }\n",
       "\n",
       "    .dataframe thead th {\n",
       "        text-align: right;\n",
       "    }\n",
       "</style>\n",
       "<table border=\"1\" class=\"dataframe\">\n",
       "  <thead>\n",
       "    <tr style=\"text-align: right;\">\n",
       "      <th></th>\n",
       "      <th>annual_income</th>\n",
       "      <th>spending_score</th>\n",
       "    </tr>\n",
       "  </thead>\n",
       "  <tbody>\n",
       "    <tr>\n",
       "      <th>count</th>\n",
       "      <td>200.000000</td>\n",
       "      <td>200.000000</td>\n",
       "    </tr>\n",
       "    <tr>\n",
       "      <th>mean</th>\n",
       "      <td>60.560000</td>\n",
       "      <td>50.200000</td>\n",
       "    </tr>\n",
       "    <tr>\n",
       "      <th>std</th>\n",
       "      <td>26.264721</td>\n",
       "      <td>25.823522</td>\n",
       "    </tr>\n",
       "    <tr>\n",
       "      <th>min</th>\n",
       "      <td>15.000000</td>\n",
       "      <td>1.000000</td>\n",
       "    </tr>\n",
       "    <tr>\n",
       "      <th>25%</th>\n",
       "      <td>41.500000</td>\n",
       "      <td>34.750000</td>\n",
       "    </tr>\n",
       "    <tr>\n",
       "      <th>50%</th>\n",
       "      <td>61.500000</td>\n",
       "      <td>50.000000</td>\n",
       "    </tr>\n",
       "    <tr>\n",
       "      <th>75%</th>\n",
       "      <td>78.000000</td>\n",
       "      <td>73.000000</td>\n",
       "    </tr>\n",
       "    <tr>\n",
       "      <th>max</th>\n",
       "      <td>137.000000</td>\n",
       "      <td>99.000000</td>\n",
       "    </tr>\n",
       "  </tbody>\n",
       "</table>\n",
       "</div>"
      ],
      "text/plain": [
       "       annual_income  spending_score\n",
       "count     200.000000      200.000000\n",
       "mean       60.560000       50.200000\n",
       "std        26.264721       25.823522\n",
       "min        15.000000        1.000000\n",
       "25%        41.500000       34.750000\n",
       "50%        61.500000       50.000000\n",
       "75%        78.000000       73.000000\n",
       "max       137.000000       99.000000"
      ]
     },
     "execution_count": 6,
     "metadata": {},
     "output_type": "execute_result"
    }
   ],
   "source": [
    "df.describe()"
   ]
  },
  {
   "cell_type": "markdown",
   "id": "98ba1ed7",
   "metadata": {
    "tags": []
   },
   "source": [
    "### Data visualization: data distribution (optional)"
   ]
  },
  {
   "cell_type": "markdown",
   "id": "022d4784",
   "metadata": {
    "tags": []
   },
   "source": [
    "When we have no more than two variables, we can intuitively look for consumer segments with a scatter plot, using \"matplotlab/pyplot\"."
   ]
  },
  {
   "cell_type": "code",
   "execution_count": 4,
   "id": "af565af6",
   "metadata": {
    "tags": []
   },
   "outputs": [
    {
     "data": {
      "image/png": "[encoded data removed]",
      "text/plain": [
       "<Figure size 864x576 with 1 Axes>"
      ]
     },
     "metadata": {
      "needs_background": "light"
     },
     "output_type": "display_data"
    }
   ],
   "source": [
    "%matplotlib inline\n",
    "# add this to guarantee Jupyter lab shows the plot\n",
    "\n",
    "plt.rcParams['figure.figsize'] = [12,8]  # set default figure size to be 12*8 inch\n",
    "df_scatter_plot = plt.scatter(df[\"annual_income\"],df[\"spending_score\"])   # generate the scatter plot\n",
    "plt.xlabel(\"Annual Income\", fontsize = 18)\n",
    "plt.ylabel(\"Spending Score\", fontsize = 18)     \n",
    "plt.tick_params(axis = \"both\", labelsize = 18)  \n",
    "\n",
    "# Alternative way to plot\n",
    "# plt.scatter(df.iloc[:, 0], df.iloc[:, 1])"
   ]
  },
  {
   "cell_type": "markdown",
   "id": "a364d303",
   "metadata": {},
   "source": [
    "## Segment consumers into five segments"
   ]
  },
  {
   "cell_type": "markdown",
   "id": "a38c4ea4",
   "metadata": {},
   "source": [
    "### Normalizing the data"
   ]
  },
  {
   "cell_type": "markdown",
   "id": "3ad7556d",
   "metadata": {
    "tags": []
   },
   "source": [
    "Different variables are measured by  different units. In our example, annual incomes are measured by k\\$, but spending scores by a 100-point scale. When this happens, we  need to \"normalize\" the data so the units across different variables become \"apple-to-apple\" comparable. One normalization method is called min-max normalization, which divides each variable by its range, so all normalized variables will be on a 0-to-1 scale.\n",
    "\n",
    "$$\n",
    "X_{transform} = \\frac {X_{original} - X_{min}} {X_{max} - X_{min}}\n",
    "$$\n",
    "\n",
    "This step is essential before applying k-mean.  </br>\n",
    "(An alternative normalization method is to substract a variable by its mean, and then divide it by its standard deviation. So, the mean of the normalized variable will be zero, and its standard deviation will be one.\n",
    "$$\n",
    "X_{transform} = \\frac {X_{original} - mean(X)} {std(X)}\n",
    "$$)"
   ]
  },
  {
   "cell_type": "code",
   "execution_count": 5,
   "id": "282afa35",
   "metadata": {
    "tags": []
   },
   "outputs": [
    {
     "data": {
      "text/html": [
       "<div>\n",
       "<style scoped>\n",
       "    .dataframe tbody tr th:only-of-type {\n",
       "        vertical-align: middle;\n",
       "    }\n",
       "\n",
       "    .dataframe tbody tr th {\n",
       "        vertical-align: top;\n",
       "    }\n",
       "\n",
       "    .dataframe thead th {\n",
       "        text-align: right;\n",
       "    }\n",
       "</style>\n",
       "<table border=\"1\" class=\"dataframe\">\n",
       "  <thead>\n",
       "    <tr style=\"text-align: right;\">\n",
       "      <th></th>\n",
       "      <th>annual_income</th>\n",
       "      <th>spending_score</th>\n",
       "    </tr>\n",
       "  </thead>\n",
       "  <tbody>\n",
       "    <tr>\n",
       "      <th>count</th>\n",
       "      <td>200.000000</td>\n",
       "      <td>200.000000</td>\n",
       "    </tr>\n",
       "    <tr>\n",
       "      <th>mean</th>\n",
       "      <td>0.373443</td>\n",
       "      <td>0.502041</td>\n",
       "    </tr>\n",
       "    <tr>\n",
       "      <th>std</th>\n",
       "      <td>0.215285</td>\n",
       "      <td>0.263505</td>\n",
       "    </tr>\n",
       "    <tr>\n",
       "      <th>min</th>\n",
       "      <td>0.000000</td>\n",
       "      <td>0.000000</td>\n",
       "    </tr>\n",
       "    <tr>\n",
       "      <th>25%</th>\n",
       "      <td>0.217213</td>\n",
       "      <td>0.344388</td>\n",
       "    </tr>\n",
       "    <tr>\n",
       "      <th>50%</th>\n",
       "      <td>0.381148</td>\n",
       "      <td>0.500000</td>\n",
       "    </tr>\n",
       "    <tr>\n",
       "      <th>75%</th>\n",
       "      <td>0.516393</td>\n",
       "      <td>0.734694</td>\n",
       "    </tr>\n",
       "    <tr>\n",
       "      <th>max</th>\n",
       "      <td>1.000000</td>\n",
       "      <td>1.000000</td>\n",
       "    </tr>\n",
       "  </tbody>\n",
       "</table>\n",
       "</div>"
      ],
      "text/plain": [
       "       annual_income  spending_score\n",
       "count     200.000000      200.000000\n",
       "mean        0.373443        0.502041\n",
       "std         0.215285        0.263505\n",
       "min         0.000000        0.000000\n",
       "25%         0.217213        0.344388\n",
       "50%         0.381148        0.500000\n",
       "75%         0.516393        0.734694\n",
       "max         1.000000        1.000000"
      ]
     },
     "execution_count": 5,
     "metadata": {},
     "output_type": "execute_result"
    }
   ],
   "source": [
    "df_normalized = (df-df.min())/(df.max()-df.min())  # By default, pandas calculate maximums and minimums by columns, which serves our purpose.\n",
    "df_normalized.describe()    # For both transformed variables, the minimum will be zero, and the maximum will be one."
   ]
  },
  {
   "cell_type": "markdown",
   "id": "98acfcba",
   "metadata": {},
   "source": [
    "### Applying k-mean algorithm to normalized data "
   ]
  },
  {
   "cell_type": "code",
   "execution_count": 11,
   "id": "3cbb8474",
   "metadata": {
    "tags": []
   },
   "outputs": [],
   "source": [
    "# This cell runs the k-mean algorithm (k=5) to segment consumers into five segments\n",
    "kmeanSpec = KMeans(n_clusters = 5, n_init = 100)  # setup the k-mean model specs\n",
    "kmean_result5 = kmeanSpec.fit(df_normalized)    # apply the above model to the normalized data and store the result"
   ]
  },
  {
   "cell_type": "markdown",
   "id": "f1f805df",
   "metadata": {},
   "source": [
    "The `n_init` parameter  tells KMeans to run clustering 100 times with 100 different initial guesses of the centroid locations. Some initial guesses may lead to \"local minima\" for SSE.\n",
    "![local minimum](https://www.researchgate.net/profile/Yong-Ma-5/publication/267820876/figure/fig1/AS:669428953923612@1536615708709/Schematic-of-the-local-minima-problem-in-FWI-The-data-misfit-has-spurious-local-minima.png)"
   ]
  },
  {
   "cell_type": "markdown",
   "id": "be5c2b6d",
   "metadata": {},
   "source": [
    "## Post-segmentation analysis"
   ]
  },
  {
   "cell_type": "markdown",
   "id": "e6cf0cdc",
   "metadata": {},
   "source": [
    "After applying k-mean, we want to know (1) which segment each consumer belongs to, (2) the locations of the centroids, which each represents the **average consumer** of each cluster, and (3) the number of consumers in each segment. "
   ]
  },
  {
   "cell_type": "markdown",
   "id": "e07ce93c",
   "metadata": {
    "tags": []
   },
   "source": [
    "### Which segment does each consumer belong to?"
   ]
  },
  {
   "cell_type": "code",
   "execution_count": 12,
   "id": "f90cb680",
   "metadata": {},
   "outputs": [
    {
     "data": {
      "text/html": [
       "<div>\n",
       "<style scoped>\n",
       "    .dataframe tbody tr th:only-of-type {\n",
       "        vertical-align: middle;\n",
       "    }\n",
       "\n",
       "    .dataframe tbody tr th {\n",
       "        vertical-align: top;\n",
       "    }\n",
       "\n",
       "    .dataframe thead th {\n",
       "        text-align: right;\n",
       "    }\n",
       "</style>\n",
       "<table border=\"1\" class=\"dataframe\">\n",
       "  <thead>\n",
       "    <tr style=\"text-align: right;\">\n",
       "      <th></th>\n",
       "      <th>annual_income</th>\n",
       "      <th>spending_score</th>\n",
       "      <th>segment</th>\n",
       "    </tr>\n",
       "    <tr>\n",
       "      <th>CustomerID</th>\n",
       "      <th></th>\n",
       "      <th></th>\n",
       "      <th></th>\n",
       "    </tr>\n",
       "  </thead>\n",
       "  <tbody>\n",
       "    <tr>\n",
       "      <th>1</th>\n",
       "      <td>15</td>\n",
       "      <td>81</td>\n",
       "      <td>2</td>\n",
       "    </tr>\n",
       "    <tr>\n",
       "      <th>2</th>\n",
       "      <td>15</td>\n",
       "      <td>39</td>\n",
       "      <td>4</td>\n",
       "    </tr>\n",
       "    <tr>\n",
       "      <th>3</th>\n",
       "      <td>16</td>\n",
       "      <td>77</td>\n",
       "      <td>2</td>\n",
       "    </tr>\n",
       "    <tr>\n",
       "      <th>4</th>\n",
       "      <td>16</td>\n",
       "      <td>6</td>\n",
       "      <td>4</td>\n",
       "    </tr>\n",
       "    <tr>\n",
       "      <th>5</th>\n",
       "      <td>17</td>\n",
       "      <td>76</td>\n",
       "      <td>2</td>\n",
       "    </tr>\n",
       "  </tbody>\n",
       "</table>\n",
       "</div>"
      ],
      "text/plain": [
       "            annual_income  spending_score  segment\n",
       "CustomerID                                        \n",
       "1                      15              81        2\n",
       "2                      15              39        4\n",
       "3                      16              77        2\n",
       "4                      16               6        4\n",
       "5                      17              76        2"
      ]
     },
     "execution_count": 12,
     "metadata": {},
     "output_type": "execute_result"
    }
   ],
   "source": [
    "df[\"segment\"] = kmean_result5.labels_  # add a new column \"segment\" indicating a consumer's segment\n",
    "df.head()"
   ]
  },
  {
   "cell_type": "markdown",
   "id": "a5397b0e",
   "metadata": {
    "tags": []
   },
   "source": [
    "### Summarize segment characteristics"
   ]
  },
  {
   "cell_type": "code",
   "execution_count": 13,
   "id": "1aec8e76",
   "metadata": {},
   "outputs": [
    {
     "data": {
      "text/html": [
       "<div>\n",
       "<style scoped>\n",
       "    .dataframe tbody tr th:only-of-type {\n",
       "        vertical-align: middle;\n",
       "    }\n",
       "\n",
       "    .dataframe tbody tr th {\n",
       "        vertical-align: top;\n",
       "    }\n",
       "\n",
       "    .dataframe thead tr th {\n",
       "        text-align: left;\n",
       "    }\n",
       "\n",
       "    .dataframe thead tr:last-of-type th {\n",
       "        text-align: right;\n",
       "    }\n",
       "</style>\n",
       "<table border=\"1\" class=\"dataframe\">\n",
       "  <thead>\n",
       "    <tr>\n",
       "      <th></th>\n",
       "      <th colspan=\"4\" halign=\"left\">annual_income</th>\n",
       "      <th colspan=\"4\" halign=\"left\">spending_score</th>\n",
       "      <th>segment</th>\n",
       "    </tr>\n",
       "    <tr>\n",
       "      <th></th>\n",
       "      <th>mean</th>\n",
       "      <th>min</th>\n",
       "      <th>max</th>\n",
       "      <th>std</th>\n",
       "      <th>mean</th>\n",
       "      <th>min</th>\n",
       "      <th>max</th>\n",
       "      <th>std</th>\n",
       "      <th>count</th>\n",
       "    </tr>\n",
       "    <tr>\n",
       "      <th>segment</th>\n",
       "      <th></th>\n",
       "      <th></th>\n",
       "      <th></th>\n",
       "      <th></th>\n",
       "      <th></th>\n",
       "      <th></th>\n",
       "      <th></th>\n",
       "      <th></th>\n",
       "      <th></th>\n",
       "    </tr>\n",
       "  </thead>\n",
       "  <tbody>\n",
       "    <tr>\n",
       "      <th>0</th>\n",
       "      <td>55.296296</td>\n",
       "      <td>39</td>\n",
       "      <td>76</td>\n",
       "      <td>8.988109</td>\n",
       "      <td>49.518519</td>\n",
       "      <td>34</td>\n",
       "      <td>61</td>\n",
       "      <td>6.530909</td>\n",
       "      <td>81</td>\n",
       "    </tr>\n",
       "    <tr>\n",
       "      <th>1</th>\n",
       "      <td>86.538462</td>\n",
       "      <td>69</td>\n",
       "      <td>137</td>\n",
       "      <td>16.312485</td>\n",
       "      <td>82.128205</td>\n",
       "      <td>63</td>\n",
       "      <td>97</td>\n",
       "      <td>9.364489</td>\n",
       "      <td>39</td>\n",
       "    </tr>\n",
       "    <tr>\n",
       "      <th>2</th>\n",
       "      <td>25.727273</td>\n",
       "      <td>15</td>\n",
       "      <td>39</td>\n",
       "      <td>7.566731</td>\n",
       "      <td>79.363636</td>\n",
       "      <td>61</td>\n",
       "      <td>99</td>\n",
       "      <td>10.504174</td>\n",
       "      <td>22</td>\n",
       "    </tr>\n",
       "    <tr>\n",
       "      <th>3</th>\n",
       "      <td>88.200000</td>\n",
       "      <td>70</td>\n",
       "      <td>137</td>\n",
       "      <td>16.399067</td>\n",
       "      <td>17.114286</td>\n",
       "      <td>1</td>\n",
       "      <td>39</td>\n",
       "      <td>9.952154</td>\n",
       "      <td>35</td>\n",
       "    </tr>\n",
       "    <tr>\n",
       "      <th>4</th>\n",
       "      <td>26.304348</td>\n",
       "      <td>15</td>\n",
       "      <td>39</td>\n",
       "      <td>7.893811</td>\n",
       "      <td>20.913043</td>\n",
       "      <td>3</td>\n",
       "      <td>40</td>\n",
       "      <td>13.017167</td>\n",
       "      <td>23</td>\n",
       "    </tr>\n",
       "  </tbody>\n",
       "</table>\n",
       "</div>"
      ],
      "text/plain": [
       "        annual_income                     spending_score                     \\\n",
       "                 mean min  max        std           mean min max        std   \n",
       "segment                                                                       \n",
       "0           55.296296  39   76   8.988109      49.518519  34  61   6.530909   \n",
       "1           86.538462  69  137  16.312485      82.128205  63  97   9.364489   \n",
       "2           25.727273  15   39   7.566731      79.363636  61  99  10.504174   \n",
       "3           88.200000  70  137  16.399067      17.114286   1  39   9.952154   \n",
       "4           26.304348  15   39   7.893811      20.913043   3  40  13.017167   \n",
       "\n",
       "        segment  \n",
       "          count  \n",
       "segment          \n",
       "0            81  \n",
       "1            39  \n",
       "2            22  \n",
       "3            35  \n",
       "4            23  "
      ]
     },
     "execution_count": 13,
     "metadata": {},
     "output_type": "execute_result"
    }
   ],
   "source": [
    "# We want to summarize, by each segment, the descriptive stats for consumers' annual incomes and spending scores\n",
    "# Note we summarize the original dataset (\"df\"), rather than the normalized one, because only the variables in the former have real meanings.\n",
    "\n",
    "\n",
    "summary_table = df.groupby(\"segment\").aggregate({                           # groupby(\"X\") enables the calculation is separately done for each value of X \n",
    "    \"annual_income\": [\"mean\",\"min\",\"max\",\"std\"],             # calculate the mean/min/max/std of annual income for each segment\n",
    "    \"spending_score\": [\"mean\",\"min\",\"max\",\"std\"],            # calculate the mean/min/max/std of spending score for each segment\n",
    "    \"segment\": \"count\"                                       # count how many consumers are there in each segment\n",
    "}\n",
    ")\n",
    "\n",
    "summary_table"
   ]
  },
  {
   "cell_type": "markdown",
   "id": "77896915",
   "metadata": {},
   "source": [
    "According to the table, segment 0 has 39 consumers, and an average consumer in the segment has an annual income of 86.54 thousand dollars, and a spending score of 82.13 out of 100. (86.54, 82.13) is the centroid position for segment 0. </br>\n",
    "Comparing with other segments, segment 0 consumers have high incomes and high spending powers. "
   ]
  },
  {
   "cell_type": "markdown",
   "id": "dc49c880",
   "metadata": {
    "tags": []
   },
   "source": [
    "### Data Visualization: segmentation results"
   ]
  },
  {
   "cell_type": "code",
   "execution_count": 15,
   "id": "0f8ae076",
   "metadata": {},
   "outputs": [
    {
     "data": {
      "image/png": "[encoded data removed]",
      "text/plain": [
       "<Figure size 864x576 with 1 Axes>"
      ]
     },
     "metadata": {
      "needs_background": "light"
     },
     "output_type": "display_data"
    }
   ],
   "source": [
    "%matplotlib inline\n",
    "\n",
    "# Extract centroid positions\n",
    "centroids = summary_table.iloc[:,[0,4]]\n",
    "\n",
    "\n",
    "# Generate segmentation plot\n",
    "plt.rcParams['figure.figsize'] = [12,8] \n",
    "plt.scatter(df[\"annual_income\"], df[\"spending_score\"], c = df[\"segment\"],s = 50) # \"c\" is color parameter, so we assign different segments with different parameters\n",
    "plt.xlabel(\"Annual Income\", fontsize = 18)\n",
    "plt.ylabel(\"Spending Score\", fontsize = 18)\n",
    "plt.tick_params(axis='both', labelsize = 18)\n",
    "\n",
    "# mark the centroids on the plot\n",
    "plt.scatter(centroids.iloc[:, 0], centroids.iloc[:, 1], c = \"red\", marker = \"x\", s = 100);"
   ]
  },
  {
   "cell_type": "code",
   "execution_count": null,
   "id": "b6302b67",
   "metadata": {},
   "outputs": [],
   "source": []
  }
 ],
 "metadata": {
  "kernelspec": {
   "display_name": "Python 3 (ipykernel)",
   "language": "python",
   "name": "python3"
  },
  "language_info": {
   "codemirror_mode": {
    "name": "ipython",
    "version": 3
   },
   "file_extension": ".py",
   "mimetype": "text/x-python",
   "name": "python",
   "nbconvert_exporter": "python",
   "pygments_lexer": "ipython3",
   "version": "3.7.0"
  },
  "toc-showmarkdowntxt": false
 },
 "nbformat": 4,
 "nbformat_minor": 5
}
