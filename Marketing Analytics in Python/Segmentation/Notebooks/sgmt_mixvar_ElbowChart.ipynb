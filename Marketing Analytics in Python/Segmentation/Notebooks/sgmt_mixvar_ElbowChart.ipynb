{
 "cells": [
  {
   "cell_type": "markdown",
   "metadata": {},
   "source": [
    "# Consumer segmentation - choosing optimal cluster numbers for mixed variables"
   ]
  },
  {
   "cell_type": "markdown",
   "metadata": {},
   "source": [
    "In this exercise, you will \n",
    "- use elbow chart to determine how many consumer segments to generate\n",
    "- segment consumers using the optimal number of segments\n",
    "- because the data have mixed data types, k-prototypes algorithm should be used\n"
   ]
  },
  {
   "cell_type": "markdown",
   "metadata": {},
   "source": [
    "We will use \"MallCustomersAllVariables.csv\" for analysis. Github link can be found [here](https://github.com/zoutianxin1992/MarketingAnalyticsPython/blob/main/Marketing%20Analytics%20in%20Python/Segmentation/Datasets/MallCustomersTwoVariables.csv)."
   ]
  },
  {
   "cell_type": "markdown",
   "metadata": {},
   "source": [
    "## Load and preprocess data"
   ]
  },
  {
   "cell_type": "code",
   "execution_count": 1,
   "metadata": {},
   "outputs": [
    {
     "data": {
      "text/html": [
       "<div>\n",
       "<style scoped>\n",
       "    .dataframe tbody tr th:only-of-type {\n",
       "        vertical-align: middle;\n",
       "    }\n",
       "\n",
       "    .dataframe tbody tr th {\n",
       "        vertical-align: top;\n",
       "    }\n",
       "\n",
       "    .dataframe thead th {\n",
       "        text-align: right;\n",
       "    }\n",
       "</style>\n",
       "<table border=\"1\" class=\"dataframe\">\n",
       "  <thead>\n",
       "    <tr style=\"text-align: right;\">\n",
       "      <th></th>\n",
       "      <th>gender</th>\n",
       "      <th>age</th>\n",
       "      <th>annual_income</th>\n",
       "      <th>spending_score</th>\n",
       "    </tr>\n",
       "    <tr>\n",
       "      <th>CustomerID</th>\n",
       "      <th></th>\n",
       "      <th></th>\n",
       "      <th></th>\n",
       "      <th></th>\n",
       "    </tr>\n",
       "  </thead>\n",
       "  <tbody>\n",
       "    <tr>\n",
       "      <th>1</th>\n",
       "      <td>M</td>\n",
       "      <td>0.057692</td>\n",
       "      <td>0.000000</td>\n",
       "      <td>0.816327</td>\n",
       "    </tr>\n",
       "    <tr>\n",
       "      <th>2</th>\n",
       "      <td>M</td>\n",
       "      <td>0.019231</td>\n",
       "      <td>0.000000</td>\n",
       "      <td>0.387755</td>\n",
       "    </tr>\n",
       "    <tr>\n",
       "      <th>3</th>\n",
       "      <td>F</td>\n",
       "      <td>0.096154</td>\n",
       "      <td>0.008197</td>\n",
       "      <td>0.775510</td>\n",
       "    </tr>\n",
       "    <tr>\n",
       "      <th>4</th>\n",
       "      <td>F</td>\n",
       "      <td>0.038462</td>\n",
       "      <td>0.008197</td>\n",
       "      <td>0.051020</td>\n",
       "    </tr>\n",
       "    <tr>\n",
       "      <th>5</th>\n",
       "      <td>F</td>\n",
       "      <td>0.076923</td>\n",
       "      <td>0.016393</td>\n",
       "      <td>0.765306</td>\n",
       "    </tr>\n",
       "  </tbody>\n",
       "</table>\n",
       "</div>"
      ],
      "text/plain": [
       "           gender       age  annual_income  spending_score\n",
       "CustomerID                                                \n",
       "1               M  0.057692       0.000000        0.816327\n",
       "2               M  0.019231       0.000000        0.387755\n",
       "3               F  0.096154       0.008197        0.775510\n",
       "4               F  0.038462       0.008197        0.051020\n",
       "5               F  0.076923       0.016393        0.765306"
      ]
     },
     "execution_count": 1,
     "metadata": {},
     "output_type": "execute_result"
    }
   ],
   "source": [
    "# importing packages\n",
    "import numpy as np\n",
    "import pandas as pd\n",
    "from kmodes.kprototypes import KPrototypes   # We will use the k-prototypes algorithm\n",
    "from matplotlib import pyplot as plt\n",
    "\n",
    "# change variable names\n",
    "url = \"https://raw.githubusercontent.com/zoutianxin1992/MarketingAnalyticsPython/main/Marketing%20Analytics%20in%20Python/Segmentation/Datasets/MallCustomersAllVariables.csv\"\n",
    "df = pd.read_csv(url,index_col=0) # use the first column (customer id) as index\n",
    "df = df.rename(columns = {\"Gender\":\"gender\",\n",
    "                         \"Age\":\"age\",\n",
    "                         \"Annual Income (k$)\":\"annual_income\",\n",
    "                         \"Spending Score (1-100)\":\"spending_score\"})\n",
    "\n",
    "# normalizing the data for k-mean algorithm\n",
    "df_normalized = df.copy() # create a copy of the orignial dataset\n",
    "\n",
    "\n",
    "\n",
    "df_normalized[['age','annual_income','spending_score']] = \\\n",
    "    (df[['age','annual_income','spending_score']]-df[['age','annual_income','spending_score']].min()) \\\n",
    "    /(df[['age','annual_income','spending_score']].max()-df[['age','annual_income','spending_score']].min())\n",
    "\n",
    "# \"\\\" breaks a line into multiple lines. There shouldn't be any spaces after \"\\\"\n",
    "df_normalized.head()"
   ]
  },
  {
   "cell_type": "markdown",
   "metadata": {},
   "source": [
    "## Determine the optimal number of segments"
   ]
  },
  {
   "cell_type": "code",
   "execution_count": 2,
   "metadata": {},
   "outputs": [
    {
     "data": {
      "text/plain": [
       "array([33.8075906 , 27.48598182, 22.41184792, 18.76122347, 15.89331005,\n",
       "       13.96002406, 12.2456312 , 10.6021104 ,  9.24994031])"
      ]
     },
     "execution_count": 2,
     "metadata": {},
     "output_type": "execute_result"
    }
   ],
   "source": [
    "# calculate clustering cost (comparable to SSE) for different k's, and store them in a vector\n",
    "\n",
    "K = 10  # K is the maximum number of clusters we will check\n",
    "store_cost = np.zeros(K-1)    # create a vector to store the clustering \"cost\", which is comparable to SSE in k-means. k is between 2 and K. \n",
    "\n",
    "for k in range(2, K+1):                                   # try k from 2 to K  \n",
    "    kprotoSpec = KPrototypes(n_clusters = k, n_init = 20)                        # set up k-mean model with k clusters\n",
    "    kproto_result = kprotoSpec.fit(df_normalized, categorical = [0])               # run k-mean on normalized data\n",
    "    kproto_prediction = kproto_result.labels_                 # the predicted segments for consumers  \n",
    "    store_cost[k-2] = kproto_result.cost_         # store the clustering cost \n",
    "\n",
    "store_cost"
   ]
  },
  {
   "cell_type": "code",
   "execution_count": 3,
   "metadata": {},
   "outputs": [
    {
     "data": {
      "text/plain": [
       "Text(0.5,0,'number of clusters')"
      ]
     },
     "execution_count": 3,
     "metadata": {},
     "output_type": "execute_result"
    },
    {
     "data": {
      "image/png": "[encoded data removed]",
      "text/plain": [
       "<Figure size 864x576 with 1 Axes>"
      ]
     },
     "metadata": {
      "needs_background": "light"
     },
     "output_type": "display_data"
    }
   ],
   "source": [
    "# plot elbow chart\n",
    "\n",
    "%matplotlib inline\n",
    "plt.rcParams['figure.figsize'] = [12,8]  # set figure size to be 12*8 inch\n",
    "plt.plot(range(2, K+1), store_cost)        \n",
    "plt.xticks(range(2, K+1), fontsize = 18)\n",
    "plt.yticks(fontsize = 18)\n",
    "plt.ylabel(\"Clustering cost\",fontsize = 18)\n",
    "plt.xlabel(\"number of clusters\", fontsize = 18)"
   ]
  },
  {
   "cell_type": "markdown",
   "metadata": {},
   "source": [
    "## Segment consumers using the optimal number of segments"
   ]
  },
  {
   "cell_type": "code",
   "execution_count": 6,
   "metadata": {
    "tags": []
   },
   "outputs": [],
   "source": [
    "kprotoSpec = KPrototypes(n_clusters = 6, n_init = 20)  # setup the k-mean model specs\n",
    "kproto_result = kprotoSpec.fit(df_normalized,categorical = [0])    # apply the above model to the normalized data and store the result"
   ]
  },
  {
   "cell_type": "markdown",
   "metadata": {
    "tags": []
   },
   "source": [
    "## Post-segmentation analysis"
   ]
  },
  {
   "cell_type": "markdown",
   "metadata": {
    "tags": []
   },
   "source": [
    "### Which segment does each consumer belong to?"
   ]
  },
  {
   "cell_type": "markdown",
   "metadata": {},
   "source": [
    "Create a new column in the **original** dataframe for which segment a consumer belongs to."
   ]
  },
  {
   "cell_type": "code",
   "execution_count": 7,
   "metadata": {
    "tags": []
   },
   "outputs": [
    {
     "data": {
      "text/html": [
       "<div>\n",
       "<style scoped>\n",
       "    .dataframe tbody tr th:only-of-type {\n",
       "        vertical-align: middle;\n",
       "    }\n",
       "\n",
       "    .dataframe tbody tr th {\n",
       "        vertical-align: top;\n",
       "    }\n",
       "\n",
       "    .dataframe thead th {\n",
       "        text-align: right;\n",
       "    }\n",
       "</style>\n",
       "<table border=\"1\" class=\"dataframe\">\n",
       "  <thead>\n",
       "    <tr style=\"text-align: right;\">\n",
       "      <th></th>\n",
       "      <th>gender</th>\n",
       "      <th>age</th>\n",
       "      <th>annual_income</th>\n",
       "      <th>spending_score</th>\n",
       "      <th>segment</th>\n",
       "    </tr>\n",
       "    <tr>\n",
       "      <th>CustomerID</th>\n",
       "      <th></th>\n",
       "      <th></th>\n",
       "      <th></th>\n",
       "      <th></th>\n",
       "      <th></th>\n",
       "    </tr>\n",
       "  </thead>\n",
       "  <tbody>\n",
       "    <tr>\n",
       "      <th>1</th>\n",
       "      <td>M</td>\n",
       "      <td>21</td>\n",
       "      <td>15</td>\n",
       "      <td>81</td>\n",
       "      <td>1</td>\n",
       "    </tr>\n",
       "    <tr>\n",
       "      <th>2</th>\n",
       "      <td>M</td>\n",
       "      <td>19</td>\n",
       "      <td>15</td>\n",
       "      <td>39</td>\n",
       "      <td>1</td>\n",
       "    </tr>\n",
       "    <tr>\n",
       "      <th>3</th>\n",
       "      <td>F</td>\n",
       "      <td>23</td>\n",
       "      <td>16</td>\n",
       "      <td>77</td>\n",
       "      <td>3</td>\n",
       "    </tr>\n",
       "    <tr>\n",
       "      <th>4</th>\n",
       "      <td>F</td>\n",
       "      <td>20</td>\n",
       "      <td>16</td>\n",
       "      <td>6</td>\n",
       "      <td>3</td>\n",
       "    </tr>\n",
       "    <tr>\n",
       "      <th>5</th>\n",
       "      <td>F</td>\n",
       "      <td>22</td>\n",
       "      <td>17</td>\n",
       "      <td>76</td>\n",
       "      <td>3</td>\n",
       "    </tr>\n",
       "  </tbody>\n",
       "</table>\n",
       "</div>"
      ],
      "text/plain": [
       "           gender  age  annual_income  spending_score  segment\n",
       "CustomerID                                                    \n",
       "1               M   21             15              81        1\n",
       "2               M   19             15              39        1\n",
       "3               F   23             16              77        3\n",
       "4               F   20             16               6        3\n",
       "5               F   22             17              76        3"
      ]
     },
     "execution_count": 7,
     "metadata": {},
     "output_type": "execute_result"
    }
   ],
   "source": [
    "df[\"segment\"] = kproto_result.labels_ \n",
    "df.head()"
   ]
  },
  {
   "cell_type": "markdown",
   "metadata": {},
   "source": [
    "For each segment, summarize the mean/min/max's of all the numerical variable, and the proportion of male consumers in each segment.\n",
    "Also count the number of consumers in each segment."
   ]
  },
  {
   "cell_type": "code",
   "execution_count": 10,
   "metadata": {
    "tags": []
   },
   "outputs": [
    {
     "data": {
      "text/html": [
       "<div>\n",
       "<style scoped>\n",
       "    .dataframe tbody tr th:only-of-type {\n",
       "        vertical-align: middle;\n",
       "    }\n",
       "\n",
       "    .dataframe tbody tr th {\n",
       "        vertical-align: top;\n",
       "    }\n",
       "\n",
       "    .dataframe thead tr th {\n",
       "        text-align: left;\n",
       "    }\n",
       "\n",
       "    .dataframe thead tr:last-of-type th {\n",
       "        text-align: right;\n",
       "    }\n",
       "</style>\n",
       "<table border=\"1\" class=\"dataframe\">\n",
       "  <thead>\n",
       "    <tr>\n",
       "      <th></th>\n",
       "      <th>gender</th>\n",
       "      <th colspan=\"3\" halign=\"left\">age</th>\n",
       "      <th colspan=\"3\" halign=\"left\">annual_income</th>\n",
       "      <th colspan=\"3\" halign=\"left\">spending_score</th>\n",
       "      <th>segment</th>\n",
       "    </tr>\n",
       "    <tr>\n",
       "      <th></th>\n",
       "      <th>&lt;lambda&gt;</th>\n",
       "      <th>mean</th>\n",
       "      <th>min</th>\n",
       "      <th>max</th>\n",
       "      <th>mean</th>\n",
       "      <th>min</th>\n",
       "      <th>max</th>\n",
       "      <th>mean</th>\n",
       "      <th>min</th>\n",
       "      <th>max</th>\n",
       "      <th>count</th>\n",
       "    </tr>\n",
       "    <tr>\n",
       "      <th>segment</th>\n",
       "      <th></th>\n",
       "      <th></th>\n",
       "      <th></th>\n",
       "      <th></th>\n",
       "      <th></th>\n",
       "      <th></th>\n",
       "      <th></th>\n",
       "      <th></th>\n",
       "      <th></th>\n",
       "      <th></th>\n",
       "      <th></th>\n",
       "    </tr>\n",
       "  </thead>\n",
       "  <tbody>\n",
       "    <tr>\n",
       "      <th>0</th>\n",
       "      <td>0.000000</td>\n",
       "      <td>50.148936</td>\n",
       "      <td>35</td>\n",
       "      <td>68</td>\n",
       "      <td>54.319149</td>\n",
       "      <td>18</td>\n",
       "      <td>101</td>\n",
       "      <td>37.553191</td>\n",
       "      <td>5</td>\n",
       "      <td>59</td>\n",
       "      <td>47</td>\n",
       "    </tr>\n",
       "    <tr>\n",
       "      <th>1</th>\n",
       "      <td>1.000000</td>\n",
       "      <td>28.162162</td>\n",
       "      <td>18</td>\n",
       "      <td>40</td>\n",
       "      <td>54.486486</td>\n",
       "      <td>15</td>\n",
       "      <td>101</td>\n",
       "      <td>67.945946</td>\n",
       "      <td>35</td>\n",
       "      <td>97</td>\n",
       "      <td>37</td>\n",
       "    </tr>\n",
       "    <tr>\n",
       "      <th>2</th>\n",
       "      <td>1.000000</td>\n",
       "      <td>58.037037</td>\n",
       "      <td>37</td>\n",
       "      <td>70</td>\n",
       "      <td>47.629630</td>\n",
       "      <td>19</td>\n",
       "      <td>71</td>\n",
       "      <td>38.851852</td>\n",
       "      <td>3</td>\n",
       "      <td>60</td>\n",
       "      <td>27</td>\n",
       "    </tr>\n",
       "    <tr>\n",
       "      <th>3</th>\n",
       "      <td>0.000000</td>\n",
       "      <td>25.945946</td>\n",
       "      <td>18</td>\n",
       "      <td>35</td>\n",
       "      <td>42.216216</td>\n",
       "      <td>16</td>\n",
       "      <td>76</td>\n",
       "      <td>57.459459</td>\n",
       "      <td>6</td>\n",
       "      <td>99</td>\n",
       "      <td>37</td>\n",
       "    </tr>\n",
       "    <tr>\n",
       "      <th>4</th>\n",
       "      <td>0.730769</td>\n",
       "      <td>38.653846</td>\n",
       "      <td>19</td>\n",
       "      <td>59</td>\n",
       "      <td>90.230769</td>\n",
       "      <td>71</td>\n",
       "      <td>137</td>\n",
       "      <td>16.730769</td>\n",
       "      <td>1</td>\n",
       "      <td>36</td>\n",
       "      <td>26</td>\n",
       "    </tr>\n",
       "    <tr>\n",
       "      <th>5</th>\n",
       "      <td>0.192308</td>\n",
       "      <td>32.269231</td>\n",
       "      <td>27</td>\n",
       "      <td>38</td>\n",
       "      <td>90.346154</td>\n",
       "      <td>70</td>\n",
       "      <td>137</td>\n",
       "      <td>82.730769</td>\n",
       "      <td>69</td>\n",
       "      <td>97</td>\n",
       "      <td>26</td>\n",
       "    </tr>\n",
       "  </tbody>\n",
       "</table>\n",
       "</div>"
      ],
      "text/plain": [
       "           gender        age         annual_income          spending_score  \\\n",
       "         <lambda>       mean min max          mean min  max           mean   \n",
       "segment                                                                      \n",
       "0        0.000000  50.148936  35  68     54.319149  18  101      37.553191   \n",
       "1        1.000000  28.162162  18  40     54.486486  15  101      67.945946   \n",
       "2        1.000000  58.037037  37  70     47.629630  19   71      38.851852   \n",
       "3        0.000000  25.945946  18  35     42.216216  16   76      57.459459   \n",
       "4        0.730769  38.653846  19  59     90.230769  71  137      16.730769   \n",
       "5        0.192308  32.269231  27  38     90.346154  70  137      82.730769   \n",
       "\n",
       "                segment  \n",
       "        min max   count  \n",
       "segment                  \n",
       "0         5  59      47  \n",
       "1        35  97      37  \n",
       "2         3  60      27  \n",
       "3         6  99      37  \n",
       "4         1  36      26  \n",
       "5        69  97      26  "
      ]
     },
     "execution_count": 10,
     "metadata": {},
     "output_type": "execute_result"
    }
   ],
   "source": [
    "# summarize  variables\n",
    "   \n",
    "summary_table = df.groupby(\"segment\").aggregate({                           \n",
    "    \"gender\": lambda x: x[x == \"M\"].count()/x.count(),   # lambda allows us to define an inline function\n",
    "    \"age\":[\"mean\",\"min\",\"max\"],\n",
    "    \"annual_income\": [\"mean\",\"min\",\"max\"],             \n",
    "    \"spending_score\": [\"mean\",\"min\",\"max\"],            \n",
    "    \"segment\": \"count\"                                   \n",
    "}\n",
    ")\n",
    "summary_table\n"
   ]
  },
  {
   "cell_type": "code",
   "execution_count": null,
   "metadata": {},
   "outputs": [],
   "source": []
  }
 ],
 "metadata": {
  "kernelspec": {
   "display_name": "Python 3",
   "language": "python",
   "name": "python3"
  },
  "language_info": {
   "codemirror_mode": {
    "name": "ipython",
    "version": 3
   },
   "file_extension": ".py",
   "mimetype": "text/x-python",
   "name": "python",
   "nbconvert_exporter": "python",
   "pygments_lexer": "ipython3",
   "version": "3.7.0"
  }
 },
 "nbformat": 4,
 "nbformat_minor": 5
}
