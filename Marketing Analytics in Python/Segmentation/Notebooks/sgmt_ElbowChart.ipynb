{
 "cells": [
  {
   "cell_type": "markdown",
   "id": "dc82ff75-beb5-4c89-b3e9-91dc500652cb",
   "metadata": {},
   "source": [
    "# Choosing the number of segments - Elbow chart method"
   ]
  },
  {
   "cell_type": "markdown",
   "id": "50e28ef3-e6d0-409a-b3ba-a7758cc434df",
   "metadata": {},
   "source": [
    "This document shows how to choose the number of segments (optimal $k$) using elbow charts."
   ]
  },
  {
   "cell_type": "markdown",
   "id": "4174574a-0724-4c1b-bfcf-5880f49b8c12",
   "metadata": {},
   "source": [
    "## Introducing elbow chart method"
   ]
  },
  {
   "cell_type": "markdown",
   "id": "499499f8-5ca8-413e-a58e-c47886694c94",
   "metadata": {},
   "source": [
    "**When we should (not) add more clusters**: In clustering analysis, the squared error ($SE$) of a data point is the square of the distance from the point to the centroid of the cluster the point belongs to. $SSE$ (sum of squared errors) is the sum of $SE$'s of all data points. Ideally, the $SSE$ is the lower, the better. Although adding more clusters (a higher $k$) always reduces $SSE$, adding too many clusters can be managerially cumbersome (e.g., when designing individual strategies for each segment) and redundant (e.g., nearby clusters have little differences). Hence, we want to add more clusters if doing so can **significantly** reduce $SSE$, and stop adding clusters if doing so **doesn't reduce $SSE$ by much**."
   ]
  },
  {
   "cell_type": "markdown",
   "id": "1d0cde03-b633-4d84-966f-797b68e2dd53",
   "metadata": {},
   "source": [
    "**How elbow chart works**: The elbow chart plots a curve of how SSE changes with the number of clusters. Because adding more clusters will reduce SSE, the curve will be downward sloping, and the curve is steeper if adding one more cluster ($k \\rightarrow k+1$) reduces SSE by a greater amount. We should choose the cluster number $k$ that corresponds to the \"elbow point\" in the plot (the kink where the curve exhibits an \"L\" shape). The elbow point indicates that the curve is steeper on the left ($SSE$ decreases a lot from $k-1$ to $k$), and is flatter on the right ($SSE$ decreases not much from $k$ to $k+1$)."
   ]
  },
  {
   "cell_type": "markdown",
   "id": "5ad1dc0e-863c-4671-8c74-4edae6253503",
   "metadata": {},
   "source": [
    "**Procedure**: Suppose we want to create no more than $K$ segments. The procedure is as follows:\n",
    "1. For $k$ from $1$ to $K$, run k-mean algorithm with $k$ clusters, and calculate and record the $SSE$.\n",
    "2. Plot $SSE$ over the number of segments $k$ to get the elbow chart.\n",
    "3. Find $k$ that corresponds to the elbow point. This is the optimal number of segments to segment consumers.\n",
    "4. Use the optimal $k$ to run k-mean algorithm to segment consumers."
   ]
  },
  {
   "cell_type": "markdown",
   "id": "a03d65ab-5dc8-4f76-9fe5-da122e7b8aea",
   "metadata": {},
   "source": [
    "We will use \"MallCustomersTwoVariables.csv\" for analysis."
   ]
  },
  {
   "cell_type": "markdown",
   "id": "3e9b8e23-4bd1-470f-b5a1-2a1dd6b722ca",
   "metadata": {},
   "source": [
    "## Loading data and preprocessing "
   ]
  },
  {
   "cell_type": "markdown",
   "id": "c5a4b377-3dff-493f-9939-ae2148c4e65f",
   "metadata": {},
   "source": [
    "This section will generate the normalized dataframe, `df_normalized`, for k-mean algorihm."
   ]
  },
  {
   "cell_type": "code",
   "execution_count": 3,
   "id": "cd48901a-97ad-4a15-bb41-c20f6665dc67",
   "metadata": {},
   "outputs": [],
   "source": [
    "# importing packages\n",
    "import numpy as np\n",
    "import pandas as pd\n",
    "from sklearn.cluster import KMeans    # Use \"sklearn/cluster/KMeans\" for clustering analysis \n",
    "\n",
    "# importing data and renaming variables\n",
    "df = pd.read_csv(\"C:/Users/zoutianxin/Dropbox/Teach/Marketing analytics/2021/2021 Analytics/clustering/datasets/MallCustomersTwoVariables.csv\",index_col=0) # use the first column (customer id) as index\n",
    "df = df.rename(columns = {\"Annual Income (k$)\":\"annual_income\",\"Spending Score (1-100)\":\"spending_score\"})\n",
    "\n",
    "\n",
    "# normalizing the data for k-mean algorithm\n",
    "df_normalized = (df-df.min())/(df.max()-df.min())  # By default, pandas calculate maximums and minimums by columns, which serves our purpose."
   ]
  },
  {
   "cell_type": "markdown",
   "id": "8f8e7de7-bc1f-42b1-8133-70ef9bc62452",
   "metadata": {},
   "source": [
    "## Calculate $SSE$ for each $k$"
   ]
  },
  {
   "cell_type": "markdown",
   "id": "e5c970ba-de9a-47c4-9aec-0b04a49291ea",
   "metadata": {},
   "source": [
    "For exposition, we will create no more than $K = 10$ clusters, and calculate $SSE$s when $k = 1,2,3,...,K$. This can be achieved with a for loop.\n",
    "<br />\n",
    "(If you use Windows, you may see a warning of \"KMeans is known to have a memory leak....\" Don't worry in our case because both our data size and the number of clusters are much smaller than when the problem will happen.)"
   ]
  },
  {
   "cell_type": "code",
   "execution_count": 9,
   "id": "e88dda99-85aa-4a22-8467-b247d0397ff7",
   "metadata": {
    "tags": []
   },
   "outputs": [
    {
     "name": "stderr",
     "output_type": "stream",
     "text": [
      "C:\\software\\anaconda\\lib\\site-packages\\sklearn\\cluster\\_kmeans.py:882: UserWarning: KMeans is known to have a memory leak on Windows with MKL, when there are less chunks than available threads. You can avoid it by setting the environment variable OMP_NUM_THREADS=1.\n",
      "  f\"KMeans is known to have a memory leak on Windows \"\n"
     ]
    },
    {
     "data": {
      "text/plain": [
       "array([23.04072033, 13.99350528,  9.05898522,  6.11031227,  3.58311791,\n",
       "        3.09870795,  2.6252513 ,  2.21821607,  1.87343467,  1.69238125])"
      ]
     },
     "execution_count": 9,
     "metadata": {},
     "output_type": "execute_result"
    }
   ],
   "source": [
    "K = 10  # K is the maximum number of clusters we will check\n",
    "store_SSE = np.zeros(K)    # create a vector to store SSE's. The k-th entry will be the SSE with k clusters.\n",
    "\n",
    "for k in range(1, K+1):                                   # try k from 1 to K  \n",
    "    kmeanSpec = KMeans(n_clusters = k)                        # set up k-mean model with k clusters\n",
    "    kmean_result = kmeanSpec.fit(df_normalized)               # run k-mean on normalized data\n",
    "    store_SSE[k-1] = kmeanSpec.inertia_                       # store the SSE (.inertia_) in the k-th entry of store_SSE\n",
    "\n",
    "\n",
    "store_SSE"
   ]
  },
  {
   "cell_type": "markdown",
   "id": "3ab324e0-a685-4ef9-aeed-14260749c9e5",
   "metadata": {},
   "source": [
    "## Generate elbow chart"
   ]
  },
  {
   "cell_type": "code",
   "execution_count": 14,
   "id": "1982e06f-9ad0-4cf6-a4b5-0c749f501cfa",
   "metadata": {},
   "outputs": [
    {
     "data": {
      "text/plain": [
       "Text(0.5, 0, 'number of clusters')"
      ]
     },
     "execution_count": 14,
     "metadata": {},
     "output_type": "execute_result"
    },
    {
     "data": {
      "image/png": "[encoded data removed]",
      "text/plain": [
       "<Figure size 864x576 with 1 Axes>"
      ]
     },
     "metadata": {
      "needs_background": "light"
     },
     "output_type": "display_data"
    }
   ],
   "source": [
    "from matplotlib import pyplot as plt\n",
    "%matplotlib inline\n",
    "plt.rcParams['figure.figsize'] = [12,8]  # set figure size to be 12*8 inch\n",
    "plt.plot(range(1, K+1), store_SSE)        \n",
    "plt.xticks(range(1, K+1), fontsize = 18)\n",
    "plt.yticks(fontsize = 18)\n",
    "plt.ylabel(\"SSE\",fontsize = 18)\n",
    "plt.xlabel(\"number of clusters\", fontsize = 18)\n"
   ]
  },
  {
   "cell_type": "markdown",
   "id": "52171c3d-5628-4ed0-8a1e-2dae48646c7c",
   "metadata": {},
   "source": [
    "As we can see, the elbow point (kink of \"L\" shape) appears at $k = 5$, which will be the optimal number of segments to use. "
   ]
  },
  {
   "cell_type": "markdown",
   "id": "5d01afe0-7555-4021-81e7-3f099109a916",
   "metadata": {},
   "source": [
    "## Potential Problem of elbow chart methods"
   ]
  },
  {
   "cell_type": "markdown",
   "id": "4112e85a-6580-47be-9cb2-f4b840ea2aef",
   "metadata": {},
   "source": [
    "- There may be no apparent elbow points or multiple elbow points in the chart\n",
    "- Choice of elbow points is rather subjective"
   ]
  }
 ],
 "metadata": {
  "kernelspec": {
   "display_name": "Python 3",
   "language": "python",
   "name": "python3"
  },
  "language_info": {
   "codemirror_mode": {
    "name": "ipython",
    "version": 3
   },
   "file_extension": ".py",
   "mimetype": "text/x-python",
   "name": "python",
   "nbconvert_exporter": "python",
   "pygments_lexer": "ipython3",
   "version": "3.7.10"
  }
 },
 "nbformat": 4,
 "nbformat_minor": 5
}
