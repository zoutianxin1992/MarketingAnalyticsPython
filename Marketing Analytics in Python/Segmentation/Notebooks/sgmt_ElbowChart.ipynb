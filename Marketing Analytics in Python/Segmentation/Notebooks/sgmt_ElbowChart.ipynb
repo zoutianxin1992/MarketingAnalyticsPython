{
 "cells": [
  {
   "cell_type": "markdown",
   "id": "000ed2c3",
   "metadata": {},
   "source": [
    "# Choosing the number of segments - Elbow chart method"
   ]
  },
  {
   "cell_type": "markdown",
   "id": "83fa4386",
   "metadata": {},
   "source": [
    "This document shows how to choose the number of segments (optimal $k$) using elbow charts."
   ]
  },
  {
   "cell_type": "markdown",
   "id": "3b663f23",
   "metadata": {},
   "source": [
    "## Introducing elbow chart method"
   ]
  },
  {
   "cell_type": "markdown",
   "id": "714512fd",
   "metadata": {},
   "source": [
    "**When we should (not) add more clusters**: In clustering analysis, the squared error ($SE$) of a data point is the square of the distance from the point to the centroid of the cluster the point belongs to. $SSE$ (sum of squared errors) is the sum of $SE$'s of all data points. Ideally, the $SSE$ is the lower, the better. Although adding more clusters (a higher $k$) always reduces $SSE$, adding too many clusters can be managerially cumbersome (e.g., when designing individual strategies for each segment) and redundant (e.g., nearby clusters have little differences). Hence, we want to add more clusters if doing so can **significantly** reduce $SSE$, and stop adding clusters if doing so **doesn't reduce $SSE$ by much**."
   ]
  },
  {
   "cell_type": "markdown",
   "id": "85b1a682",
   "metadata": {},
   "source": [
    "**How elbow chart works**: The elbow chart plots a curve of how SSE changes with the number of clusters. Because adding more clusters will reduce SSE, the curve will be downward sloping, and the curve is steeper if adding one more cluster ($k \\rightarrow k+1$) reduces SSE by a greater amount. We should choose the cluster number $k$ that corresponds to the \"elbow point\" in the plot (the kink where the curve exhibits an \"L\" shape). The elbow point indicates that the curve is steeper on the left ($SSE$ decreases a lot from $k-1$ to $k$), and is flatter on the right ($SSE$ decreases not much from $k$ to $k+1$)."
   ]
  },
  {
   "cell_type": "markdown",
   "id": "c242cde4",
   "metadata": {},
   "source": [
    "**Procedure**: Suppose we want to create no more than $K$ segments. The procedure is as follows:\n",
    "1. For $k$ from $1$ to $K$, run k-mean algorithm with $k$ clusters, and calculate and record the $SSE$.\n",
    "2. Plot $SSE$ over the number of segments $k$ to get the elbow chart.\n",
    "3. Find $k$ that corresponds to the elbow point. This is the optimal number of segments to segment consumers.\n",
    "4. Use the optimal $k$ to run k-mean algorithm to segment consumers."
   ]
  },
  {
   "cell_type": "markdown",
   "id": "8e975d11",
   "metadata": {},
   "source": [
    "We will use \"MallCustomersTwoVariables.csv\" for analysis."
   ]
  },
  {
   "cell_type": "markdown",
   "id": "9ecf5b7b",
   "metadata": {},
   "source": [
    "## Loading data and preprocessing "
   ]
  },
  {
   "cell_type": "markdown",
   "id": "09ceaf2d",
   "metadata": {},
   "source": [
    "This section will generate the normalized dataframe, `df_normalized`, for k-mean algorithm."
   ]
  },
  {
   "cell_type": "code",
   "execution_count": 1,
   "id": "250f7b94",
   "metadata": {},
   "outputs": [],
   "source": [
    "# importing packages\n",
    "import numpy as np\n",
    "import pandas as pd\n",
    "from sklearn.cluster import KMeans    # Use \"sklearn/cluster/KMeans\" for clustering analysis \n",
    "\n",
    "# importing data and renaming variables\n",
    "url = \"https://raw.githubusercontent.com/zoutianxin1992/MarketingAnalyticsPython/main/Marketing%20Analytics%20in%20Python/Segmentation/Datasets/MallCustomersTwoVariables.csv\"\n",
    "df = pd.read_csv(url,index_col=0) # use the first column (customer id) as index\n",
    "df = df.rename(columns = {\"Annual Income (k$)\":\"annual_income\",\"Spending Score (1-100)\":\"spending_score\"})\n",
    "\n",
    "\n",
    "# normalizing the data for k-mean algorithm\n",
    "df_normalized = (df-df.min())/(df.max()-df.min())  # By default, pandas calculate maximums and minimums by columns, which serves our purpose."
   ]
  },
  {
   "cell_type": "markdown",
   "id": "ca16fed7",
   "metadata": {},
   "source": [
    "## Calculate $SSE$ for each $k$"
   ]
  },
  {
   "cell_type": "markdown",
   "id": "7bd8f209",
   "metadata": {},
   "source": [
    "For exposition, we will create no more than $K = 10$ clusters, and calculate $SSE$s when $k = 1,2,3,...,K$. This can be achieved with a for loop.\n",
    "<br />\n",
    "(If you use Windows, you may see a warning of \"KMeans is known to have a memory leak....\" Don't worry in our case because both our data size and the number of clusters are much smaller than when the problem will happen.)"
   ]
  },
  {
   "cell_type": "code",
   "execution_count": 3,
   "id": "70eb9a66",
   "metadata": {
    "tags": []
   },
   "outputs": [
    {
     "name": "stderr",
     "output_type": "stream",
     "text": [
      "C:\\Users\\zoutianxin\\AppData\\Local\\Continuum\\anaconda3\\lib\\site-packages\\sklearn\\cluster\\_kmeans.py:882: UserWarning: KMeans is known to have a memory leak on Windows with MKL, when there are less chunks than available threads. You can avoid it by setting the environment variable OMP_NUM_THREADS=1.\n",
      "  f\"KMeans is known to have a memory leak on Windows \"\n"
     ]
    }
   ],
   "source": [
    "K = 10  # K is the maximum number of clusters we will check\n",
    "store_SSE = np.zeros(K)    # create a vector to store SSE's. The k-th entry will be the SSE with k clusters.\n",
    "\n",
    "for k in range(1, K+1):                                   # try k from 1 to K  \n",
    "    kmeanSpec = KMeans(n_clusters = k, n_init = 100)                        # set up k-mean model with k clusters\n",
    "    kmean_result = kmeanSpec.fit(df_normalized)               # run k-mean on normalized data\n",
    "    store_SSE[k-1] = kmeanSpec.inertia_                       # store the SSE (.inertia_) in the k-th entry of store_SSE\n"
   ]
  },
  {
   "cell_type": "markdown",
   "id": "e29c5435",
   "metadata": {},
   "source": [
    "## Generate elbow chart"
   ]
  },
  {
   "cell_type": "code",
   "execution_count": 4,
   "id": "f3016561",
   "metadata": {},
   "outputs": [
    {
     "data": {
      "text/plain": [
       "Text(0.5,0,'number of clusters')"
      ]
     },
     "execution_count": 4,
     "metadata": {},
     "output_type": "execute_result"
    },
    {
     "data": {
      "image/png": "[encoded data removed]",
      "text/plain": [
       "<Figure size 864x576 with 1 Axes>"
      ]
     },
     "metadata": {
      "needs_background": "light"
     },
     "output_type": "display_data"
    }
   ],
   "source": [
    "from matplotlib import pyplot as plt\n",
    "%matplotlib inline\n",
    "plt.rcParams['figure.figsize'] = [12,8]  # set figure size to be 12*8 inch\n",
    "plt.plot(range(1, K+1), store_SSE)        \n",
    "plt.xticks(range(1, K+1), fontsize = 18)\n",
    "plt.yticks(fontsize = 18)\n",
    "plt.ylabel(\"SSE\",fontsize = 18)\n",
    "plt.xlabel(\"number of clusters\", fontsize = 18)\n"
   ]
  },
  {
   "cell_type": "markdown",
   "id": "f3b12e6b",
   "metadata": {},
   "source": [
    "As we can see, the elbow point (kink of \"L\" shape) appears at $k = 5$, which will be the optimal number of segments to use. "
   ]
  },
  {
   "cell_type": "markdown",
   "id": "2188d9e8",
   "metadata": {},
   "source": [
    "## Potential Problem of elbow chart methods"
   ]
  },
  {
   "cell_type": "markdown",
   "id": "e62f1c5e",
   "metadata": {},
   "source": [
    "- There may be no apparent elbow points or multiple elbow points in the chart\n",
    "- Choice of elbow points is rather subjective"
   ]
  }
 ],
 "metadata": {
  "kernelspec": {
   "display_name": "Python 3",
   "language": "python",
   "name": "python3"
  },
  "language_info": {
   "codemirror_mode": {
    "name": "ipython",
    "version": 3
   },
   "file_extension": ".py",
   "mimetype": "text/x-python",
   "name": "python",
   "nbconvert_exporter": "python",
   "pygments_lexer": "ipython3",
   "version": "3.8.11"
  }
 },
 "nbformat": 4,
 "nbformat_minor": 5
}
