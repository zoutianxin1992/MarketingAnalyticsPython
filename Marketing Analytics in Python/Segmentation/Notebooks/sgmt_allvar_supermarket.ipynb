{
 "cells": [
  {
   "cell_type": "markdown",
   "metadata": {},
   "source": [
    "# Practice: segmenting supermarket consumers (all variables)"
   ]
  },
  {
   "cell_type": "markdown",
   "metadata": {},
   "source": [
    "Suppose you are the CMO of a supermarket in the downtown area of a large city in Midwest. Your sales team has collected information of some 200 customers who have registered for the supermarket’s online account. </br>\n",
    "Consumers' data (\"SupermarketCustomer.csv\") can be found at:\n",
    "https://raw.githubusercontent.com/zoutianxin1992/MarketingAnalyticsPython/main/Marketing%20Analytics%20in%20Python/Segmentation/Datasets/SupermarketCustomer.csv\n",
    "\n",
    "Categorical Variables:\n",
    "- Gender: Male, Female\n",
    "\n",
    "\n",
    "Continuous variables:\n",
    "- Age\n",
    "- Salary\n",
    "- Children\n",
    "- Catalogs: how many online cataglogs does this consumer receive from the supermarket\n",
    "- AmountSpent: How much does the consumer spend last year\n",
    "\n"
   ]
  },
  {
   "cell_type": "markdown",
   "metadata": {},
   "source": [
    "Your goals are:\n",
    "- Figure out how many segments  you want to cluster consumers into?\n",
    "- Describe the characteristics of an __average consumer__ of each segment?\n",
    "- Give a name for each segment"
   ]
  },
  {
   "cell_type": "markdown",
   "metadata": {},
   "source": [
    "## Load and normalize data"
   ]
  },
  {
   "cell_type": "code",
   "execution_count": null,
   "metadata": {
    "tags": []
   },
   "outputs": [],
   "source": [
    "# importing packages\n",
    "import numpy as np\n",
    "import pandas as pd\n",
    "from kmodes.kprototypes import KPrototypes   # We will use the k-prototypes algorithm\n",
    "from matplotlib import pyplot as plt\n",
    "\n",
    "# importing data and renaming variables\n",
    "url = \"https://raw.githubusercontent.com/zoutianxin1992/MarketingAnalyticsPython/main/Marketing%20Analytics%20in%20Python/Segmentation/Datasets/SupermarketCustomer.csv\"\n",
    "df = pd.read_csv(url)\n",
    "df.info()"
   ]
  },
  {
   "cell_type": "code",
   "execution_count": null,
   "metadata": {},
   "outputs": [],
   "source": [
    "# Your code here\n",
    "# normalize continuous data"
   ]
  },
  {
   "cell_type": "code",
   "execution_count": null,
   "metadata": {
    "jupyter": {
     "source_hidden": true
    },
    "tags": []
   },
   "outputs": [],
   "source": [
    "# # normalizing the data for k-mean algorithm\n",
    "# df_normalized = df.copy() # create a copy of the orignial dataset\n",
    "# df_normalized[[\"Age\",\"Salary\",\"Children\",\"Catalogs\",\"AmountSpent\"]] =                                                     \\\n",
    "# (df[[\"Age\",\"Salary\",\"Children\",\"Catalogs\",\"AmountSpent\"]]-df[[\"Age\",\"Salary\",\"Children\",\"Catalogs\",\"AmountSpent\"]].min())        \\\n",
    "# /(df[[\"Age\",\"Salary\",\"Children\",\"Catalogs\",\"AmountSpent\"]].max()-df[[\"Age\",\"Salary\",\"Children\",\"Catalogs\",\"AmountSpent\"]].min())  # By default, pandas calculate maximums and minimums by columns, which serves our purpose."
   ]
  },
  {
   "cell_type": "markdown",
   "metadata": {},
   "source": [
    "## Calculate the clustering cost (analogous to $SSE$) for each $k$"
   ]
  },
  {
   "cell_type": "markdown",
   "metadata": {},
   "source": [
    "Calculate SSE for different number of segments ($k$). $k=2,3,...,K=10$. To save time in class, try 50 initial guesses of initial locations (set `n_init = 50` in your KPrototypes solver.)"
   ]
  },
  {
   "cell_type": "code",
   "execution_count": null,
   "metadata": {},
   "outputs": [],
   "source": [
    "# your code here"
   ]
  },
  {
   "cell_type": "code",
   "execution_count": null,
   "metadata": {
    "jupyter": {
     "source_hidden": true
    },
    "tags": []
   },
   "outputs": [],
   "source": [
    "# K = 10  # K is the maximum number of clusters we will check\n",
    "# n_initial = 50  \n",
    "# store_cost = np.zeros(K-1)    # create a vector to store the clustering \"cost\", which is comparable to SSE in k-means. k is between 2 and K. \n",
    "\n",
    "# for k in range(2, K+1):                                   # try k from 2 to K  \n",
    "#     kprotoSpec = KPrototypes(n_clusters = k, n_init = n_initial)                        # set up k-mean model with k clusters\n",
    "#     kproto_result = kprotoSpec.fit(df_normalized, categorical = [1])               # run k-mean on normalized data\n",
    "#     kproto_prediction = kproto_result.labels_                 # the predicted segments for consumers  \n",
    "#     store_cost[k-2] = kproto_result.cost_         # store the clustering cost \n",
    "\n",
    "# store_cost"
   ]
  },
  {
   "cell_type": "markdown",
   "metadata": {
    "tags": []
   },
   "source": [
    "## Generate elbow chart"
   ]
  },
  {
   "cell_type": "markdown",
   "metadata": {
    "tags": []
   },
   "source": [
    "Select the \"elbow point\" as the optimal number of segments."
   ]
  },
  {
   "cell_type": "code",
   "execution_count": null,
   "metadata": {},
   "outputs": [],
   "source": [
    "# your code here"
   ]
  },
  {
   "cell_type": "code",
   "execution_count": null,
   "metadata": {
    "jupyter": {
     "source_hidden": true
    },
    "tags": []
   },
   "outputs": [],
   "source": [
    "# %matplotlib inline\n",
    "# plt.rcParams['figure.figsize'] = [12,8]  # set figure size to be 12*8 inch\n",
    "# plt.plot(range(2, K+1), store_cost)        \n",
    "# plt.xticks(range(2, K+1), fontsize = 18)\n",
    "# plt.yticks(fontsize = 18)\n",
    "# plt.ylabel(\"Clustering cost\",fontsize = 18)\n",
    "# plt.xlabel(\"number of clusters\", fontsize = 18)"
   ]
  },
  {
   "cell_type": "markdown",
   "metadata": {},
   "source": [
    "## Segment consumers into the optimal number of segments"
   ]
  },
  {
   "cell_type": "code",
   "execution_count": null,
   "metadata": {},
   "outputs": [],
   "source": [
    "# your code here"
   ]
  },
  {
   "cell_type": "code",
   "execution_count": null,
   "metadata": {
    "jupyter": {
     "source_hidden": true
    },
    "tags": []
   },
   "outputs": [],
   "source": [
    "# kprotoSpec = KPrototypes(n_clusters = 6, n_init = n_initial)  # setup the k-mean model specs\n",
    "# kproto_result = kprotoSpec.fit(df_normalized,categorical = [1]) \n",
    "# df[\"segment\"] = kproto_result.labels_ "
   ]
  },
  {
   "cell_type": "markdown",
   "metadata": {},
   "source": [
    "## Post-segmentation analysis"
   ]
  },
  {
   "cell_type": "markdown",
   "metadata": {},
   "source": [
    "By each segment, calculate the mean for each **continuous** variable. This will describe the __average consumer__ of each segment. Also count the proportion of male consumers in each segment. Finally, calculate the number of consumers in each segment."
   ]
  },
  {
   "cell_type": "code",
   "execution_count": null,
   "metadata": {},
   "outputs": [],
   "source": [
    "# your code here\n"
   ]
  },
  {
   "cell_type": "code",
   "execution_count": null,
   "metadata": {
    "jupyter": {
     "source_hidden": true
    },
    "tags": []
   },
   "outputs": [],
   "source": [
    "# # summarize  variables\n",
    "# summary_table = df.groupby(\"segment\").aggregate({\n",
    "#     \"Gender\": lambda x: x[x == \"Male\"].count()/x.count()\n",
    "#     \"Age\":\"mean\",\n",
    "#     \"Salary\":\"mean\",\n",
    "#     \"Children\": \"mean\",            \n",
    "#     \"Catalogs\": \"mean\",\n",
    "#     \"AmountSpent\": \"mean\", \n",
    "#     \"segment\": \"count\"                                       \n",
    "# }\n",
    "# )\n",
    "# summary_table"
   ]
  },
  {
   "cell_type": "code",
   "execution_count": null,
   "metadata": {},
   "outputs": [],
   "source": []
  }
 ],
 "metadata": {
  "kernelspec": {
   "display_name": "Python 3 (ipykernel)",
   "language": "python",
   "name": "python3"
  },
  "language_info": {
   "codemirror_mode": {
    "name": "ipython",
    "version": 3
   },
   "file_extension": ".py",
   "mimetype": "text/x-python",
   "name": "python",
   "nbconvert_exporter": "python",
   "pygments_lexer": "ipython3",
   "version": "3.7.0"
  }
 },
 "nbformat": 4,
 "nbformat_minor": 4
}
