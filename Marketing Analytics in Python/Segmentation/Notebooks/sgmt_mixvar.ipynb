{
 "cells": [
  {
   "cell_type": "markdown",
   "id": "c04b62fb-055d-42d5-a7f1-8d96b7e7743d",
   "metadata": {},
   "source": [
    "# Consumer segmentation -- mixed datatypes"
   ]
  },
  {
   "cell_type": "markdown",
   "id": "2d9c2483-7c13-4cf6-bf27-ec101134a6ab",
   "metadata": {},
   "source": [
    "K-mean algorithm does not work well for segmenting consumers when there are both numerical and categorical variables. Instead, a modified method, **k-prototypes algorithm**, should be used to address the issue. Given the cluster number $k$, instead of minimizing SSE in k-means, k-prototypes minimizes the \"clustering cost,\" which measures the clustering misfit for the mixed datatypes. You need to install the package \"kmodes\" from your anaconda prompt/cmd using `conda install -c conda-forge kmodes`.\n",
    "<br/>\n",
    " \n",
    "\n"
   ]
  },
  {
   "cell_type": "markdown",
   "id": "9ded950b-2bd2-4712-a0c1-1afdf0b85464",
   "metadata": {},
   "source": [
    "## Importing packages and dataset"
   ]
  },
  {
   "cell_type": "code",
   "execution_count": 1,
   "id": "21be4594-6a51-4bc1-a557-432aab85ef0b",
   "metadata": {
    "tags": []
   },
   "outputs": [],
   "source": [
    "import numpy as np\n",
    "import pandas as pd\n",
    "from  kmodes.kprototypes import KPrototypes   # We will use the k-prototypes algorithm"
   ]
  },
  {
   "cell_type": "markdown",
   "id": "69d3be4c-bce7-41f2-b92e-0e6c2f2cfccc",
   "metadata": {
    "tags": []
   },
   "source": [
    "We will use \"MallCustomersAllVariables.csv\" for analysis"
   ]
  },
  {
   "cell_type": "code",
   "execution_count": 5,
   "id": "eecfe1cf-60e9-46dc-a5e8-88b6a6091e92",
   "metadata": {
    "tags": []
   },
   "outputs": [
    {
     "name": "stdout",
     "output_type": "stream",
     "text": [
      "<class 'pandas.core.frame.DataFrame'>\n",
      "Int64Index: 200 entries, 1 to 200\n",
      "Data columns (total 4 columns):\n",
      " #   Column                  Non-Null Count  Dtype \n",
      "---  ------                  --------------  ----- \n",
      " 0   Gender                  200 non-null    object\n",
      " 1   Age                     200 non-null    int64 \n",
      " 2   Annual Income (k$)      200 non-null    int64 \n",
      " 3   Spending Score (1-100)  200 non-null    int64 \n",
      "dtypes: int64(3), object(1)\n",
      "memory usage: 7.8+ KB\n"
     ]
    }
   ],
   "source": [
    "df = pd.read_csv(\"C:/Users/zoutianxin/Dropbox/Teach/Marketing analytics/2021/2021 Analytics/clustering/datasets/MallCustomersAllVariables.csv\",index_col = 0) # use the first column (customer id) as index\n",
    "df.info()"
   ]
  },
  {
   "cell_type": "markdown",
   "id": "2abb6317-05a7-47b7-8d42-5b2bd92a723c",
   "metadata": {
    "tags": []
   },
   "source": [
    "Rename the variables to follow the naming conventions."
   ]
  },
  {
   "cell_type": "code",
   "execution_count": 6,
   "id": "a853e8dd-9067-4e70-aeab-d734a130e484",
   "metadata": {
    "tags": []
   },
   "outputs": [
    {
     "data": {
      "text/html": [
       "<div>\n",
       "<style scoped>\n",
       "    .dataframe tbody tr th:only-of-type {\n",
       "        vertical-align: middle;\n",
       "    }\n",
       "\n",
       "    .dataframe tbody tr th {\n",
       "        vertical-align: top;\n",
       "    }\n",
       "\n",
       "    .dataframe thead th {\n",
       "        text-align: right;\n",
       "    }\n",
       "</style>\n",
       "<table border=\"1\" class=\"dataframe\">\n",
       "  <thead>\n",
       "    <tr style=\"text-align: right;\">\n",
       "      <th></th>\n",
       "      <th>gender</th>\n",
       "      <th>age</th>\n",
       "      <th>annual_income</th>\n",
       "      <th>spending_score</th>\n",
       "    </tr>\n",
       "    <tr>\n",
       "      <th>CustomerID</th>\n",
       "      <th></th>\n",
       "      <th></th>\n",
       "      <th></th>\n",
       "      <th></th>\n",
       "    </tr>\n",
       "  </thead>\n",
       "  <tbody>\n",
       "    <tr>\n",
       "      <th>1</th>\n",
       "      <td>M</td>\n",
       "      <td>21</td>\n",
       "      <td>15</td>\n",
       "      <td>81</td>\n",
       "    </tr>\n",
       "    <tr>\n",
       "      <th>2</th>\n",
       "      <td>M</td>\n",
       "      <td>19</td>\n",
       "      <td>15</td>\n",
       "      <td>39</td>\n",
       "    </tr>\n",
       "    <tr>\n",
       "      <th>3</th>\n",
       "      <td>F</td>\n",
       "      <td>23</td>\n",
       "      <td>16</td>\n",
       "      <td>77</td>\n",
       "    </tr>\n",
       "    <tr>\n",
       "      <th>4</th>\n",
       "      <td>F</td>\n",
       "      <td>20</td>\n",
       "      <td>16</td>\n",
       "      <td>6</td>\n",
       "    </tr>\n",
       "    <tr>\n",
       "      <th>5</th>\n",
       "      <td>F</td>\n",
       "      <td>22</td>\n",
       "      <td>17</td>\n",
       "      <td>76</td>\n",
       "    </tr>\n",
       "  </tbody>\n",
       "</table>\n",
       "</div>"
      ],
      "text/plain": [
       "           gender  age  annual_income  spending_score\n",
       "CustomerID                                           \n",
       "1               M   21             15              81\n",
       "2               M   19             15              39\n",
       "3               F   23             16              77\n",
       "4               F   20             16               6\n",
       "5               F   22             17              76"
      ]
     },
     "execution_count": 6,
     "metadata": {},
     "output_type": "execute_result"
    }
   ],
   "source": [
    "df = df.rename(columns = {\"Gender\":\"gender\",\n",
    "                          \"Age\":\"age\",\n",
    "                          \"Annual Income (k$)\":\"annual_income\",\n",
    "                          \"Spending Score (1-100)\":\"spending_score\"})\n",
    "df.head()"
   ]
  },
  {
   "cell_type": "markdown",
   "id": "ce30d3a3-e20b-42b4-9eda-28d933fe2427",
   "metadata": {},
   "source": [
    "Note that gender (F, M) is a categorical variable, so k-mean algorithm should not be applied here. We need to use k-prototypes algorithm to accommodate categorical variables."
   ]
  },
  {
   "cell_type": "markdown",
   "id": "e3fd528a-7f21-4ed6-b778-076ecb0014d1",
   "metadata": {
    "tags": []
   },
   "source": [
    "## Segmenting consumers into three segments"
   ]
  },
  {
   "cell_type": "markdown",
   "id": "a175a9a7-d2a7-4929-864b-72b8d4643177",
   "metadata": {},
   "source": [
    "### Normalize the variables to a 0-1 scale (only for **numerical** variables)"
   ]
  },
  {
   "cell_type": "markdown",
   "id": "583c95c0-72a5-4b25-846e-59d77e3a52a7",
   "metadata": {},
   "source": [
    "$$\n",
    "X_{transform} = \\frac {X_{original} - X_{min}} {X_{max} - X_{min}}\n",
    "$$"
   ]
  },
  {
   "cell_type": "markdown",
   "id": "28ded846-d626-4b57-833a-8443139bbe07",
   "metadata": {},
   "source": [
    "Since it makes no sense to normalize categorical variables to a 0-1 scale, the normalization should be applied only to numerical variable, `age`, `annual_income`, and `spending_score`."
   ]
  },
  {
   "cell_type": "code",
   "execution_count": 10,
   "id": "f249f189-df84-4fbb-b843-c30f08b93180",
   "metadata": {
    "tags": []
   },
   "outputs": [
    {
     "data": {
      "text/html": [
       "<div>\n",
       "<style scoped>\n",
       "    .dataframe tbody tr th:only-of-type {\n",
       "        vertical-align: middle;\n",
       "    }\n",
       "\n",
       "    .dataframe tbody tr th {\n",
       "        vertical-align: top;\n",
       "    }\n",
       "\n",
       "    .dataframe thead th {\n",
       "        text-align: right;\n",
       "    }\n",
       "</style>\n",
       "<table border=\"1\" class=\"dataframe\">\n",
       "  <thead>\n",
       "    <tr style=\"text-align: right;\">\n",
       "      <th></th>\n",
       "      <th>gender</th>\n",
       "      <th>age</th>\n",
       "      <th>annual_income</th>\n",
       "      <th>spending_score</th>\n",
       "    </tr>\n",
       "    <tr>\n",
       "      <th>CustomerID</th>\n",
       "      <th></th>\n",
       "      <th></th>\n",
       "      <th></th>\n",
       "      <th></th>\n",
       "    </tr>\n",
       "  </thead>\n",
       "  <tbody>\n",
       "    <tr>\n",
       "      <th>1</th>\n",
       "      <td>M</td>\n",
       "      <td>0.057692</td>\n",
       "      <td>0.000000</td>\n",
       "      <td>0.816327</td>\n",
       "    </tr>\n",
       "    <tr>\n",
       "      <th>2</th>\n",
       "      <td>M</td>\n",
       "      <td>0.019231</td>\n",
       "      <td>0.000000</td>\n",
       "      <td>0.387755</td>\n",
       "    </tr>\n",
       "    <tr>\n",
       "      <th>3</th>\n",
       "      <td>F</td>\n",
       "      <td>0.096154</td>\n",
       "      <td>0.008197</td>\n",
       "      <td>0.775510</td>\n",
       "    </tr>\n",
       "    <tr>\n",
       "      <th>4</th>\n",
       "      <td>F</td>\n",
       "      <td>0.038462</td>\n",
       "      <td>0.008197</td>\n",
       "      <td>0.051020</td>\n",
       "    </tr>\n",
       "    <tr>\n",
       "      <th>5</th>\n",
       "      <td>F</td>\n",
       "      <td>0.076923</td>\n",
       "      <td>0.016393</td>\n",
       "      <td>0.765306</td>\n",
       "    </tr>\n",
       "  </tbody>\n",
       "</table>\n",
       "</div>"
      ],
      "text/plain": [
       "           gender       age  annual_income  spending_score\n",
       "CustomerID                                                \n",
       "1               M  0.057692       0.000000        0.816327\n",
       "2               M  0.019231       0.000000        0.387755\n",
       "3               F  0.096154       0.008197        0.775510\n",
       "4               F  0.038462       0.008197        0.051020\n",
       "5               F  0.076923       0.016393        0.765306"
      ]
     },
     "execution_count": 10,
     "metadata": {},
     "output_type": "execute_result"
    }
   ],
   "source": [
    "df_normalized = df.copy() # create a copy of the orignial dataset\n",
    "df_normalized[['age','annual_income','spending_score']] = \\\n",
    "    (df[['age','annual_income','spending_score']]-df[['age','annual_income','spending_score']].min()) \\\n",
    "    /(df[['age','annual_income','spending_score']].max()-df[['age','annual_income','spending_score']].min())\n",
    "df_normalized.head()\n"
   ]
  },
  {
   "cell_type": "markdown",
   "id": "7b8509f3-1353-41b9-aa38-4f0574382db2",
   "metadata": {},
   "source": [
    "### Applying k-prototypes algorithm to normalized data"
   ]
  },
  {
   "cell_type": "code",
   "execution_count": null,
   "id": "13e82ea1-308a-4ef4-a5c2-6fe2ea0380c7",
   "metadata": {},
   "outputs": [],
   "source": [
    "# your code goes here\n",
    "# creating 3 segments\n",
    "# Set the k-mean model specs, specifying we need 3 clusters\n",
    "# apply the model specs to the normalized dataset using "
   ]
  },
  {
   "cell_type": "code",
   "execution_count": 15,
   "id": "36f6d15f-f09b-46bb-8107-dba5cf90f8e9",
   "metadata": {
    "tags": []
   },
   "outputs": [],
   "source": [
    "kprotoSpec = KPrototypes(n_clusters = 3)  # setup the k-prototypes model specs\n",
    "# apply the above method to normalized dataset\n",
    "kproto_result3 = kprotoSpec.fit(df_normalized,categorical = [0])    # The categorical variable, gender, is in column 0\n"
   ]
  },
  {
   "cell_type": "markdown",
   "id": "7e50f809-4dbf-4e88-a98c-20fbbd915db1",
   "metadata": {
    "tags": []
   },
   "source": [
    "## Post-segmentation analysis"
   ]
  },
  {
   "cell_type": "markdown",
   "id": "1f943f56-12d3-46f8-aa6b-79eb4644153f",
   "metadata": {
    "tags": []
   },
   "source": [
    "### Which segment does each consumer belong to?"
   ]
  },
  {
   "cell_type": "markdown",
   "id": "fa914734-7788-458c-97b5-5ba3965238c9",
   "metadata": {},
   "source": [
    "Create a new column in the **original** dataframe for which segment a consumer belongs to."
   ]
  },
  {
   "cell_type": "code",
   "execution_count": 7,
   "id": "7f703686-c8e6-4181-a849-c5bbdbeadfcb",
   "metadata": {
    "tags": []
   },
   "outputs": [],
   "source": [
    "# your code goes here\n",
    "# the segmentation result can be accessed by \"[your segmentation result]\".labels_"
   ]
  },
  {
   "cell_type": "code",
   "execution_count": 16,
   "id": "e92d70da-0ef2-4c17-89bc-eeac6482bd0d",
   "metadata": {
    "tags": []
   },
   "outputs": [
    {
     "data": {
      "text/html": [
       "<div>\n",
       "<style scoped>\n",
       "    .dataframe tbody tr th:only-of-type {\n",
       "        vertical-align: middle;\n",
       "    }\n",
       "\n",
       "    .dataframe tbody tr th {\n",
       "        vertical-align: top;\n",
       "    }\n",
       "\n",
       "    .dataframe thead th {\n",
       "        text-align: right;\n",
       "    }\n",
       "</style>\n",
       "<table border=\"1\" class=\"dataframe\">\n",
       "  <thead>\n",
       "    <tr style=\"text-align: right;\">\n",
       "      <th></th>\n",
       "      <th>gender</th>\n",
       "      <th>age</th>\n",
       "      <th>annual_income</th>\n",
       "      <th>spending_score</th>\n",
       "      <th>segment</th>\n",
       "    </tr>\n",
       "    <tr>\n",
       "      <th>CustomerID</th>\n",
       "      <th></th>\n",
       "      <th></th>\n",
       "      <th></th>\n",
       "      <th></th>\n",
       "      <th></th>\n",
       "    </tr>\n",
       "  </thead>\n",
       "  <tbody>\n",
       "    <tr>\n",
       "      <th>1</th>\n",
       "      <td>M</td>\n",
       "      <td>21</td>\n",
       "      <td>15</td>\n",
       "      <td>81</td>\n",
       "      <td>0</td>\n",
       "    </tr>\n",
       "    <tr>\n",
       "      <th>2</th>\n",
       "      <td>M</td>\n",
       "      <td>19</td>\n",
       "      <td>15</td>\n",
       "      <td>39</td>\n",
       "      <td>0</td>\n",
       "    </tr>\n",
       "    <tr>\n",
       "      <th>3</th>\n",
       "      <td>F</td>\n",
       "      <td>23</td>\n",
       "      <td>16</td>\n",
       "      <td>77</td>\n",
       "      <td>0</td>\n",
       "    </tr>\n",
       "    <tr>\n",
       "      <th>4</th>\n",
       "      <td>F</td>\n",
       "      <td>20</td>\n",
       "      <td>16</td>\n",
       "      <td>6</td>\n",
       "      <td>2</td>\n",
       "    </tr>\n",
       "    <tr>\n",
       "      <th>5</th>\n",
       "      <td>F</td>\n",
       "      <td>22</td>\n",
       "      <td>17</td>\n",
       "      <td>76</td>\n",
       "      <td>0</td>\n",
       "    </tr>\n",
       "  </tbody>\n",
       "</table>\n",
       "</div>"
      ],
      "text/plain": [
       "           gender  age  annual_income  spending_score  segment\n",
       "CustomerID                                                    \n",
       "1               M   21             15              81        0\n",
       "2               M   19             15              39        0\n",
       "3               F   23             16              77        0\n",
       "4               F   20             16               6        2\n",
       "5               F   22             17              76        0"
      ]
     },
     "execution_count": 16,
     "metadata": {},
     "output_type": "execute_result"
    }
   ],
   "source": [
    "df[\"segment\"] = kproto_result3.labels_ \n",
    "df.head()"
   ]
  },
  {
   "cell_type": "markdown",
   "id": "328497f2-c976-4d2b-b7ed-628c9794f05c",
   "metadata": {
    "tags": []
   },
   "source": [
    "### Summarizing segment characteristics"
   ]
  },
  {
   "cell_type": "markdown",
   "id": "48a7bfa5-0edb-4f25-adf4-9f407491b7a3",
   "metadata": {},
   "source": [
    "For each segment, summarize the mean/min/max's of all the **numerical** variable. (It makes no sense to calculate these stats for **categorical variables**.)\n",
    "For each segment, summarize the percentage of male/female customers in each segment.\n",
    "Also count the number of consumers in each segment.\n"
   ]
  },
  {
   "cell_type": "code",
   "execution_count": 34,
   "id": "9679e423-5fde-4b96-88d5-c5d4e62ee520",
   "metadata": {},
   "outputs": [
    {
     "data": {
      "text/html": [
       "<div>\n",
       "<style scoped>\n",
       "    .dataframe tbody tr th:only-of-type {\n",
       "        vertical-align: middle;\n",
       "    }\n",
       "\n",
       "    .dataframe tbody tr th {\n",
       "        vertical-align: top;\n",
       "    }\n",
       "\n",
       "    .dataframe thead tr th {\n",
       "        text-align: left;\n",
       "    }\n",
       "\n",
       "    .dataframe thead tr:last-of-type th {\n",
       "        text-align: right;\n",
       "    }\n",
       "</style>\n",
       "<table border=\"1\" class=\"dataframe\">\n",
       "  <thead>\n",
       "    <tr>\n",
       "      <th></th>\n",
       "      <th colspan=\"3\" halign=\"left\">age</th>\n",
       "      <th colspan=\"3\" halign=\"left\">annual_income</th>\n",
       "      <th colspan=\"3\" halign=\"left\">spending_score</th>\n",
       "      <th>segment</th>\n",
       "    </tr>\n",
       "    <tr>\n",
       "      <th></th>\n",
       "      <th>mean</th>\n",
       "      <th>min</th>\n",
       "      <th>max</th>\n",
       "      <th>mean</th>\n",
       "      <th>min</th>\n",
       "      <th>max</th>\n",
       "      <th>mean</th>\n",
       "      <th>min</th>\n",
       "      <th>max</th>\n",
       "      <th>count</th>\n",
       "    </tr>\n",
       "    <tr>\n",
       "      <th>segment</th>\n",
       "      <th></th>\n",
       "      <th></th>\n",
       "      <th></th>\n",
       "      <th></th>\n",
       "      <th></th>\n",
       "      <th></th>\n",
       "      <th></th>\n",
       "      <th></th>\n",
       "      <th></th>\n",
       "      <th></th>\n",
       "    </tr>\n",
       "  </thead>\n",
       "  <tbody>\n",
       "    <tr>\n",
       "      <th>0</th>\n",
       "      <td>28.260417</td>\n",
       "      <td>18</td>\n",
       "      <td>40</td>\n",
       "      <td>60.697917</td>\n",
       "      <td>15</td>\n",
       "      <td>137</td>\n",
       "      <td>69.479167</td>\n",
       "      <td>29</td>\n",
       "      <td>99</td>\n",
       "      <td>96</td>\n",
       "    </tr>\n",
       "    <tr>\n",
       "      <th>1</th>\n",
       "      <td>49.204082</td>\n",
       "      <td>19</td>\n",
       "      <td>70</td>\n",
       "      <td>62.244898</td>\n",
       "      <td>19</td>\n",
       "      <td>137</td>\n",
       "      <td>29.734694</td>\n",
       "      <td>1</td>\n",
       "      <td>60</td>\n",
       "      <td>49</td>\n",
       "    </tr>\n",
       "    <tr>\n",
       "      <th>2</th>\n",
       "      <td>48.109091</td>\n",
       "      <td>20</td>\n",
       "      <td>68</td>\n",
       "      <td>58.818182</td>\n",
       "      <td>16</td>\n",
       "      <td>126</td>\n",
       "      <td>34.781818</td>\n",
       "      <td>5</td>\n",
       "      <td>59</td>\n",
       "      <td>55</td>\n",
       "    </tr>\n",
       "  </tbody>\n",
       "</table>\n",
       "</div>"
      ],
      "text/plain": [
       "               age         annual_income          spending_score          \\\n",
       "              mean min max          mean min  max           mean min max   \n",
       "segment                                                                    \n",
       "0        28.260417  18  40     60.697917  15  137      69.479167  29  99   \n",
       "1        49.204082  19  70     62.244898  19  137      29.734694   1  60   \n",
       "2        48.109091  20  68     58.818182  16  126      34.781818   5  59   \n",
       "\n",
       "        segment  \n",
       "          count  \n",
       "segment          \n",
       "0            96  \n",
       "1            49  \n",
       "2            55  "
      ]
     },
     "execution_count": 34,
     "metadata": {},
     "output_type": "execute_result"
    }
   ],
   "source": [
    "# summarize numerical variables\n",
    "summary_table_numerical = df.groupby(\"segment\").aggregate({                           \n",
    "    \"age\":[\"mean\",\"min\",\"max\"],\n",
    "    \"annual_income\": [\"mean\",\"min\",\"max\"],             # calculate the mean/min/max/std of annual income for each segment\n",
    "    \"spending_score\": [\"mean\",\"min\",\"max\"],            # calculate the mean/min/max/std of spending score for each segment\n",
    "    \"segment\": \"count\"                                       # count how many consumers are there in each segment\n",
    "}\n",
    ")\n",
    "summary_table_numerical\n"
   ]
  },
  {
   "cell_type": "code",
   "execution_count": 37,
   "id": "5d5bd00a-27cd-4b1b-9e10-caace7640248",
   "metadata": {},
   "outputs": [
    {
     "data": {
      "text/plain": [
       "segment  gender\n",
       "0        F         0.59375\n",
       "         M         0.40625\n",
       "1        M         1.00000\n",
       "2        F         1.00000\n",
       "Name: gender, dtype: float64"
      ]
     },
     "execution_count": 37,
     "metadata": {},
     "output_type": "execute_result"
    }
   ],
   "source": [
    "# summarize categorical variables (gender)\n",
    "\n",
    "summary_table_categorical = (df.groupby(\"segment\"))[\"gender\"].value_counts(normalize = True)\n",
    "summary_table_categorical"
   ]
  },
  {
   "cell_type": "code",
   "execution_count": null,
   "id": "5013e26e-d8db-4764-ad44-6c6ffe2c7136",
   "metadata": {},
   "outputs": [],
   "source": [
    "summary_table_numerical"
   ]
  }
 ],
 "metadata": {
  "kernelspec": {
   "display_name": "Python 3",
   "language": "python",
   "name": "python3"
  },
  "language_info": {
   "codemirror_mode": {
    "name": "ipython",
    "version": 3
   },
   "file_extension": ".py",
   "mimetype": "text/x-python",
   "name": "python",
   "nbconvert_exporter": "python",
   "pygments_lexer": "ipython3",
   "version": "3.7.10"
  }
 },
 "nbformat": 4,
 "nbformat_minor": 5
}
