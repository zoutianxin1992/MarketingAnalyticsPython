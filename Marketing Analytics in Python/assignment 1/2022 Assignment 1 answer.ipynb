{
 "cells": [
  {
   "cell_type": "markdown",
   "id": "b4e1ef9f-1907-4d5e-ab59-8e9d10faf497",
   "metadata": {},
   "source": [
    "# Answer to Assignment 1"
   ]
  },
  {
   "cell_type": "markdown",
   "id": "745a6fa1-5304-48aa-852e-d5fbda956935",
   "metadata": {},
   "source": [
    "## Question 1"
   ]
  },
  {
   "cell_type": "markdown",
   "id": "5a85714e-3a99-494e-80fc-3d4697a497e3",
   "metadata": {},
   "source": [
    "A credit card company wants to divide its users into different segments. The dataset (“Q1 CreditCardBehavior.csv”) contains the credit card usage and payment data of 6,622 consumers in the past six months. Below is the description of the variables.\n",
    "- CUST_ID: Identification of Credit Card holder\n",
    "- BALANCE: Account balance at the end of the six months\n",
    "- PURCHASES: Amount of purchases made from account in the past six months\n",
    "- PURCHASES_TRX: Number of purchase transactions made in the past six months\n",
    "- CREDIT_LIMIT: Credit limit for user\n",
    "- PAYMENTS: Amount of card payment made by user in the past six months\n",
    "- PRC_FULL_PAYMENT: Percent of full payment paid by user in the past six months\n",
    "\n",
    "Use clustering analysis to divide the consumers into four segments. "
   ]
  },
  {
   "cell_type": "code",
   "execution_count": 7,
   "id": "6448d88c-c4dc-4831-9263-53e9332eeae2",
   "metadata": {},
   "outputs": [],
   "source": [
    "# import packages\n",
    "import numpy as np\n",
    "import pandas as pd\n",
    "from sklearn.cluster import KMeans    # Use \"sklearn/cluster/KMeans\" for clustering analysis\n",
    "from matplotlib import pyplot as plt"
   ]
  },
  {
   "cell_type": "code",
   "execution_count": 8,
   "id": "72cdb9d3-4950-45a6-90a8-7044e7a74ef3",
   "metadata": {},
   "outputs": [
    {
     "data": {
      "text/html": [
       "<div>\n",
       "<style scoped>\n",
       "    .dataframe tbody tr th:only-of-type {\n",
       "        vertical-align: middle;\n",
       "    }\n",
       "\n",
       "    .dataframe tbody tr th {\n",
       "        vertical-align: top;\n",
       "    }\n",
       "\n",
       "    .dataframe thead th {\n",
       "        text-align: right;\n",
       "    }\n",
       "</style>\n",
       "<table border=\"1\" class=\"dataframe\">\n",
       "  <thead>\n",
       "    <tr style=\"text-align: right;\">\n",
       "      <th></th>\n",
       "      <th>BALANCE</th>\n",
       "      <th>PURCHASES</th>\n",
       "      <th>PURCHASES_TRX</th>\n",
       "      <th>CREDIT_LIMIT</th>\n",
       "      <th>PAYMENTS</th>\n",
       "      <th>PRC_FULL_PAYMENT</th>\n",
       "    </tr>\n",
       "  </thead>\n",
       "  <tbody>\n",
       "    <tr>\n",
       "      <th>count</th>\n",
       "      <td>6622.000000</td>\n",
       "      <td>6622.000000</td>\n",
       "      <td>6622.000000</td>\n",
       "      <td>6622.000000</td>\n",
       "      <td>6622.000000</td>\n",
       "      <td>6622.000000</td>\n",
       "    </tr>\n",
       "    <tr>\n",
       "      <th>mean</th>\n",
       "      <td>0.074550</td>\n",
       "      <td>0.026630</td>\n",
       "      <td>0.055326</td>\n",
       "      <td>0.151648</td>\n",
       "      <td>0.038597</td>\n",
       "      <td>0.191630</td>\n",
       "    </tr>\n",
       "    <tr>\n",
       "      <th>std</th>\n",
       "      <td>0.108915</td>\n",
       "      <td>0.048715</td>\n",
       "      <td>0.075730</td>\n",
       "      <td>0.125535</td>\n",
       "      <td>0.064061</td>\n",
       "      <td>0.320648</td>\n",
       "    </tr>\n",
       "    <tr>\n",
       "      <th>min</th>\n",
       "      <td>0.000000</td>\n",
       "      <td>0.000000</td>\n",
       "      <td>0.000000</td>\n",
       "      <td>0.000000</td>\n",
       "      <td>0.000000</td>\n",
       "      <td>0.000000</td>\n",
       "    </tr>\n",
       "    <tr>\n",
       "      <th>25%</th>\n",
       "      <td>0.004705</td>\n",
       "      <td>0.004616</td>\n",
       "      <td>0.016760</td>\n",
       "      <td>0.054020</td>\n",
       "      <td>0.008781</td>\n",
       "      <td>0.000000</td>\n",
       "    </tr>\n",
       "    <tr>\n",
       "      <th>50%</th>\n",
       "      <td>0.032457</td>\n",
       "      <td>0.012027</td>\n",
       "      <td>0.033520</td>\n",
       "      <td>0.112228</td>\n",
       "      <td>0.019828</td>\n",
       "      <td>0.000000</td>\n",
       "    </tr>\n",
       "    <tr>\n",
       "      <th>75%</th>\n",
       "      <td>0.094523</td>\n",
       "      <td>0.030164</td>\n",
       "      <td>0.067039</td>\n",
       "      <td>0.212730</td>\n",
       "      <td>0.042906</td>\n",
       "      <td>0.250000</td>\n",
       "    </tr>\n",
       "    <tr>\n",
       "      <th>max</th>\n",
       "      <td>1.000000</td>\n",
       "      <td>1.000000</td>\n",
       "      <td>1.000000</td>\n",
       "      <td>1.000000</td>\n",
       "      <td>1.000000</td>\n",
       "      <td>1.000000</td>\n",
       "    </tr>\n",
       "  </tbody>\n",
       "</table>\n",
       "</div>"
      ],
      "text/plain": [
       "           BALANCE    PURCHASES  PURCHASES_TRX  CREDIT_LIMIT     PAYMENTS  \\\n",
       "count  6622.000000  6622.000000    6622.000000   6622.000000  6622.000000   \n",
       "mean      0.074550     0.026630       0.055326      0.151648     0.038597   \n",
       "std       0.108915     0.048715       0.075730      0.125535     0.064061   \n",
       "min       0.000000     0.000000       0.000000      0.000000     0.000000   \n",
       "25%       0.004705     0.004616       0.016760      0.054020     0.008781   \n",
       "50%       0.032457     0.012027       0.033520      0.112228     0.019828   \n",
       "75%       0.094523     0.030164       0.067039      0.212730     0.042906   \n",
       "max       1.000000     1.000000       1.000000      1.000000     1.000000   \n",
       "\n",
       "       PRC_FULL_PAYMENT  \n",
       "count       6622.000000  \n",
       "mean           0.191630  \n",
       "std            0.320648  \n",
       "min            0.000000  \n",
       "25%            0.000000  \n",
       "50%            0.000000  \n",
       "75%            0.250000  \n",
       "max            1.000000  "
      ]
     },
     "execution_count": 8,
     "metadata": {},
     "output_type": "execute_result"
    }
   ],
   "source": [
    "# load and normalize data\n",
    "url1 = \"https://raw.githubusercontent.com/zoutianxin1992/MarketingAnalyticsPython/main/Marketing%20Analytics%20in%20Python/2022/assignment%201/dataset/Q1_CreditCardBehavior.csv\"\n",
    "df = pd.read_csv(url1,index_col=0) # use the first column (customer id) as index\n",
    "df_normalized = (df-df.min())/(df.max()-df.min())  # By default, pandas calculate maximums and minimums by columns, which serves our purpose.\n",
    "df_normalized.describe()    # For both transformed variables, the minimum will be zero, and the maximum will be one."
   ]
  },
  {
   "cell_type": "code",
   "execution_count": 9,
   "id": "ba415c98-fc32-4427-b31d-1fc1674f22a2",
   "metadata": {},
   "outputs": [],
   "source": [
    "# Runs the k-mean algorithm to segment consumers into three segments\n",
    "kmeanSpec = KMeans(n_clusters = 4, n_init = 100)  # setup the k-mean model specs\n",
    "kmean_result = kmeanSpec.fit(df_normalized)    # apply the above model to the normalized data and store the result\n",
    "df[\"segment\"] = kmean_result.labels_ \n"
   ]
  },
  {
   "cell_type": "markdown",
   "id": "31e0f886-41b6-48ef-a744-6cc92be66075",
   "metadata": {
    "tags": []
   },
   "source": [
    "### (1) Explain why data normalization is needed before running the clustering analysis."
   ]
  },
  {
   "cell_type": "markdown",
   "id": "973792f9-2109-43b6-af04-bb19268b4d9f",
   "metadata": {},
   "source": [
    "See slides."
   ]
  },
  {
   "cell_type": "markdown",
   "id": "8703ab8c-52d6-4830-b6b6-f2b4eadb2262",
   "metadata": {},
   "source": [
    "### (2)How many consumers are there in each segment? In which segment did an average consumer in that segment make the most purchase in dollars with the credit card in the past six months? Which segment in total made the most purchase in dollars with the credit card in the past six months?"
   ]
  },
  {
   "cell_type": "code",
   "execution_count": 10,
   "id": "3f702808-9f9a-4747-bcaf-418cd14f48d6",
   "metadata": {},
   "outputs": [
    {
     "data": {
      "text/html": [
       "<div>\n",
       "<style scoped>\n",
       "    .dataframe tbody tr th:only-of-type {\n",
       "        vertical-align: middle;\n",
       "    }\n",
       "\n",
       "    .dataframe tbody tr th {\n",
       "        vertical-align: top;\n",
       "    }\n",
       "\n",
       "    .dataframe thead tr th {\n",
       "        text-align: left;\n",
       "    }\n",
       "\n",
       "    .dataframe thead tr:last-of-type th {\n",
       "        text-align: right;\n",
       "    }\n",
       "</style>\n",
       "<table border=\"1\" class=\"dataframe\">\n",
       "  <thead>\n",
       "    <tr>\n",
       "      <th></th>\n",
       "      <th>BALANCE</th>\n",
       "      <th>PURCHASES</th>\n",
       "      <th>PURCHASES_TRX</th>\n",
       "      <th>CREDIT_LIMIT</th>\n",
       "      <th>PAYMENTS</th>\n",
       "      <th>PRC_FULL_PAYMENT</th>\n",
       "      <th>segment</th>\n",
       "    </tr>\n",
       "    <tr>\n",
       "      <th></th>\n",
       "      <th>mean</th>\n",
       "      <th>mean</th>\n",
       "      <th>mean</th>\n",
       "      <th>mean</th>\n",
       "      <th>mean</th>\n",
       "      <th>mean</th>\n",
       "      <th>count</th>\n",
       "    </tr>\n",
       "    <tr>\n",
       "      <th>segment</th>\n",
       "      <th></th>\n",
       "      <th></th>\n",
       "      <th></th>\n",
       "      <th></th>\n",
       "      <th></th>\n",
       "      <th></th>\n",
       "      <th></th>\n",
       "    </tr>\n",
       "  </thead>\n",
       "  <tbody>\n",
       "    <tr>\n",
       "      <th>0</th>\n",
       "      <td>200.558928</td>\n",
       "      <td>2104.621614</td>\n",
       "      <td>26.532909</td>\n",
       "      <td>5258.625909</td>\n",
       "      <td>2258.861006</td>\n",
       "      <td>0.895413</td>\n",
       "      <td>942</td>\n",
       "    </tr>\n",
       "    <tr>\n",
       "      <th>1</th>\n",
       "      <td>4780.617787</td>\n",
       "      <td>2633.461639</td>\n",
       "      <td>35.759964</td>\n",
       "      <td>9743.161232</td>\n",
       "      <td>3923.388037</td>\n",
       "      <td>0.016178</td>\n",
       "      <td>1104</td>\n",
       "    </tr>\n",
       "    <tr>\n",
       "      <th>2</th>\n",
       "      <td>209.092067</td>\n",
       "      <td>1245.117967</td>\n",
       "      <td>17.935606</td>\n",
       "      <td>4279.958678</td>\n",
       "      <td>1624.478019</td>\n",
       "      <td>0.403208</td>\n",
       "      <td>792</td>\n",
       "    </tr>\n",
       "    <tr>\n",
       "      <th>3</th>\n",
       "      <td>965.641989</td>\n",
       "      <td>817.660817</td>\n",
       "      <td>13.869450</td>\n",
       "      <td>3136.695042</td>\n",
       "      <td>1083.101543</td>\n",
       "      <td>0.023334</td>\n",
       "      <td>3784</td>\n",
       "    </tr>\n",
       "  </tbody>\n",
       "</table>\n",
       "</div>"
      ],
      "text/plain": [
       "             BALANCE    PURCHASES PURCHASES_TRX CREDIT_LIMIT     PAYMENTS  \\\n",
       "                mean         mean          mean         mean         mean   \n",
       "segment                                                                     \n",
       "0         200.558928  2104.621614     26.532909  5258.625909  2258.861006   \n",
       "1        4780.617787  2633.461639     35.759964  9743.161232  3923.388037   \n",
       "2         209.092067  1245.117967     17.935606  4279.958678  1624.478019   \n",
       "3         965.641989   817.660817     13.869450  3136.695042  1083.101543   \n",
       "\n",
       "        PRC_FULL_PAYMENT segment  \n",
       "                    mean   count  \n",
       "segment                           \n",
       "0               0.895413     942  \n",
       "1               0.016178    1104  \n",
       "2               0.403208     792  \n",
       "3               0.023334    3784  "
      ]
     },
     "execution_count": 10,
     "metadata": {},
     "output_type": "execute_result"
    }
   ],
   "source": [
    "# summarize  variables\n",
    "   \n",
    "summary_table = df.groupby(\"segment\").aggregate({\n",
    "    \"BALANCE\":[\"mean\"],\n",
    "    \"PURCHASES\":[\"mean\"],       \n",
    "    \"PURCHASES_TRX\":[\"mean\"],\n",
    "    \"CREDIT_LIMIT\":[\"mean\"],  \n",
    "    \"PAYMENTS\":[\"mean\"],\n",
    "    \"PRC_FULL_PAYMENT\":[\"mean\"],  \n",
    "    \"segment\": \"count\"                                   \n",
    "}\n",
    ")\n",
    "summary_table"
   ]
  },
  {
   "cell_type": "markdown",
   "id": "b41deeef-917b-418e-a602-8fdf0805c70c",
   "metadata": {},
   "source": [
    "- Number of consumers of each segment: 792, 3784, 1104, 942 <br>\n",
    "- An average consumer in segment 2 makes the most purchase (2633 dollar). \n",
    "- Segment 1 spent the most in total (817 * 3784 = 3.09M dollars). Seg0: 1245 * 792 = 0.99M Seg2: 2633 * 1104 = 2.91M, Seg3: 2104 * 942 = 1.98M"
   ]
  },
  {
   "cell_type": "markdown",
   "id": "5320d0b6-230f-45c5-b50f-3a51635fbfb0",
   "metadata": {
    "tags": []
   },
   "source": [
    "### (3)\tHow many dollars does an average consumer in each segment spend per transaction on average?"
   ]
  },
  {
   "cell_type": "markdown",
   "id": "bd3c36ab-0c26-44da-b52e-b20d91e05e5e",
   "metadata": {},
   "source": [
    "Seg 0: 1245.11/17.93 = 69.44\n",
    "Seg 1: 817.66/13.87 = 58.95\n",
    "Seg 2: 2642.01/35.93 = 73.64\n",
    "Seg 3: 2104.62/26.53 = 79.32"
   ]
  },
  {
   "cell_type": "markdown",
   "id": "2f6d8109-5617-4b43-9751-64047b3bd2b4",
   "metadata": {},
   "source": [
    "### (4) Describe in word the unique characteristics of each segment that distinguishes it from other segments? Can you give a name for each segment (e.g., Microsoft named Xbox player segments as contenders, experts, etc.)? "
   ]
  },
  {
   "cell_type": "markdown",
   "id": "4b28b3d3-b053-4ad5-818c-56ead7d3955e",
   "metadata": {},
   "source": [
    "|Segment name | characteristics | Name|\n",
    "|---|---|---|\n",
    "|Seg 0 | low balance, medium spending, medium full-payment rate | frugal spenders|\n",
    "|Seg 1 | low spending, low transaction frequency, low full-payment rate, constitute majority of consumers | casual users|\n",
    "|Seg 2 | high spending, high spending frequency, high balance | premium shoppers|\n",
    "|Seg 3 | low balance, high spending, high credit limit, high full-payment rate | credit builders|"
   ]
  },
  {
   "cell_type": "markdown",
   "id": "02b5fb4c-d629-40b0-aa4b-3a20fb5a4aa0",
   "metadata": {},
   "source": [
    "### (5)\tIs dividing consumers into four segments a reasonable choice? Why? "
   ]
  },
  {
   "cell_type": "code",
   "execution_count": 11,
   "id": "b3ff1ead-2992-464c-9966-8881bca6297c",
   "metadata": {},
   "outputs": [
    {
     "data": {
      "text/plain": [
       "Text(0.5, 0, 'number of clusters')"
      ]
     },
     "execution_count": 11,
     "metadata": {},
     "output_type": "execute_result"
    },
    {
     "data": {
      "image/png": "[encoded data removed]",
      "text/plain": [
       "<Figure size 864x576 with 1 Axes>"
      ]
     },
     "metadata": {
      "needs_background": "light"
     },
     "output_type": "display_data"
    }
   ],
   "source": [
    "%matplotlib inline\n",
    "K = 10  # K is the maximum number of clusters we will check\n",
    "store_SSE = np.zeros(K)    # create a vector to store SSE's. The k-th entry will be the SSE with k clusters.\n",
    "\n",
    "for k in range(1, K+1):                                   # try k from 1 to K  \n",
    "    kmeanSpec = KMeans(n_clusters = k, n_init = 10)                        # set up k-mean model with k clusters\n",
    "    kmean_result = kmeanSpec.fit(df_normalized)               # run k-mean on normalized data\n",
    "    store_SSE[k-1] = kmeanSpec.inertia_                       # store the SSE (.inertia_) in the k-th entry of store_SSE\n",
    "\n",
    "plt.rcParams['figure.figsize'] = [12,8]  # set figure size to be 12*8 inch\n",
    "plt.plot(range(1, K+1), store_SSE)        \n",
    "plt.xticks(range(1, K+1), fontsize = 18)\n",
    "plt.yticks(fontsize = 18)\n",
    "plt.ylabel(\"SSE\",fontsize = 18)\n",
    "plt.xlabel(\"number of clusters\", fontsize = 18)"
   ]
  },
  {
   "cell_type": "markdown",
   "id": "91a09446-21cd-4e3b-8d33-013f6f99ca30",
   "metadata": {},
   "source": [
    "Four segments is not a bad choice, but two segments is better."
   ]
  },
  {
   "cell_type": "markdown",
   "id": "34c98d24-72ce-4992-a47c-97b10a09f9a4",
   "metadata": {},
   "source": [
    "## Question 2"
   ]
  },
  {
   "cell_type": "markdown",
   "id": "eeb3fc4d-4f3f-4489-9d7d-537751577e70",
   "metadata": {},
   "source": [
    "Roblox is a popular online gaming platform, where users can create their own games and play those created by other peer users. Dataset “Q2-RobloxTotalUsers.csv” records the total number of Roblox users (in millions) since its launch in 2016.  The data are bi-annual and have 11 periods. "
   ]
  },
  {
   "cell_type": "code",
   "execution_count": 12,
   "id": "5559ee79-84cb-410b-900f-0ff8bc32aa2d",
   "metadata": {},
   "outputs": [
    {
     "name": "stdout",
     "output_type": "stream",
     "text": [
      "<class 'pandas.core.frame.DataFrame'>\n",
      "Index: 11 entries, 2016_1H to 2021_1H\n",
      "Data columns (total 2 columns):\n",
      " #   Column  Non-Null Count  Dtype\n",
      "---  ------  --------------  -----\n",
      " 0   t       11 non-null     int64\n",
      " 1   A       11 non-null     int64\n",
      "dtypes: int64(2)\n",
      "memory usage: 264.0+ bytes\n"
     ]
    }
   ],
   "source": [
    "from scipy.optimize import least_squares                 # package to conduct Nonlinear least square \n",
    "\n",
    "# import historical data \n",
    "url2 = \"https://raw.githubusercontent.com/zoutianxin1992/MarketingAnalyticsPython/main/Marketing%20Analytics%20in%20Python/2022/assignment%201/dataset/Q2-RobloxTotalUsers.csv\"\n",
    "df2 = pd.read_csv(url2, index_col=0) \n",
    "# rename variables and create \"t\" variable\n",
    "df2.rename(columns = {\"Users\":\"A\",\"Period\":\"t\"} , inplace = True)  \n",
    "df2.info()"
   ]
  },
  {
   "cell_type": "code",
   "execution_count": 13,
   "id": "b5b7ca5a-0a3f-4d30-a09e-54be2b4929ca",
   "metadata": {},
   "outputs": [
    {
     "data": {
      "text/html": [
       "<div>\n",
       "<style scoped>\n",
       "    .dataframe tbody tr th:only-of-type {\n",
       "        vertical-align: middle;\n",
       "    }\n",
       "\n",
       "    .dataframe tbody tr th {\n",
       "        vertical-align: top;\n",
       "    }\n",
       "\n",
       "    .dataframe thead th {\n",
       "        text-align: right;\n",
       "    }\n",
       "</style>\n",
       "<table border=\"1\" class=\"dataframe\">\n",
       "  <thead>\n",
       "    <tr style=\"text-align: right;\">\n",
       "      <th></th>\n",
       "      <th>t</th>\n",
       "      <th>A</th>\n",
       "      <th>N</th>\n",
       "    </tr>\n",
       "    <tr>\n",
       "      <th>Year</th>\n",
       "      <th></th>\n",
       "      <th></th>\n",
       "      <th></th>\n",
       "    </tr>\n",
       "  </thead>\n",
       "  <tbody>\n",
       "    <tr>\n",
       "      <th>2016_1H</th>\n",
       "      <td>1</td>\n",
       "      <td>9</td>\n",
       "      <td>9.0</td>\n",
       "    </tr>\n",
       "    <tr>\n",
       "      <th>2016_2H</th>\n",
       "      <td>2</td>\n",
       "      <td>20</td>\n",
       "      <td>11.0</td>\n",
       "    </tr>\n",
       "    <tr>\n",
       "      <th>2017_1H</th>\n",
       "      <td>3</td>\n",
       "      <td>36</td>\n",
       "      <td>16.0</td>\n",
       "    </tr>\n",
       "    <tr>\n",
       "      <th>2017_2H</th>\n",
       "      <td>4</td>\n",
       "      <td>46</td>\n",
       "      <td>10.0</td>\n",
       "    </tr>\n",
       "  </tbody>\n",
       "</table>\n",
       "</div>"
      ],
      "text/plain": [
       "         t   A     N\n",
       "Year                \n",
       "2016_1H  1   9   9.0\n",
       "2016_2H  2  20  11.0\n",
       "2017_1H  3  36  16.0\n",
       "2017_2H  4  46  10.0"
      ]
     },
     "execution_count": 13,
     "metadata": {},
     "output_type": "execute_result"
    }
   ],
   "source": [
    "# calculate \"N\" from \"A\"\n",
    "df2[\"N\"] = df2[\"A\"].diff()\n",
    "# alternative code to calculate \"N\"\n",
    "    # df2[\"A-1\"]=df2[\"A\"].shift(1)\n",
    "    # df2[\"A-1\"].iat[0] = 0\n",
    "    # df2[\"N\"] = df2[\"A\"]-df2[\"A-1\"]\n",
    "    \n",
    "# N(1) is currently NaN, so we need to mannually set its value to A(1)\n",
    "df2[\"N\"].iat[0] = df2[\"A\"].iat[0]\n",
    "df2.head(4)"
   ]
  },
  {
   "cell_type": "code",
   "execution_count": 14,
   "id": "b9d4e2da-2824-4dd5-8e84-3f21c2e21633",
   "metadata": {},
   "outputs": [],
   "source": [
    "# define A_hat(t) and N_hat(t)\n",
    "\n",
    "def A_hat(t,p,q,M):  #t: time, params: the 1*3 array for (p,q,M)\n",
    "    return M * (1 - np.exp(-(p+q)*t))/(1 + q / p* np.exp(-(p+q)*t))\n",
    "\n",
    "# define N_hat(t) \n",
    "def N_hat(t,p,q,M):  \n",
    "    return A_hat(t,p,q,M) - A_hat(t-1,p,q,M)  # We can use the A_hat function to calculate N_hat instead of manually typing the formula"
   ]
  },
  {
   "cell_type": "code",
   "execution_count": 15,
   "id": "3ffbdcc1-0c48-4a86-975e-082de734c723",
   "metadata": {},
   "outputs": [],
   "source": [
    "# define prediction errors as a fucntion of p,q,M\n",
    "T = len(df2[\"N\"])   # number of periods for historical data\n",
    "\n",
    "def prediction_error(params):   # Note that we input p,q,M as a 1*3 array \"params.\" This is required by Python's NLS solver we will use. \n",
    "    p = params[0]\n",
    "    q = params[1]\n",
    "    M = params[2]\n",
    "    Nhat = [N_hat(t,p,q,M) for t in range(1,T+1)]            # Given p,q,M, generate Bass prediction for each period\n",
    "    return df2[\"N\"] - Nhat                                 # The output is an array of prediction error for each period"
   ]
  },
  {
   "cell_type": "code",
   "execution_count": 16,
   "id": "0cb6c82d-f535-4a7d-8efa-447d34d55383",
   "metadata": {},
   "outputs": [],
   "source": [
    "# estimate p,q,M using least_squares\n",
    "# Bass model requires 0<p<1, 0<q<1, M>0, so we need to add the constraints\n",
    "A_t = df2['N'].iat[T-1]          # calculate already adopters until period t\n",
    "params0 = [0.01,0.16,3*A_t]  # initial guess for p,q,M. Required by least_squares\n",
    "estim_results= least_squares(prediction_error, params0, bounds = (0,np.Inf) )"
   ]
  },
  {
   "cell_type": "code",
   "execution_count": 17,
   "id": "8173c07b-ef24-4f09-b629-41ded825d766",
   "metadata": {},
   "outputs": [
    {
     "name": "stdout",
     "output_type": "stream",
     "text": [
      "0.009110935867954743 0.18200334245151575 788.8449325631107\n"
     ]
    }
   ],
   "source": [
    "# store the estimation results\n",
    "p_estim = estim_results.x[0]\n",
    "q_estim = estim_results.x[1]\n",
    "M_estim = estim_results.x[2]\n",
    "print(p_estim, q_estim, M_estim)"
   ]
  },
  {
   "cell_type": "markdown",
   "id": "2de2f418-2865-4ca0-adbd-717d669ed1e3",
   "metadata": {},
   "source": [
    "### (1) Use Bass model to predict the total number of Roblox users in first half of 2023. \n"
   ]
  },
  {
   "cell_type": "code",
   "execution_count": 18,
   "id": "b701e63b-26bf-4171-9a7c-8055055c1ae6",
   "metadata": {},
   "outputs": [
    {
     "data": {
      "text/plain": [
       "348.24139211498147"
      ]
     },
     "execution_count": 18,
     "metadata": {},
     "output_type": "execute_result"
    }
   ],
   "source": [
    "# January 2023 is the 15th period\n",
    "A_hat(15,p_estim, q_estim, M_estim)"
   ]
  },
  {
   "cell_type": "markdown",
   "id": "172bc028-74ca-4f82-9521-a3c7e4de82d6",
   "metadata": {
    "tags": []
   },
   "source": [
    "### (2)\tCompare the values of p and q for your Bass model. What do you find? Explain how the product nature of Roblox may explain this finding."
   ]
  },
  {
   "cell_type": "markdown",
   "id": "6d8f8733-6b76-4bfc-847c-8ccfbcfe2dab",
   "metadata": {},
   "source": [
    "$p$ is much smaller than $q$, suggesting that the imitation effect is much stronger than innovation effect for Roblox's diffusion. Roblox exhibits a strong network effect because the number of games available on the platform depends on how many users create games, and the number of creaters in turn depends on how many gamers will play their game."
   ]
  },
  {
   "cell_type": "markdown",
   "id": "122bf27c-0da9-4f7a-bffc-8d972889777a",
   "metadata": {},
   "source": [
    "### (3)\tPlot new adoptions of Roblox, N(t), as a function of time for this new product for 30 periods (15 years). Report the total number of adopters at the end of period 30."
   ]
  },
  {
   "cell_type": "code",
   "execution_count": 19,
   "id": "8c6bb018-4748-4a19-a3f8-24912c6e53a5",
   "metadata": {},
   "outputs": [],
   "source": [
    "T_pred = 30  # number of periods for prediction\n",
    "predictA = [A_hat(t,p_estim,q_estim,M_estim) for t in range(1,T_pred+1)]  # predict already adopters for T periods\n",
    "predictN = [N_hat(t,p_estim,q_estim,M_estim) for t in range(1,T_pred+1)]  # predict new adopters for T periods"
   ]
  },
  {
   "cell_type": "code",
   "execution_count": 20,
   "id": "15a74cd2-98c8-4e9e-b425-e5548d716169",
   "metadata": {},
   "outputs": [
    {
     "data": {
      "text/plain": [
       "Text(0.5, 0, 'time')"
      ]
     },
     "execution_count": 20,
     "metadata": {},
     "output_type": "execute_result"
    },
    {
     "data": {
      "image/png": "[encoded data removed]",
      "text/plain": [
       "<Figure size 864x576 with 1 Axes>"
      ]
     },
     "metadata": {
      "needs_background": "light"
     },
     "output_type": "display_data"
    }
   ],
   "source": [
    "# Plot the trajectory of new adopters\n",
    "\n",
    "plt.rcParams['figure.figsize'] = [12,8]  # set figure size to be 12*8 inch\n",
    "plt.plot(range(1,T_pred+1),predictN)\n",
    "plt.scatter(range(1,T+1),df2[\"N\"],color = \"red\")    # Also plot historical sales data\n",
    "plt.xticks(range(1,T_pred+1,2), fontsize = 18)\n",
    "plt.yticks(fontsize = 18)\n",
    "plt.ylabel(\"New adopters\",fontsize = 18)\n",
    "plt.xlabel(\"time\", fontsize = 18)"
   ]
  },
  {
   "cell_type": "markdown",
   "id": "509f828c-2d9e-40fe-bcbd-fe27204dba29",
   "metadata": {},
   "source": [
    "Total adopters at the end of period 30."
   ]
  },
  {
   "cell_type": "code",
   "execution_count": 21,
   "id": "c0344c36-4234-4c51-8ba6-7644b2cccf0c",
   "metadata": {},
   "outputs": [
    {
     "data": {
      "text/plain": [
       "738.5503075995564"
      ]
     },
     "execution_count": 21,
     "metadata": {},
     "output_type": "execute_result"
    }
   ],
   "source": [
    "A_hat(30,p_estim,q_estim,M_estim)"
   ]
  },
  {
   "cell_type": "markdown",
   "id": "f24bfc4a-59bb-4c0f-8b1c-b918815f51ac",
   "metadata": {},
   "source": [
    "### (4)\tWhen will the total adoptions of Roblox surpass 50% of the total market size? "
   ]
  },
  {
   "cell_type": "code",
   "execution_count": 22,
   "id": "ad460cbe-3f88-4bed-ab56-a7919994eb27",
   "metadata": {},
   "outputs": [
    {
     "data": {
      "text/plain": [
       "array([False, False, False, False, False, False, False, False, False,\n",
       "       False, False, False, False, False, False, False,  True,  True,\n",
       "        True,  True,  True,  True,  True,  True,  True,  True,  True,\n",
       "        True,  True,  True])"
      ]
     },
     "execution_count": 22,
     "metadata": {},
     "output_type": "execute_result"
    }
   ],
   "source": [
    "halfMarket = M_estim*0.5\n",
    "# np.where(condition) returns the data indices where \"condition\" is True \n",
    "predictA > halfMarket"
   ]
  },
  {
   "cell_type": "code",
   "execution_count": 23,
   "id": "ae457812-4dd2-47e3-9771-aed75c274dd7",
   "metadata": {},
   "outputs": [
    {
     "data": {
      "text/plain": [
       "(array([16, 17, 18, 19, 20, 21, 22, 23, 24, 25, 26, 27, 28, 29],\n",
       "       dtype=int64),)"
      ]
     },
     "execution_count": 23,
     "metadata": {},
     "output_type": "execute_result"
    }
   ],
   "source": [
    "np.where(predictA > halfMarket)"
   ]
  },
  {
   "cell_type": "markdown",
   "id": "063e7c65-7d18-48db-a672-c8420dfa5872",
   "metadata": {},
   "source": [
    "So, the total adoption exceeds 50% of the total market size in period 17 (First half of 2024)."
   ]
  },
  {
   "cell_type": "code",
   "execution_count": null,
   "id": "5c3fcdf1-7813-44a6-bece-572bd3b6c7b5",
   "metadata": {},
   "outputs": [],
   "source": []
  },
  {
   "cell_type": "code",
   "execution_count": null,
   "id": "62f3b548-835b-4736-bd78-d7f7b11bd5d2",
   "metadata": {},
   "outputs": [],
   "source": []
  }
 ],
 "metadata": {
  "kernelspec": {
   "display_name": "Python 3 (ipykernel)",
   "language": "python",
   "name": "python3"
  },
  "language_info": {
   "codemirror_mode": {
    "name": "ipython",
    "version": 3
   },
   "file_extension": ".py",
   "mimetype": "text/x-python",
   "name": "python",
   "nbconvert_exporter": "python",
   "pygments_lexer": "ipython3",
   "version": "3.7.11"
  }
 },
 "nbformat": 4,
 "nbformat_minor": 5
}
