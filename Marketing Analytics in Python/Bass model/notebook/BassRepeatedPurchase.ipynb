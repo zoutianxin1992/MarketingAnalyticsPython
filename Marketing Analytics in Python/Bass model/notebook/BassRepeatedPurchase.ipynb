{
 "cells": [
  {
   "cell_type": "markdown",
   "id": "4c9c2d6f-fd6c-4698-b6f9-88dd98d3446f",
   "metadata": {},
   "source": [
    "# Accounting for repeated purchase in Bass model"
   ]
  },
  {
   "cell_type": "markdown",
   "id": "38eb26ce-6c99-4ca7-922c-6746cfacec92",
   "metadata": {},
   "source": [
    "Suppose that already adopters will purchase $k$ units of products each period after adoption. ($k$ can non-integer). The total sales of each period is: \n",
    "$$S(t) = N(t) +k*A(t-1)$$\n",
    "We typically have $S(t)$ in our data, but estimating Bass model requires us to know $N(t)$. <br>\n",
    "**Question: how to get $N(t)$ from $S(t)$?**"
   ]
  },
  {
   "cell_type": "markdown",
   "id": "f999b833-69c8-4279-8c1f-449934a3b64f",
   "metadata": {},
   "source": [
    "We can use an inductive method:\n",
    "- Create two arrays $A(t-1)$ and $N(t)$\n",
    "- When $t=1$, $A(t-1)=A(0)=0$ and $N(t)=N(1)=S(1)$\n",
    "- When $t>1$:\n",
    "    - Calculate $A(t-1) = A(t-2) + N(t-1)$.\n",
    "    - Calculate $N(t) = S(t)-k*A(t-1)$"
   ]
  },
  {
   "cell_type": "markdown",
   "id": "673826e6-11bd-4024-b0e7-412c640b20a4",
   "metadata": {},
   "source": [
    "Let us use the example of https://raw.githubusercontent.com/zoutianxin1992/MarketingAnalyticsPython/main/Marketing%20Analytics%20in%20Python/Bass%20model/Dataset/3-2-3%20repeated%20purcahse%201.csv. Suppose already adopters will buy 0.5 units of products every period after adoption (i.e. $k=0.5$)."
   ]
  },
  {
   "cell_type": "code",
   "execution_count": 55,
   "id": "3786b7bd-f83d-4251-a716-01c338dcda1b",
   "metadata": {},
   "outputs": [
    {
     "data": {
      "text/html": [
       "<div>\n",
       "<style scoped>\n",
       "    .dataframe tbody tr th:only-of-type {\n",
       "        vertical-align: middle;\n",
       "    }\n",
       "\n",
       "    .dataframe tbody tr th {\n",
       "        vertical-align: top;\n",
       "    }\n",
       "\n",
       "    .dataframe thead th {\n",
       "        text-align: right;\n",
       "    }\n",
       "</style>\n",
       "<table border=\"1\" class=\"dataframe\">\n",
       "  <thead>\n",
       "    <tr style=\"text-align: right;\">\n",
       "      <th></th>\n",
       "      <th>t</th>\n",
       "      <th>Sales</th>\n",
       "    </tr>\n",
       "  </thead>\n",
       "  <tbody>\n",
       "    <tr>\n",
       "      <th>0</th>\n",
       "      <td>1</td>\n",
       "      <td>0.100</td>\n",
       "    </tr>\n",
       "    <tr>\n",
       "      <th>1</th>\n",
       "      <td>2</td>\n",
       "      <td>0.200</td>\n",
       "    </tr>\n",
       "    <tr>\n",
       "      <th>2</th>\n",
       "      <td>3</td>\n",
       "      <td>0.324</td>\n",
       "    </tr>\n",
       "    <tr>\n",
       "      <th>3</th>\n",
       "      <td>4</td>\n",
       "      <td>0.498</td>\n",
       "    </tr>\n",
       "    <tr>\n",
       "      <th>4</th>\n",
       "      <td>5</td>\n",
       "      <td>0.750</td>\n",
       "    </tr>\n",
       "  </tbody>\n",
       "</table>\n",
       "</div>"
      ],
      "text/plain": [
       "   t  Sales\n",
       "0  1  0.100\n",
       "1  2  0.200\n",
       "2  3  0.324\n",
       "3  4  0.498\n",
       "4  5  0.750"
      ]
     },
     "execution_count": 55,
     "metadata": {},
     "output_type": "execute_result"
    }
   ],
   "source": [
    "import pandas as pd\n",
    "import numpy as np\n",
    "from matplotlib import pyplot as plt\n",
    "from scipy.optimize import least_squares               \n",
    "\n",
    "# import historical data \n",
    "url = \"https://raw.githubusercontent.com/zoutianxin1992/MarketingAnalyticsPython/main/Marketing%20Analytics%20in%20Python/Bass%20model/Dataset/3-2-3%20repeated%20purcahse%201.csv\"\n",
    "df = pd.read_csv(url) \n",
    "# Rename the variables to t and N_t\n",
    "df.head()"
   ]
  },
  {
   "cell_type": "markdown",
   "id": "a1922a5a-42b6-4f73-beaf-d1a2eacd4448",
   "metadata": {},
   "source": [
    "We will construct two two variables N(t) and A(t-1). Then fill in their values when $t=1$"
   ]
  },
  {
   "cell_type": "code",
   "execution_count": 56,
   "id": "3828872e-4f0b-44f3-b12f-5c6c83c1969f",
   "metadata": {},
   "outputs": [
    {
     "data": {
      "text/html": [
       "<div>\n",
       "<style scoped>\n",
       "    .dataframe tbody tr th:only-of-type {\n",
       "        vertical-align: middle;\n",
       "    }\n",
       "\n",
       "    .dataframe tbody tr th {\n",
       "        vertical-align: top;\n",
       "    }\n",
       "\n",
       "    .dataframe thead th {\n",
       "        text-align: right;\n",
       "    }\n",
       "</style>\n",
       "<table border=\"1\" class=\"dataframe\">\n",
       "  <thead>\n",
       "    <tr style=\"text-align: right;\">\n",
       "      <th></th>\n",
       "      <th>t</th>\n",
       "      <th>Sales</th>\n",
       "      <th>N</th>\n",
       "      <th>Atminus1</th>\n",
       "    </tr>\n",
       "  </thead>\n",
       "  <tbody>\n",
       "    <tr>\n",
       "      <th>0</th>\n",
       "      <td>1</td>\n",
       "      <td>0.100</td>\n",
       "      <td>0.1</td>\n",
       "      <td>0</td>\n",
       "    </tr>\n",
       "    <tr>\n",
       "      <th>1</th>\n",
       "      <td>2</td>\n",
       "      <td>0.200</td>\n",
       "      <td>0.0</td>\n",
       "      <td>0</td>\n",
       "    </tr>\n",
       "    <tr>\n",
       "      <th>2</th>\n",
       "      <td>3</td>\n",
       "      <td>0.324</td>\n",
       "      <td>0.0</td>\n",
       "      <td>0</td>\n",
       "    </tr>\n",
       "    <tr>\n",
       "      <th>3</th>\n",
       "      <td>4</td>\n",
       "      <td>0.498</td>\n",
       "      <td>0.0</td>\n",
       "      <td>0</td>\n",
       "    </tr>\n",
       "    <tr>\n",
       "      <th>4</th>\n",
       "      <td>5</td>\n",
       "      <td>0.750</td>\n",
       "      <td>0.0</td>\n",
       "      <td>0</td>\n",
       "    </tr>\n",
       "  </tbody>\n",
       "</table>\n",
       "</div>"
      ],
      "text/plain": [
       "   t  Sales    N  Atminus1\n",
       "0  1  0.100  0.1         0\n",
       "1  2  0.200  0.0         0\n",
       "2  3  0.324  0.0         0\n",
       "3  4  0.498  0.0         0\n",
       "4  5  0.750  0.0         0"
      ]
     },
     "execution_count": 56,
     "metadata": {},
     "output_type": "execute_result"
    }
   ],
   "source": [
    "T = len(df[\"Sales\"]) \n",
    "k=0.5\n",
    "df[[\"N\",\"Atminus1\"]] = 0\n",
    "df[\"N\"].iat[0] = df[\"Sales\"].iat[0]\n",
    "df.head()"
   ]
  },
  {
   "cell_type": "markdown",
   "id": "7518624a-f354-4cf2-9c14-35383c95e691",
   "metadata": {},
   "source": [
    "Next we calculate $N(t)$ and $A(t-1)$ inductively for $t=2,3,...,T$ . "
   ]
  },
  {
   "cell_type": "code",
   "execution_count": 57,
   "id": "41def7be-2427-4526-a558-e62e2615de60",
   "metadata": {},
   "outputs": [
    {
     "data": {
      "text/html": [
       "<div>\n",
       "<style scoped>\n",
       "    .dataframe tbody tr th:only-of-type {\n",
       "        vertical-align: middle;\n",
       "    }\n",
       "\n",
       "    .dataframe tbody tr th {\n",
       "        vertical-align: top;\n",
       "    }\n",
       "\n",
       "    .dataframe thead th {\n",
       "        text-align: right;\n",
       "    }\n",
       "</style>\n",
       "<table border=\"1\" class=\"dataframe\">\n",
       "  <thead>\n",
       "    <tr style=\"text-align: right;\">\n",
       "      <th></th>\n",
       "      <th>t</th>\n",
       "      <th>Sales</th>\n",
       "      <th>N</th>\n",
       "      <th>Atminus1</th>\n",
       "    </tr>\n",
       "  </thead>\n",
       "  <tbody>\n",
       "    <tr>\n",
       "      <th>0</th>\n",
       "      <td>1</td>\n",
       "      <td>0.100</td>\n",
       "      <td>0.10000</td>\n",
       "      <td>0.0000</td>\n",
       "    </tr>\n",
       "    <tr>\n",
       "      <th>1</th>\n",
       "      <td>2</td>\n",
       "      <td>0.200</td>\n",
       "      <td>0.15000</td>\n",
       "      <td>0.1000</td>\n",
       "    </tr>\n",
       "    <tr>\n",
       "      <th>2</th>\n",
       "      <td>3</td>\n",
       "      <td>0.324</td>\n",
       "      <td>0.19900</td>\n",
       "      <td>0.2500</td>\n",
       "    </tr>\n",
       "    <tr>\n",
       "      <th>3</th>\n",
       "      <td>4</td>\n",
       "      <td>0.498</td>\n",
       "      <td>0.27350</td>\n",
       "      <td>0.4490</td>\n",
       "    </tr>\n",
       "    <tr>\n",
       "      <th>4</th>\n",
       "      <td>5</td>\n",
       "      <td>0.750</td>\n",
       "      <td>0.38875</td>\n",
       "      <td>0.7225</td>\n",
       "    </tr>\n",
       "  </tbody>\n",
       "</table>\n",
       "</div>"
      ],
      "text/plain": [
       "   t  Sales        N  Atminus1\n",
       "0  1  0.100  0.10000    0.0000\n",
       "1  2  0.200  0.15000    0.1000\n",
       "2  3  0.324  0.19900    0.2500\n",
       "3  4  0.498  0.27350    0.4490\n",
       "4  5  0.750  0.38875    0.7225"
      ]
     },
     "execution_count": 57,
     "metadata": {},
     "output_type": "execute_result"
    }
   ],
   "source": [
    "for i in range(1,T):\n",
    "    df[\"Atminus1\"].iat[i] = df[\"Atminus1\"].iat[i-1] + df[\"N\"].iat[i-1]\n",
    "    df[\"N\"].iat[i] = df[\"Sales\"].iat[i] - k * df[\"Atminus1\"].iat[i]\n",
    "df.head()"
   ]
  },
  {
   "cell_type": "markdown",
   "id": "cbc11a55-d850-4dea-8d19-8de7b1a28a4d",
   "metadata": {},
   "source": [
    "Finally we estimate $p,q,M$ using the $N(t)$ data we just obtained."
   ]
  },
  {
   "cell_type": "code",
   "execution_count": 58,
   "id": "6d657aee-82cf-4497-a017-f0cf54804878",
   "metadata": {},
   "outputs": [],
   "source": [
    "# define A_hat(t) and N_hat(t)\n",
    "\n",
    "def A_hat(t,p,q,M):  #t: time, params: the 1*3 array for (p,q,M)\n",
    "    return M * (1 - np.exp(-(p+q)*t))/(1 + q / p* np.exp(-(p+q)*t))\n",
    "\n",
    "# define N_hat(t) \n",
    "def N_hat(t,p,q,M):  \n",
    "    return A_hat(t,p,q,M) - A_hat(t-1,p,q,M)  # We can use the A_hat function to calculate N_hat instead of manually typing the formula"
   ]
  },
  {
   "cell_type": "code",
   "execution_count": 59,
   "id": "4fc3fd2f-25ac-446b-9ab5-d5d8ae7d0c07",
   "metadata": {},
   "outputs": [],
   "source": [
    "def prediction_error(params):   # Note that we input p,q,M as a 1*3 array \"params.\" This is required by Python's NLS solver we will use. \n",
    "    p = params[0]\n",
    "    q = params[1]\n",
    "    M = params[2]\n",
    "    Nhat = [N_hat(t,p,q,M) for t in range(1,T+1)]            # Given p,q,M, generate Bass prediction for each period\n",
    "    return df[\"N\"] - Nhat                                 # The output is an array of prediction error for each period"
   ]
  },
  {
   "cell_type": "code",
   "execution_count": 60,
   "id": "9ee22086-4169-4724-bf82-7e4592b359c5",
   "metadata": {},
   "outputs": [
    {
     "name": "stdout",
     "output_type": "stream",
     "text": [
      "0.0008059713928382729 0.4203271972444095 69.26103440333753\n"
     ]
    }
   ],
   "source": [
    "# estimate p,q,M using least_squares\n",
    "# Bass model requires 0<p<1, 0<q<1, M>0, so we need to add the constraints\n",
    "A_t = sum(df['N'])           # calculate already adopters until period t\n",
    "params0 = [0.01,0.16,3*A_t]  # initial guess for p,q,M. Required by least_squares\n",
    "estim_results= least_squares(prediction_error, params0, bounds = (0,np.Inf) )\n",
    "\n",
    "#########################\n",
    "# prediction_error: an array of prediction errors for each period\n",
    "# param0: initial guesses\n",
    "# bounds: The bounds for p,q,M. In our case p,q,M>0\n",
    "#########################\n",
    "# store the estimation results\n",
    "p_estim = estim_results.x[0]\n",
    "q_estim = estim_results.x[1]\n",
    "M_estim = estim_results.x[2]\n",
    "print(p_estim, q_estim, M_estim)\n",
    "# Make sure \"success\" is True\n",
    "# \"x\" is the estimated parameters (what we want).\n",
    "# We don't worry about other parts for our purpose."
   ]
  },
  {
   "cell_type": "markdown",
   "id": "99097f9a-3e63-4bc3-b413-7936d5cda712",
   "metadata": {},
   "source": [
    "Then we can predict the new adoption, the total adoption, and the sales in any period with the estimated $p,q, M$. For example, if we predict the sales in period 20, we can use $S(20)=N(20)+k*A(19)$."
   ]
  },
  {
   "cell_type": "code",
   "execution_count": 63,
   "id": "7d8b6e7e-dabd-4aa0-a645-ea6a6c72b832",
   "metadata": {},
   "outputs": [
    {
     "data": {
      "text/plain": [
       "32.65280315494652"
      ]
     },
     "execution_count": 63,
     "metadata": {},
     "output_type": "execute_result"
    }
   ],
   "source": [
    "A_hat(19,p_estim,q_estim,M_estim)* k + N_hat(20,p_estim,q_estim,M_estim)"
   ]
  },
  {
   "cell_type": "code",
   "execution_count": null,
   "id": "d171a8f2-b9f6-4b96-82af-d5260d7f0fd2",
   "metadata": {},
   "outputs": [],
   "source": []
  }
 ],
 "metadata": {
  "kernelspec": {
   "display_name": "Python 3 (ipykernel)",
   "language": "python",
   "name": "python3"
  },
  "language_info": {
   "codemirror_mode": {
    "name": "ipython",
    "version": 3
   },
   "file_extension": ".py",
   "mimetype": "text/x-python",
   "name": "python",
   "nbconvert_exporter": "python",
   "pygments_lexer": "ipython3",
   "version": "3.7.0"
  }
 },
 "nbformat": 4,
 "nbformat_minor": 5
}
