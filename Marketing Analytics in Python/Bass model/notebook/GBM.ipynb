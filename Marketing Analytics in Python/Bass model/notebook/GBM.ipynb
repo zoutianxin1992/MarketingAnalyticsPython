{
 "cells": [
  {
   "cell_type": "markdown",
   "id": "da153045-8916-44fc-af10-da91fc8e3e04",
   "metadata": {},
   "source": [
    "# Generalized Bass Model"
   ]
  },
  {
   "cell_type": "markdown",
   "id": "7aa62faf-876e-4ea9-9b8b-92dd91207947",
   "metadata": {},
   "source": [
    "Generalized Bass model allows to estimate how marketing mix variables (e.g., price, ad spending) affect product diffussion.\n",
    "$$\\hat{A}(t) = M\\cdot\\frac{1-exp(-(p+q)t^*)}{1+\\frac{q}{p}exp(-(p+q)t^*)}$$ <br>\n",
    "where $t^* = t + b1\\cdot ln(\\frac{price(t)}{price(1)}) + p2\\cdot ln(\\frac{adv(t)}{adv(1)}) $ is the **effective diffussion time**.\n",
    "\n",
    "$$\\hat{N}(t) = \\hat{A}(t)-\\hat{A}(t-1)$$ <br>\n",
    "\n",
    "The only difference between GBM and vanilla BM is that GBM adjusts time to **\"effective time\"**, which accounts for the impact of marketing mixes. GBM also has two more parameters: price impact $b1$ and advertising impact $b2$. You need to have marketing mix data to use GBM, and it's ok to include only price or only advertising."
   ]
  },
  {
   "cell_type": "markdown",
   "id": "395355df-40d8-43c8-919f-9ffe1b68b772",
   "metadata": {},
   "source": [
    "## Estimate GBM"
   ]
  },
  {
   "cell_type": "code",
   "execution_count": 1,
   "id": "8d2ebda1-12c0-4250-bcdb-5d67c7ba84c2",
   "metadata": {},
   "outputs": [
    {
     "name": "stdout",
     "output_type": "stream",
     "text": [
      "<class 'pandas.core.frame.DataFrame'>\n",
      "RangeIndex: 12 entries, 0 to 11\n",
      "Data columns (total 4 columns):\n",
      " #   Column  Non-Null Count  Dtype  \n",
      "---  ------  --------------  -----  \n",
      " 0   Year    12 non-null     int64  \n",
      " 1   time    12 non-null     int64  \n",
      " 2   Sales   12 non-null     int64  \n",
      " 3   Price   12 non-null     float64\n",
      "dtypes: float64(1), int64(3)\n",
      "memory usage: 512.0 bytes\n"
     ]
    }
   ],
   "source": [
    "import pandas as pd\n",
    "import numpy as np\n",
    "from matplotlib import pyplot as plt\n",
    "from scipy.optimize import least_squares                 # package to conduct Nonlinear least square \n",
    "\n",
    "# import historical data \n",
    "url = \"https://raw.githubusercontent.com/zoutianxin1992/MarketingAnalyticsPython/main/Marketing%20Analytics%20in%20Python/Bass%20model/Dataset/3-3%20GBM%20floppy%20disk.csv\"\n",
    "df = pd.read_csv(url) \n",
    "df.info()"
   ]
  },
  {
   "cell_type": "code",
   "execution_count": 2,
   "id": "4a472a29-89d5-4c94-be4e-50eb575ff2c0",
   "metadata": {},
   "outputs": [
    {
     "data": {
      "text/html": [
       "<div>\n",
       "<style scoped>\n",
       "    .dataframe tbody tr th:only-of-type {\n",
       "        vertical-align: middle;\n",
       "    }\n",
       "\n",
       "    .dataframe tbody tr th {\n",
       "        vertical-align: top;\n",
       "    }\n",
       "\n",
       "    .dataframe thead th {\n",
       "        text-align: right;\n",
       "    }\n",
       "</style>\n",
       "<table border=\"1\" class=\"dataframe\">\n",
       "  <thead>\n",
       "    <tr style=\"text-align: right;\">\n",
       "      <th></th>\n",
       "      <th>Year</th>\n",
       "      <th>t</th>\n",
       "      <th>N</th>\n",
       "      <th>Price</th>\n",
       "    </tr>\n",
       "  </thead>\n",
       "  <tbody>\n",
       "    <tr>\n",
       "      <th>0</th>\n",
       "      <td>1987</td>\n",
       "      <td>1</td>\n",
       "      <td>315</td>\n",
       "      <td>869.84</td>\n",
       "    </tr>\n",
       "    <tr>\n",
       "      <th>1</th>\n",
       "      <td>1988</td>\n",
       "      <td>2</td>\n",
       "      <td>365</td>\n",
       "      <td>706.85</td>\n",
       "    </tr>\n",
       "    <tr>\n",
       "      <th>2</th>\n",
       "      <td>1989</td>\n",
       "      <td>3</td>\n",
       "      <td>426</td>\n",
       "      <td>697.18</td>\n",
       "    </tr>\n",
       "    <tr>\n",
       "      <th>3</th>\n",
       "      <td>1990</td>\n",
       "      <td>4</td>\n",
       "      <td>489</td>\n",
       "      <td>642.13</td>\n",
       "    </tr>\n",
       "    <tr>\n",
       "      <th>4</th>\n",
       "      <td>1991</td>\n",
       "      <td>5</td>\n",
       "      <td>530</td>\n",
       "      <td>581.13</td>\n",
       "    </tr>\n",
       "  </tbody>\n",
       "</table>\n",
       "</div>"
      ],
      "text/plain": [
       "   Year  t    N   Price\n",
       "0  1987  1  315  869.84\n",
       "1  1988  2  365  706.85\n",
       "2  1989  3  426  697.18\n",
       "3  1990  4  489  642.13\n",
       "4  1991  5  530  581.13"
      ]
     },
     "execution_count": 2,
     "metadata": {},
     "output_type": "execute_result"
    }
   ],
   "source": [
    "# Rename the variables to t, N, and Price\n",
    "df.rename(columns = {df.columns[1]:\"t\",df.columns[2]:\"N\",df.columns[3]:\"Price\"}, inplace = True)  # \"inplace\" apply the name change to df itself \n",
    "df.head()"
   ]
  },
  {
   "cell_type": "code",
   "execution_count": 3,
   "id": "9ec4e5ac-edd7-4851-9413-e0d39beb65eb",
   "metadata": {},
   "outputs": [],
   "source": [
    "# define A_hat(t) and N_hat(t)\n",
    "# Remember GBM has an additional variable (Price) and an additional parameter (b1)\n",
    "Price_1 = df['Price'][0]\n",
    "def A_hat(t,Price,p,q,M,b1):                                     # two more arguments: Price and b1\n",
    "    tstar = t + b1 * np.log(Price/Price_1)                        #tstar: effective time\n",
    "    return M * (1 - np.exp(-(p+q)*tstar))/(1 + q / p* np.exp(-(p+q)*tstar))    # the \"t\" in BM is replaced with \"t*\" in GBM\n",
    "\n",
    "# define N_hat(t) \n",
    "def N_hat(t,Price,p,q,M,b1):  \n",
    "    return A_hat(t,Price,p,q,M,b1) - A_hat(t-1,Price,p,q,M,b1)  # We can use the A_hat function instead of manually typing the formula"
   ]
  },
  {
   "cell_type": "code",
   "execution_count": 4,
   "id": "762ce8b2-dede-4230-95af-4ce10cc6eee4",
   "metadata": {},
   "outputs": [],
   "source": [
    "# define prediction errors as a fucntion of p,q,M, and b1\n",
    "T = len(df['N'])   # number of periods for historical data\n",
    "\n",
    "\n",
    "def prediction_error(params):   # Note that we input p,q,M,b1 as a 1*4 array \"params.\"  \n",
    "    p = params[0]\n",
    "    q = params[1]\n",
    "    M = params[2]\n",
    "    b1 = params[3]\n",
    "    Nhat = [N_hat(t,df['Price'][t-1],p,q,M,b1) for t in range(1,T+1)]            # Given p,q,M, generate Bass prediction for each period\n",
    "    return df['N'] - Nhat                                 # Prediction error for each period"
   ]
  },
  {
   "cell_type": "markdown",
   "id": "7244f5d6-3b10-4a50-9298-2dcad9e5f986",
   "metadata": {},
   "source": [
    "The initial guesses for $p ,q , M$ are the same for BM. The initial guesses are better to be set at -0.3 for $b1$ and 0.3 for $b2$."
   ]
  },
  {
   "cell_type": "code",
   "execution_count": 5,
   "id": "8ae22104-7fc4-4c14-9905-c29ce0e59896",
   "metadata": {},
   "outputs": [
    {
     "data": {
      "text/plain": [
       " active_mask: array([0, 0, 0, 0])\n",
       "        cost: 3098.774541714975\n",
       "         fun: array([ 18.81654458,  -3.00418784,   6.80748769,   9.08856308,\n",
       "        -9.62535932, -29.3701144 , -16.44843228, -14.52910416,\n",
       "        34.54675556,  40.59721649,   4.66195867, -37.48699244])\n",
       "        grad: array([ 1.06558110e+01,  1.25987685e+00, -1.78232529e-06, -1.72308813e-02])\n",
       "         jac: array([[-1.21933296e+04, -1.49072342e+02, -2.58349272e-02,\n",
       "        -0.00000000e+00],\n",
       "       [-1.42966146e+04, -7.10875179e+02, -3.20995684e-02,\n",
       "         1.00615006e+01],\n",
       "       [-1.53932378e+04, -1.16322467e+03, -3.65645274e-02,\n",
       "         1.10594910e+01],\n",
       "       [-1.61112167e+04, -1.73459448e+03, -4.18608043e-02,\n",
       "         1.49169071e+01],\n",
       "       [-1.59345334e+04, -2.30446141e+03, -4.70694118e-02,\n",
       "         1.79754015e+01],\n",
       "       [-1.49741794e+04, -2.67811392e+03, -5.07106435e-02,\n",
       "         1.53952989e+01],\n",
       "       [-1.32167885e+04, -2.92829321e+03, -5.36831667e-02,\n",
       "         1.18136984e+01],\n",
       "       [-1.06227268e+04, -3.00642154e+03, -5.57836258e-02,\n",
       "         7.25770663e+00],\n",
       "       [-7.25727319e+03, -2.86382166e+03, -5.67364980e-02,\n",
       "         1.38181758e+00],\n",
       "       [-1.90689343e+03, -2.28139838e+03, -5.57726028e-02,\n",
       "        -1.14707881e+01],\n",
       "       [ 2.14934332e+03, -1.59199030e+03, -5.32374080e-02,\n",
       "        -2.31282213e+01],\n",
       "       [ 5.57737756e+03, -8.17511047e+02, -4.94996707e-02,\n",
       "        -3.38800866e+01]])\n",
       "     message: '`ftol` termination condition is satisfied.'\n",
       "        nfev: 56\n",
       "        njev: 39\n",
       "  optimality: 0.2552700316553942\n",
       "      status: 2\n",
       "     success: True\n",
       "           x: array([ 2.39559458e-02,  1.76081164e-01,  1.14644589e+04, -2.65696994e+00])"
      ]
     },
     "execution_count": 5,
     "metadata": {},
     "output_type": "execute_result"
    }
   ],
   "source": [
    "# estimate p,q,M,b1 using least_squares\n",
    "# Bass model requires 0<p<1, 0<q<1, M>0, and b1<0 so we need to add the constraints\n",
    "A_t = sum(df['N'])           # calculate already adopters until period t\n",
    "params0 = [0.01,0.16,3*A_t,-0.3]  # initial guess for p,q,M, b1. Required by least_squares\n",
    "estim_results= least_squares(prediction_error, params0, bounds = ([0,0,0,-np.Inf],[np.Inf,np.Inf,np.Inf,0]) )\n",
    "estim_results\n",
    "#########################\n",
    "# prediction_error: an array of prediction errors for each period\n",
    "# param0: initial guesses\n",
    "# bounds: The bounds for p,q,M, and b1. In our case p,q,M>0 and b1<0"
   ]
  },
  {
   "cell_type": "code",
   "execution_count": 6,
   "id": "8b1499a5-2040-44ca-94cb-068ece9c0e87",
   "metadata": {},
   "outputs": [],
   "source": [
    "#store estimated parameters\n",
    "p_estim = estim_results.x[0]\n",
    "q_estim = estim_results.x[1]\n",
    "M_estim = estim_results.x[2]\n",
    "b1_estim = estim_results.x[3]"
   ]
  },
  {
   "cell_type": "markdown",
   "id": "88457a4b-3c0a-4c26-9898-c1b9a491cb68",
   "metadata": {},
   "source": [
    "## Predict future sales for the next three periods"
   ]
  },
  {
   "cell_type": "markdown",
   "id": "9449015c-7928-4cbe-9817-4e95a172b4d4",
   "metadata": {},
   "source": [
    "We will predict the sales for period 13-15, assuming the prices will be 350, 325, and 300."
   ]
  },
  {
   "cell_type": "code",
   "execution_count": 7,
   "id": "b3d83339-eae7-4e28-8a40-521c114c80f1",
   "metadata": {},
   "outputs": [],
   "source": [
    "# Appending the future prices to the historical price data\n",
    "Price_15 = df[\"Price\"].append(pd.Series([350,325,300]))\n",
    "T_pred = 15  # number of periods for prediction\n",
    "predictA = [A_hat(t,Price_15.iat[t-1],p_estim,q_estim,M_estim,b1_estim) for t in range(1,T_pred+1)]  # predict already adopters for T periods\n",
    "predictN = [N_hat(t,Price_15.iat[t-1],p_estim,q_estim,M_estim,b1_estim) for t in range(1,T_pred+1)]  # predict already adopters for T periods\n"
   ]
  },
  {
   "cell_type": "code",
   "execution_count": 8,
   "id": "4839ed0d-73ad-4edd-8246-7d82bc0c4edd",
   "metadata": {},
   "outputs": [
    {
     "data": {
      "text/plain": [
       "Text(0.5, 0, 'time')"
      ]
     },
     "execution_count": 8,
     "metadata": {},
     "output_type": "execute_result"
    },
    {
     "data": {
      "image/png": "[encoded data removed]",
      "text/plain": [
       "<Figure size 864x576 with 1 Axes>"
      ]
     },
     "metadata": {
      "needs_background": "light"
     },
     "output_type": "display_data"
    }
   ],
   "source": [
    "# Plot the trajectory of new adopters\n",
    "\n",
    "plt.rcParams['figure.figsize'] = [12,8]  # set figure size to be 12*8 inch\n",
    "plt.plot(range(1,T_pred+1),predictN)\n",
    "plt.scatter(range(1,T+1),df[\"N\"],color = \"red\")    # Also plot historical sales data\n",
    "plt.xticks(range(1,T_pred+1,2), fontsize = 18)\n",
    "plt.yticks(fontsize = 18)\n",
    "plt.ylabel(\"New adopters\",fontsize = 18)\n",
    "plt.xlabel(\"time\", fontsize = 18)"
   ]
  },
  {
   "cell_type": "code",
   "execution_count": null,
   "id": "086fb1c6-e560-4b56-a3eb-051953c94099",
   "metadata": {},
   "outputs": [],
   "source": []
  }
 ],
 "metadata": {
  "kernelspec": {
   "display_name": "Python 3 (ipykernel)",
   "language": "python",
   "name": "python3"
  },
  "language_info": {
   "codemirror_mode": {
    "name": "ipython",
    "version": 3
   },
   "file_extension": ".py",
   "mimetype": "text/x-python",
   "name": "python",
   "nbconvert_exporter": "python",
   "pygments_lexer": "ipython3",
   "version": "3.7.0"
  }
 },
 "nbformat": 4,
 "nbformat_minor": 5
}
