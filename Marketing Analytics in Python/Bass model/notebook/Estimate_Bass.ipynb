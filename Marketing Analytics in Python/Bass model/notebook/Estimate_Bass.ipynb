{
 "cells": [
  {
   "cell_type": "markdown",
   "id": "4d7da7b3-24df-4442-9b55-d7d5a50e8787",
   "metadata": {},
   "source": [
    "# Use historical sales data to predict future adoptions"
   ]
  },
  {
   "cell_type": "markdown",
   "id": "60d524c9-87b4-41e6-b1f1-ba5d5ba3b165",
   "metadata": {},
   "source": [
    "There are two steps:\n",
    "- Estimate the Bass model parameters ($p,q$, and $M$) with the historical sales data\n",
    "- Use the estimated $p,q$, and $M$ to forecast future adoptions"
   ]
  },
  {
   "cell_type": "markdown",
   "id": "2fcf7a9f-601c-40db-a7e6-ca31a7fcda8e",
   "metadata": {},
   "source": [
    "## Estimate $p,q, M$ "
   ]
  },
  {
   "cell_type": "markdown",
   "id": "dc85fb2b-b64c-41dc-b308-fadcfae336ff",
   "metadata": {},
   "source": [
    "Bass model prediction for new adopters\n",
    "$$\\hat{A}(t) = M\\cdot\\frac{1-exp(-(p+q)t)}{1+\\frac{q}{p}exp(-(p+q)t)}$$ <br>\n",
    "$$\\hat{N}(t) = \\hat{A}(t)-\\hat{A}(t-1)$$ <br>\n",
    "\n",
    "The goal is to find the predicted new adoption curve ($\\hat{N}(t)$) that fits the historical sales data ($N(t)$) the best. <br>\n",
    "\n",
    "Remember Bass model requires $p>0$, $q>0$, and $M>0$. We need to include the requirement in the estimation. "
   ]
  },
  {
   "cell_type": "code",
   "execution_count": 3,
   "id": "4330802a-a559-4f82-ae4a-94b6a6e605d5",
   "metadata": {},
   "outputs": [
    {
     "name": "stdout",
     "output_type": "stream",
     "text": [
      "<class 'pandas.core.frame.DataFrame'>\n",
      "RangeIndex: 14 entries, 0 to 13\n",
      "Data columns (total 2 columns):\n",
      " #   Column  Non-Null Count  Dtype  \n",
      "---  ------  --------------  -----  \n",
      " 0   t       14 non-null     int64  \n",
      " 1   N       14 non-null     float64\n",
      "dtypes: float64(1), int64(1)\n",
      "memory usage: 352.0 bytes\n"
     ]
    }
   ],
   "source": [
    "import pandas as pd\n",
    "import numpy as np\n",
    "from matplotlib import pyplot as plt\n",
    "from scipy.optimize import least_squares                 # package to conduct Nonlinear least square \n",
    "\n",
    "# import historical data \n",
    "url = \"https://raw.githubusercontent.com/zoutianxin1992/MarketingAnalyticsPython/main/Marketing%20Analytics%20in%20Python/Bass%20model/Dataset/3-2-1%20BassModelEstimatePQM.csv\"\n",
    "df = pd.read_csv(url) \n",
    "# Rename the variables to t and N_t\n",
    "df.rename(columns = {df.columns[0]:\"t\",df.columns[1]:\"N\"}, inplace = True)  # \"inplace\" apply the name change to df itself \n",
    "df.info()"
   ]
  },
  {
   "cell_type": "code",
   "execution_count": 9,
   "id": "8e82cf03-c544-4526-b89f-969905e0a9a4",
   "metadata": {},
   "outputs": [],
   "source": [
    "# define A_hat(t) and N_hat(t)\n",
    "\n",
    "def A_hat(t,p,q,M):  #t: time, params: the 1*3 array for (p,q,M)\n",
    "    return M * (1 - np.exp(-(p+q)*t))/(1 + q / p* np.exp(-(p+q)*t))\n",
    "\n",
    "# define N_hat(t) \n",
    "def N_hat(t,p,q,M):  \n",
    "    return A_hat(t,p,q,M) - A_hat(t-1,p,q,M)  # We can use the A_hat function to calculate N_hat instead of manually typing the formula"
   ]
  },
  {
   "cell_type": "markdown",
   "id": "9e071f57-f14b-494b-814b-1ab2a9e8f5e3",
   "metadata": {},
   "source": [
    "The formulae for SSE is \n",
    "$$SSE = \\sum_{t=1}^{T}(N(t)-\\hat{N}(t))^2$$\n",
    "\n",
    "Once we know the prediction errors $e(t) = N(t)-\\hat{N}(t)$ , we can calculate $SSE$. Remember the errors are determined by the Bass parameters ($p,q,M$) and the historical sales data($t,N(t)$). We already know the historical sales data, so the moving parts are $p,q,M$. In other words, the prediction errors $(e(t=1),e(t=2),...e(t=T))$ are a **function** of $p,q,M$.<br> \n",
    "\n",
    "Python's NLS algorithm requires us to tell it how to calculate the prediction error for each period. So, we first construct the prediction errors as a function of $p,q,M$."
   ]
  },
  {
   "cell_type": "code",
   "execution_count": 10,
   "id": "4f85cdf7-ac88-4d89-9206-09468609335b",
   "metadata": {},
   "outputs": [],
   "source": [
    "# define prediction errors as a fucntion of p,q,M\n",
    "T = len(df[\"N\"])   # number of periods for historical data\n",
    "\n",
    "\n",
    "def prediction_error(params):   # Note that we input p,q,M as a 1*3 array \"params.\" This is required by Python's NLS solver we will use. \n",
    "    p = params[0]\n",
    "    q = params[1]\n",
    "    M = params[2]\n",
    "    Nhat = [N_hat(t,p,q,M) for t in range(1,T+1)]            # Given p,q,M, generate Bass prediction for each period\n",
    "    return df[\"N\"] - Nhat                                 # The output is an array of prediction error for each period\n",
    "                            "
   ]
  },
  {
   "cell_type": "markdown",
   "id": "36dcdc85-8020-44e4-b84a-c87e94950672",
   "metadata": {},
   "source": [
    "Our next task is to find $p,q,M$ that minimizes $SSE$ using NLS. We will use `scipy.optimize.least_squares` NLS solver. The input for the solver is `prediction_error`. <br>\n",
    "[More information about least_squares](https://docs.scipy.org/doc/scipy/reference/generated/scipy.optimize.least_squares.html) <br>\n",
    "To implement the solver, we need to take initial guesses for $p,q,M$. A suggested guess for Bass model is $p=0.01$, $q=0.16$, and **$M$ is three times of the current already adopters $A(t)$**. The last point is important: the estimation is often wrong when the initial guess of $M$ is too small.    "
   ]
  },
  {
   "cell_type": "code",
   "execution_count": 12,
   "id": "42e4035d-781a-4ba8-949a-7d26fff13ad5",
   "metadata": {},
   "outputs": [
    {
     "data": {
      "text/plain": [
       " active_mask: array([0, 0, 0])\n",
       "        cost: 0.00016156520366259318\n",
       "         fun: array([-0.00040183, -0.0029655 , -0.0030614 , -0.00121481,  0.00069782,\n",
       "       -0.00312281,  0.00069343,  0.00886338,  0.00707477,  0.00178652,\n",
       "       -0.01237828,  0.00083781, -0.00123377,  0.00231464])\n",
       "        grad: array([9.44224809e-07, 2.96148624e-08, 3.96837492e-12])\n",
       "         jac: array([[-1.58726866e+02, -5.45037054e-02, -7.30027646e-04],\n",
       "       [-1.89375042e+02, -1.91372665e-01, -8.71803095e-04],\n",
       "       [-2.25799467e+02, -3.78889924e-01, -1.04078663e-03],\n",
       "       [-2.69028283e+02, -6.31125245e-01, -1.24206082e-03],\n",
       "       [-3.20246614e+02, -9.65440340e-01, -1.48159857e-03],\n",
       "       [-3.80809032e+02, -1.40310149e+00, -1.76639357e-03],\n",
       "       [-4.52247304e+02, -1.96994239e+00, -2.10459867e-03],\n",
       "       [-5.36269972e+02, -2.69704649e+00, -2.50566696e-03],\n",
       "       [-6.34748812e+02, -3.62139395e+00, -2.98048638e-03],\n",
       "       [-7.49685471e+02, -4.78638515e+00, -3.54149667e-03],\n",
       "       [-8.83149295e+02, -6.24210304e+00, -4.20276531e-03],\n",
       "       [-1.03717489e+03, -8.04511732e+00, -4.97999734e-03],\n",
       "       [-1.21360539e+03, -1.02575491e+01, -5.89044236e-03],\n",
       "       [-1.41386535e+03, -1.29450264e+01, -6.95264248e-03]])\n",
       "     message: '`gtol` termination condition is satisfied.'\n",
       "        nfev: 116\n",
       "        njev: 83\n",
       "  optimality: 5.283800931805009e-09\n",
       "      status: 1\n",
       "     success: True\n",
       "           x: array([6.67096428e-04, 1.78417203e-01, 1.45100117e+02])"
      ]
     },
     "execution_count": 12,
     "metadata": {},
     "output_type": "execute_result"
    }
   ],
   "source": [
    "# estimate p,q,M using least_squares\n",
    "# Bass model requires 0<p<1, 0<q<1, M>0, so we need to add the constraints\n",
    "A_t = sum(df['N'])           # calculate already adopters until period t\n",
    "params0 = [0.01,0.16,3*A_t]  # initial guess for p,q,M. Required by least_squares\n",
    "estim_results= least_squares(prediction_error, params0, bounds = (0,np.Inf) )\n",
    "\n",
    "#########################\n",
    "# prediction_error: an array of prediction errors for each period\n",
    "# param0: initial guesses\n",
    "# bounds: The bounds for p,q,M. In our case p,q,M>0\n",
    "#########################\n",
    "estim_results\n",
    "# Make sure \"success\" is True\n",
    "# \"x\" is the estimated parameters (what we want).\n",
    "# We don't worry about other parts for our purpose."
   ]
  },
  {
   "cell_type": "code",
   "execution_count": null,
   "id": "c179b7ea-d45f-4c5b-a0a6-bc8bccfeacd4",
   "metadata": {},
   "outputs": [
    {
     "name": "stdout",
     "output_type": "stream",
     "text": [
      "0.003114243811691814 0.8329212282234183 146.19040135452215\n"
     ]
    }
   ],
   "source": [
    "# store the estimation results\n",
    "p_estim = estim_results.x[0]\n",
    "q_estim = estim_results.x[1]\n",
    "M_estim = estim_results.x[2]\n",
    "print(p_estim, q_estim, M_estim)"
   ]
  },
  {
   "cell_type": "markdown",
   "id": "6eb94d1f-ba6f-499d-a788-39b6b8125413",
   "metadata": {
    "tags": []
   },
   "source": [
    "## Predict future sales "
   ]
  },
  {
   "cell_type": "code",
   "execution_count": 20,
   "id": "a0d3fa68-f2fc-47a0-9104-c2a968a56e71",
   "metadata": {},
   "outputs": [],
   "source": [
    "T_pred = 50  # number of periods for prediction\n",
    "predictA = [A_hat(t,p_estim,q_estim,M_estim) for t in range(1,T_pred+1)]  # predict already adopters for T periods\n",
    "predictN = [N_hat(t,p_estim,q_estim,M_estim) for t in range(1,T_pred+1)]  # predict new adopters for T periods"
   ]
  },
  {
   "cell_type": "code",
   "execution_count": 21,
   "id": "db3a0370-e903-4710-9ff0-50ec383845ed",
   "metadata": {},
   "outputs": [
    {
     "data": {
      "text/plain": [
       "Text(0.5, 0, 'time')"
      ]
     },
     "execution_count": 21,
     "metadata": {},
     "output_type": "execute_result"
    },
    {
     "data": {
      "image/png": "[encoded data removed]",
      "text/plain": [
       "<Figure size 864x576 with 1 Axes>"
      ]
     },
     "metadata": {
      "needs_background": "light"
     },
     "output_type": "display_data"
    }
   ],
   "source": [
    "# Plot the trajectory of new adopters\n",
    "\n",
    "plt.rcParams['figure.figsize'] = [12,8]  # set figure size to be 12*8 inch\n",
    "plt.plot(range(1,T_pred+1),predictN)\n",
    "plt.scatter(range(1,T+1),df[\"N\"],color = \"red\")    # Also plot historical sales data\n",
    "plt.xticks(range(1,T_pred+1,2), fontsize = 18)\n",
    "plt.yticks(fontsize = 18)\n",
    "plt.ylabel(\"New adopters\",fontsize = 18)\n",
    "plt.xlabel(\"time\", fontsize = 18)"
   ]
  },
  {
   "cell_type": "markdown",
   "id": "3a40309c-72d3-49fb-a63d-bbb966703d2d",
   "metadata": {},
   "source": [
    "## Recap"
   ]
  }
 ],
 "metadata": {
  "kernelspec": {
   "display_name": "Python 3",
   "language": "python",
   "name": "python3"
  },
  "language_info": {
   "codemirror_mode": {
    "name": "ipython",
    "version": 3
   },
   "file_extension": ".py",
   "mimetype": "text/x-python",
   "name": "python",
   "nbconvert_exporter": "python",
   "pygments_lexer": "ipython3",
   "version": "3.8.11"
  }
 },
 "nbformat": 4,
 "nbformat_minor": 5
}
