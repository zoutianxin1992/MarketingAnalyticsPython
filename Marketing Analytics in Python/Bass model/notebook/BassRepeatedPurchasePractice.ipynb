{
 "cells": [
  {
   "cell_type": "markdown",
   "id": "4c9c2d6f-fd6c-4698-b6f9-88dd98d3446f",
   "metadata": {},
   "source": [
    "# Practice -- Accounting for repeated purchase in Bass model"
   ]
  },
  {
   "cell_type": "markdown",
   "id": "38eb26ce-6c99-4ca7-922c-6746cfacec92",
   "metadata": {},
   "source": [
    "Suppose that already adopters will purchase $k$ units of products each period after adoption. ($k$ can non-integer). The total sales of each period is: \n",
    "$$S(t) = N(t) +k*A(t-1)$$\n",
    "We typically have $S(t)$ in our data, but estimating Bass model requires us to know $N(t)$. <br>\n",
    "**Question: how to get $N(t)$ from $S(t)$?**"
   ]
  },
  {
   "cell_type": "markdown",
   "id": "f999b833-69c8-4279-8c1f-449934a3b64f",
   "metadata": {},
   "source": [
    "We can use an inductive method:\n",
    "- Create two arrays $A(t-1)$ and $N(t)$\n",
    "- When $t=1$, $A(t-1)=A(0)=0$ and $N(t)=N(1)=S(1)$\n",
    "- When $t>1$:\n",
    "    - Calculate $A(t-1) = A(t-2) + N(t-1)$.\n",
    "    - Calculate $N(t) = S(t)-k*A(t-1)$"
   ]
  },
  {
   "cell_type": "markdown",
   "id": "673826e6-11bd-4024-b0e7-412c640b20a4",
   "metadata": {},
   "source": [
    "Estimate the Bass model with the sales data https://raw.githubusercontent.com/zoutianxin1992/MarketingAnalyticsPython/main/Marketing%20Analytics%20in%20Python/Bass%20model/Dataset/3-2-4%20repeated%20purchase%202.csv. Suppose already adopters will buy 2.5 units of products every period after adoption. Then predict the total sales for the first 30 periods and plot the predicted sales."
   ]
  },
  {
   "cell_type": "code",
   "execution_count": null,
   "id": "3786b7bd-f83d-4251-a716-01c338dcda1b",
   "metadata": {},
   "outputs": [],
   "source": [
    "import pandas as pd\n",
    "import numpy as np\n",
    "from matplotlib import pyplot as plt\n",
    "from scipy.optimize import least_squares               \n",
    "\n",
    "# import historical data \n",
    "url = \"https://raw.githubusercontent.com/zoutianxin1992/MarketingAnalyticsPython/main/Marketing%20Analytics%20in%20Python/Bass%20model/Dataset/3-2-4%20repeated%20purchase%202.csv\"\n",
    "df = pd.read_csv(url) \n",
    "# Rename the variables to t and N_t\n",
    "df.head()"
   ]
  },
  {
   "cell_type": "markdown",
   "id": "a1922a5a-42b6-4f73-beaf-d1a2eacd4448",
   "metadata": {},
   "source": [
    "Construct two two variables N(t) and A(t-1). Then fill in their values when $t=1$"
   ]
  },
  {
   "cell_type": "code",
   "execution_count": null,
   "id": "3bc92154-e8ce-4a7c-86af-b0ec0388fb4a",
   "metadata": {},
   "outputs": [],
   "source": [
    "# your code here"
   ]
  },
  {
   "cell_type": "code",
   "execution_count": null,
   "id": "3828872e-4f0b-44f3-b12f-5c6c83c1969f",
   "metadata": {
    "jupyter": {
     "source_hidden": true
    },
    "tags": []
   },
   "outputs": [],
   "source": [
    "# T = len(df[\"Sales\"]) \n",
    "# k=2.5\n",
    "# df[[\"N\",\"Atminus1\"]] = 0\n",
    "# df[\"N\"].iat[0] = df[\"Sales\"].iat[0]\n",
    "# df.head()"
   ]
  },
  {
   "cell_type": "markdown",
   "id": "7518624a-f354-4cf2-9c14-35383c95e691",
   "metadata": {},
   "source": [
    "Next we calculate $N(t)$ and $A(t-1)$ inductively for $t=2,3,...,T$ . "
   ]
  },
  {
   "cell_type": "code",
   "execution_count": null,
   "id": "edded3d8-1943-4e23-b165-5943ed2da267",
   "metadata": {},
   "outputs": [],
   "source": [
    "# your code here"
   ]
  },
  {
   "cell_type": "code",
   "execution_count": null,
   "id": "41def7be-2427-4526-a558-e62e2615de60",
   "metadata": {
    "jupyter": {
     "source_hidden": true
    },
    "tags": []
   },
   "outputs": [],
   "source": [
    "# for i in range(1,T):\n",
    "#     df[\"Atminus1\"].iat[i] = df[\"Atminus1\"].iat[i-1] + df[\"N\"].iat[i-1]\n",
    "#     df[\"N\"].iat[i] = df[\"Sales\"].iat[i] - k * df[\"Atminus1\"].iat[i]\n",
    "# df.head()"
   ]
  },
  {
   "cell_type": "markdown",
   "id": "cbc11a55-d850-4dea-8d19-8de7b1a28a4d",
   "metadata": {},
   "source": [
    "Finally we estimate $p,q,M$ using the $N(t)$ data we just obtained."
   ]
  },
  {
   "cell_type": "code",
   "execution_count": null,
   "id": "e7505f11-29cb-4510-9532-75eba2b850c6",
   "metadata": {},
   "outputs": [],
   "source": [
    "# your code here"
   ]
  },
  {
   "cell_type": "code",
   "execution_count": null,
   "id": "6d657aee-82cf-4497-a017-f0cf54804878",
   "metadata": {
    "jupyter": {
     "source_hidden": true
    },
    "tags": []
   },
   "outputs": [],
   "source": [
    "# # define A_hat(t) and N_hat(t)\n",
    "\n",
    "# def A_hat(t,p,q,M):  #t: time, params: the 1*3 array for (p,q,M)\n",
    "#     return M * (1 - np.exp(-(p+q)*t))/(1 + q / p* np.exp(-(p+q)*t))\n",
    "\n",
    "# # define N_hat(t) \n",
    "# def N_hat(t,p,q,M):  \n",
    "#     return A_hat(t,p,q,M) - A_hat(t-1,p,q,M)  # We can use the A_hat function to calculate N_hat instead of manually typing the formula"
   ]
  },
  {
   "cell_type": "code",
   "execution_count": null,
   "id": "4fc3fd2f-25ac-446b-9ab5-d5d8ae7d0c07",
   "metadata": {
    "jupyter": {
     "source_hidden": true
    },
    "tags": []
   },
   "outputs": [],
   "source": [
    "# def prediction_error(params):   # Note that we input p,q,M as a 1*3 array \"params.\" This is required by Python's NLS solver we will use. \n",
    "#     p = params[0]\n",
    "#     q = params[1]\n",
    "#     M = params[2]\n",
    "#     Nhat = [N_hat(t,p,q,M) for t in range(1,T+1)]            # Given p,q,M, generate Bass prediction for each period\n",
    "#     return df[\"N\"] - Nhat                                 # The output is an array of prediction error for each period"
   ]
  },
  {
   "cell_type": "code",
   "execution_count": null,
   "id": "9ee22086-4169-4724-bf82-7e4592b359c5",
   "metadata": {
    "jupyter": {
     "source_hidden": true
    },
    "tags": []
   },
   "outputs": [],
   "source": [
    "# # estimate p,q,M using least_squares\n",
    "# # Bass model requires 0<p<1, 0<q<1, M>0, so we need to add the constraints\n",
    "# A_t = sum(df['N'])           # calculate already adopters until period t\n",
    "# params0 = [0.01,0.16,3*A_t]  # initial guess for p,q,M. Required by least_squares\n",
    "# estim_results= least_squares(prediction_error, params0, bounds = (0,np.Inf) )\n",
    "\n",
    "# # store the estimation results\n",
    "# p_estim = estim_results.x[0]\n",
    "# q_estim = estim_results.x[1]\n",
    "# M_estim = estim_results.x[2]\n",
    "# print(p_estim, q_estim, M_estim)\n"
   ]
  },
  {
   "cell_type": "markdown",
   "id": "fde3297d-1ba3-4f1b-9dba-756b30b55f4e",
   "metadata": {},
   "source": [
    "Predict the sales $S(t)$ for the first 30 periods and show them in a plot."
   ]
  },
  {
   "cell_type": "code",
   "execution_count": null,
   "id": "11b73886-4d54-47e1-afe4-f44609f5e7d3",
   "metadata": {},
   "outputs": [],
   "source": [
    "# your code here"
   ]
  },
  {
   "cell_type": "code",
   "execution_count": null,
   "id": "7d8b6e7e-dabd-4aa0-a645-ea6a6c72b832",
   "metadata": {
    "jupyter": {
     "source_hidden": true
    },
    "tags": []
   },
   "outputs": [],
   "source": [
    "# # predict future sales\n",
    "# T_pred = 50  # number of periods for prediction\n",
    "# predictS = [k*A_hat(t-1,p_estim,q_estim,M_estim)+N_hat(t,p_estim,q_estim,M_estim) for t in range(1,T_pred+1)] \n",
    "# # Plot the trajectory of sales\n",
    "\n",
    "# plt.rcParams['figure.figsize'] = [12,8]  # set figure size to be 12*8 inch\n",
    "# plt.plot(range(1,T_pred+1),predictS)\n",
    "# plt.scatter(range(1,T+1),df[\"Sales\"],color = \"red\")    # Also plot historical sales data\n",
    "# plt.xticks(range(1,T_pred+1,2), fontsize = 18)\n",
    "# plt.yticks(fontsize = 18)\n",
    "# plt.ylabel(\"Total sales\",fontsize = 18)\n",
    "# plt.xlabel(\"time\", fontsize = 18)"
   ]
  },
  {
   "cell_type": "code",
   "execution_count": null,
   "id": "f2055a7d-8857-4962-b4a1-ee05cf9b13eb",
   "metadata": {},
   "outputs": [],
   "source": []
  }
 ],
 "metadata": {
  "kernelspec": {
   "display_name": "Python 3 (ipykernel)",
   "language": "python",
   "name": "python3"
  },
  "language_info": {
   "codemirror_mode": {
    "name": "ipython",
    "version": 3
   },
   "file_extension": ".py",
   "mimetype": "text/x-python",
   "name": "python",
   "nbconvert_exporter": "python",
   "pygments_lexer": "ipython3",
   "version": "3.7.0"
  }
 },
 "nbformat": 4,
 "nbformat_minor": 5
}
